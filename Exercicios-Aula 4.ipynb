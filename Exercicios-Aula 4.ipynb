{
 "cells": [
  {
   "cell_type": "markdown",
   "metadata": {},
   "source": [
    "# Exercicios da aula 4 do curso de DS"
   ]
  },
  {
   "cell_type": "code",
   "execution_count": 22,
   "metadata": {
    "ExecuteTime": {
     "end_time": "2021-02-13T15:00:55.505949Z",
     "start_time": "2021-02-13T15:00:55.488355Z"
    }
   },
   "outputs": [],
   "source": [
    "import pandas as pd"
   ]
  },
  {
   "cell_type": "code",
   "execution_count": 23,
   "metadata": {
    "ExecuteTime": {
     "end_time": "2021-02-13T15:00:55.696479Z",
     "start_time": "2021-02-13T15:00:55.509244Z"
    }
   },
   "outputs": [],
   "source": [
    "# corrigi a notação cientifica\n",
    "pd.set_option('display.float', lambda x: '%.3f' %x)"
   ]
  },
  {
   "cell_type": "code",
   "execution_count": 24,
   "metadata": {
    "ExecuteTime": {
     "end_time": "2021-02-13T15:00:56.327402Z",
     "start_time": "2021-02-13T15:00:55.701466Z"
    }
   },
   "outputs": [],
   "source": [
    "# importando o datset e elimina os 'id' duplicados\n",
    "data = pd.read_csv('dataset/kc_house_data.csv')\n",
    "data.drop_duplicates(subset='id', keep='last', inplace=True)"
   ]
  },
  {
   "cell_type": "code",
   "execution_count": 25,
   "metadata": {
    "ExecuteTime": {
     "end_time": "2021-02-13T15:00:56.477229Z",
     "start_time": "2021-02-13T15:00:56.332097Z"
    }
   },
   "outputs": [
    {
     "data": {
      "text/html": [
       "<div>\n",
       "<style scoped>\n",
       "    .dataframe tbody tr th:only-of-type {\n",
       "        vertical-align: middle;\n",
       "    }\n",
       "\n",
       "    .dataframe tbody tr th {\n",
       "        vertical-align: top;\n",
       "    }\n",
       "\n",
       "    .dataframe thead th {\n",
       "        text-align: right;\n",
       "    }\n",
       "</style>\n",
       "<table border=\"1\" class=\"dataframe\">\n",
       "  <thead>\n",
       "    <tr style=\"text-align: right;\">\n",
       "      <th></th>\n",
       "      <th>id</th>\n",
       "      <th>date</th>\n",
       "      <th>price</th>\n",
       "      <th>bedrooms</th>\n",
       "      <th>bathrooms</th>\n",
       "      <th>sqft_living</th>\n",
       "      <th>sqft_lot</th>\n",
       "      <th>floors</th>\n",
       "      <th>waterfront</th>\n",
       "      <th>view</th>\n",
       "      <th>...</th>\n",
       "      <th>grade</th>\n",
       "      <th>sqft_above</th>\n",
       "      <th>sqft_basement</th>\n",
       "      <th>yr_built</th>\n",
       "      <th>yr_renovated</th>\n",
       "      <th>zipcode</th>\n",
       "      <th>lat</th>\n",
       "      <th>long</th>\n",
       "      <th>sqft_living15</th>\n",
       "      <th>sqft_lot15</th>\n",
       "    </tr>\n",
       "  </thead>\n",
       "  <tbody>\n",
       "    <tr>\n",
       "      <th>0</th>\n",
       "      <td>7129300520</td>\n",
       "      <td>20141013T000000</td>\n",
       "      <td>221900.000</td>\n",
       "      <td>3</td>\n",
       "      <td>1.000</td>\n",
       "      <td>1180</td>\n",
       "      <td>5650</td>\n",
       "      <td>1.000</td>\n",
       "      <td>0</td>\n",
       "      <td>0</td>\n",
       "      <td>...</td>\n",
       "      <td>7</td>\n",
       "      <td>1180</td>\n",
       "      <td>0</td>\n",
       "      <td>1955</td>\n",
       "      <td>0</td>\n",
       "      <td>98178</td>\n",
       "      <td>47.511</td>\n",
       "      <td>-122.257</td>\n",
       "      <td>1340</td>\n",
       "      <td>5650</td>\n",
       "    </tr>\n",
       "    <tr>\n",
       "      <th>1</th>\n",
       "      <td>6414100192</td>\n",
       "      <td>20141209T000000</td>\n",
       "      <td>538000.000</td>\n",
       "      <td>3</td>\n",
       "      <td>2.250</td>\n",
       "      <td>2570</td>\n",
       "      <td>7242</td>\n",
       "      <td>2.000</td>\n",
       "      <td>0</td>\n",
       "      <td>0</td>\n",
       "      <td>...</td>\n",
       "      <td>7</td>\n",
       "      <td>2170</td>\n",
       "      <td>400</td>\n",
       "      <td>1951</td>\n",
       "      <td>1991</td>\n",
       "      <td>98125</td>\n",
       "      <td>47.721</td>\n",
       "      <td>-122.319</td>\n",
       "      <td>1690</td>\n",
       "      <td>7639</td>\n",
       "    </tr>\n",
       "    <tr>\n",
       "      <th>2</th>\n",
       "      <td>5631500400</td>\n",
       "      <td>20150225T000000</td>\n",
       "      <td>180000.000</td>\n",
       "      <td>2</td>\n",
       "      <td>1.000</td>\n",
       "      <td>770</td>\n",
       "      <td>10000</td>\n",
       "      <td>1.000</td>\n",
       "      <td>0</td>\n",
       "      <td>0</td>\n",
       "      <td>...</td>\n",
       "      <td>6</td>\n",
       "      <td>770</td>\n",
       "      <td>0</td>\n",
       "      <td>1933</td>\n",
       "      <td>0</td>\n",
       "      <td>98028</td>\n",
       "      <td>47.738</td>\n",
       "      <td>-122.233</td>\n",
       "      <td>2720</td>\n",
       "      <td>8062</td>\n",
       "    </tr>\n",
       "    <tr>\n",
       "      <th>3</th>\n",
       "      <td>2487200875</td>\n",
       "      <td>20141209T000000</td>\n",
       "      <td>604000.000</td>\n",
       "      <td>4</td>\n",
       "      <td>3.000</td>\n",
       "      <td>1960</td>\n",
       "      <td>5000</td>\n",
       "      <td>1.000</td>\n",
       "      <td>0</td>\n",
       "      <td>0</td>\n",
       "      <td>...</td>\n",
       "      <td>7</td>\n",
       "      <td>1050</td>\n",
       "      <td>910</td>\n",
       "      <td>1965</td>\n",
       "      <td>0</td>\n",
       "      <td>98136</td>\n",
       "      <td>47.521</td>\n",
       "      <td>-122.393</td>\n",
       "      <td>1360</td>\n",
       "      <td>5000</td>\n",
       "    </tr>\n",
       "    <tr>\n",
       "      <th>4</th>\n",
       "      <td>1954400510</td>\n",
       "      <td>20150218T000000</td>\n",
       "      <td>510000.000</td>\n",
       "      <td>3</td>\n",
       "      <td>2.000</td>\n",
       "      <td>1680</td>\n",
       "      <td>8080</td>\n",
       "      <td>1.000</td>\n",
       "      <td>0</td>\n",
       "      <td>0</td>\n",
       "      <td>...</td>\n",
       "      <td>8</td>\n",
       "      <td>1680</td>\n",
       "      <td>0</td>\n",
       "      <td>1987</td>\n",
       "      <td>0</td>\n",
       "      <td>98074</td>\n",
       "      <td>47.617</td>\n",
       "      <td>-122.045</td>\n",
       "      <td>1800</td>\n",
       "      <td>7503</td>\n",
       "    </tr>\n",
       "  </tbody>\n",
       "</table>\n",
       "<p>5 rows × 21 columns</p>\n",
       "</div>"
      ],
      "text/plain": [
       "           id             date      price  bedrooms  bathrooms  sqft_living  \\\n",
       "0  7129300520  20141013T000000 221900.000         3      1.000         1180   \n",
       "1  6414100192  20141209T000000 538000.000         3      2.250         2570   \n",
       "2  5631500400  20150225T000000 180000.000         2      1.000          770   \n",
       "3  2487200875  20141209T000000 604000.000         4      3.000         1960   \n",
       "4  1954400510  20150218T000000 510000.000         3      2.000         1680   \n",
       "\n",
       "   sqft_lot  floors  waterfront  view  ...  grade  sqft_above  sqft_basement  \\\n",
       "0      5650   1.000           0     0  ...      7        1180              0   \n",
       "1      7242   2.000           0     0  ...      7        2170            400   \n",
       "2     10000   1.000           0     0  ...      6         770              0   \n",
       "3      5000   1.000           0     0  ...      7        1050            910   \n",
       "4      8080   1.000           0     0  ...      8        1680              0   \n",
       "\n",
       "   yr_built  yr_renovated  zipcode    lat     long  sqft_living15  sqft_lot15  \n",
       "0      1955             0    98178 47.511 -122.257           1340        5650  \n",
       "1      1951          1991    98125 47.721 -122.319           1690        7639  \n",
       "2      1933             0    98028 47.738 -122.233           2720        8062  \n",
       "3      1965             0    98136 47.521 -122.393           1360        5000  \n",
       "4      1987             0    98074 47.617 -122.045           1800        7503  \n",
       "\n",
       "[5 rows x 21 columns]"
      ]
     },
     "execution_count": 25,
     "metadata": {},
     "output_type": "execute_result"
    }
   ],
   "source": [
    "# lendo o datset\n",
    "data.head()"
   ]
  },
  {
   "cell_type": "markdown",
   "metadata": {},
   "source": [
    "## Novas Perguntas"
   ]
  },
  {
   "cell_type": "code",
   "execution_count": 26,
   "metadata": {
    "ExecuteTime": {
     "end_time": "2021-02-13T15:00:56.518354Z",
     "start_time": "2021-02-13T15:00:56.480818Z"
    }
   },
   "outputs": [],
   "source": [
    "# 1) Qual é a média do preço de compra dos imóveis por nível?\n",
    "# Nível 0 --> Preço entre R$ 0 e R$321.950\n",
    "# Nível 1 --> Preço entre R$321.950 e R$ 450.000\n",
    "# Nível 2 --> Preço entre R$ 450.950 e R$ 645.000\n",
    "# Nível 3 --> Preço acima de R$ 645.000"
   ]
  },
  {
   "cell_type": "code",
   "execution_count": 27,
   "metadata": {
    "ExecuteTime": {
     "end_time": "2021-02-13T15:00:56.690329Z",
     "start_time": "2021-02-13T15:00:56.522343Z"
    }
   },
   "outputs": [
    {
     "data": {
      "text/html": [
       "<div>\n",
       "<style scoped>\n",
       "    .dataframe tbody tr th:only-of-type {\n",
       "        vertical-align: middle;\n",
       "    }\n",
       "\n",
       "    .dataframe tbody tr th {\n",
       "        vertical-align: top;\n",
       "    }\n",
       "\n",
       "    .dataframe thead th {\n",
       "        text-align: right;\n",
       "    }\n",
       "</style>\n",
       "<table border=\"1\" class=\"dataframe\">\n",
       "  <thead>\n",
       "    <tr style=\"text-align: right;\">\n",
       "      <th></th>\n",
       "      <th>id</th>\n",
       "      <th>date</th>\n",
       "      <th>price</th>\n",
       "      <th>bedrooms</th>\n",
       "      <th>bathrooms</th>\n",
       "      <th>sqft_living</th>\n",
       "      <th>sqft_lot</th>\n",
       "      <th>floors</th>\n",
       "      <th>waterfront</th>\n",
       "      <th>view</th>\n",
       "      <th>...</th>\n",
       "      <th>sqft_above</th>\n",
       "      <th>sqft_basement</th>\n",
       "      <th>yr_built</th>\n",
       "      <th>yr_renovated</th>\n",
       "      <th>zipcode</th>\n",
       "      <th>lat</th>\n",
       "      <th>long</th>\n",
       "      <th>sqft_living15</th>\n",
       "      <th>sqft_lot15</th>\n",
       "      <th>nivel</th>\n",
       "    </tr>\n",
       "  </thead>\n",
       "  <tbody>\n",
       "    <tr>\n",
       "      <th>0</th>\n",
       "      <td>7129300520</td>\n",
       "      <td>20141013T000000</td>\n",
       "      <td>221900.000</td>\n",
       "      <td>3</td>\n",
       "      <td>1.000</td>\n",
       "      <td>1180</td>\n",
       "      <td>5650</td>\n",
       "      <td>1.000</td>\n",
       "      <td>0</td>\n",
       "      <td>0</td>\n",
       "      <td>...</td>\n",
       "      <td>1180</td>\n",
       "      <td>0</td>\n",
       "      <td>1955</td>\n",
       "      <td>0</td>\n",
       "      <td>98178</td>\n",
       "      <td>47.511</td>\n",
       "      <td>-122.257</td>\n",
       "      <td>1340</td>\n",
       "      <td>5650</td>\n",
       "      <td>nivel_0</td>\n",
       "    </tr>\n",
       "    <tr>\n",
       "      <th>1</th>\n",
       "      <td>6414100192</td>\n",
       "      <td>20141209T000000</td>\n",
       "      <td>538000.000</td>\n",
       "      <td>3</td>\n",
       "      <td>2.250</td>\n",
       "      <td>2570</td>\n",
       "      <td>7242</td>\n",
       "      <td>2.000</td>\n",
       "      <td>0</td>\n",
       "      <td>0</td>\n",
       "      <td>...</td>\n",
       "      <td>2170</td>\n",
       "      <td>400</td>\n",
       "      <td>1951</td>\n",
       "      <td>1991</td>\n",
       "      <td>98125</td>\n",
       "      <td>47.721</td>\n",
       "      <td>-122.319</td>\n",
       "      <td>1690</td>\n",
       "      <td>7639</td>\n",
       "      <td>nivel_2</td>\n",
       "    </tr>\n",
       "    <tr>\n",
       "      <th>2</th>\n",
       "      <td>5631500400</td>\n",
       "      <td>20150225T000000</td>\n",
       "      <td>180000.000</td>\n",
       "      <td>2</td>\n",
       "      <td>1.000</td>\n",
       "      <td>770</td>\n",
       "      <td>10000</td>\n",
       "      <td>1.000</td>\n",
       "      <td>0</td>\n",
       "      <td>0</td>\n",
       "      <td>...</td>\n",
       "      <td>770</td>\n",
       "      <td>0</td>\n",
       "      <td>1933</td>\n",
       "      <td>0</td>\n",
       "      <td>98028</td>\n",
       "      <td>47.738</td>\n",
       "      <td>-122.233</td>\n",
       "      <td>2720</td>\n",
       "      <td>8062</td>\n",
       "      <td>nivel_0</td>\n",
       "    </tr>\n",
       "    <tr>\n",
       "      <th>3</th>\n",
       "      <td>2487200875</td>\n",
       "      <td>20141209T000000</td>\n",
       "      <td>604000.000</td>\n",
       "      <td>4</td>\n",
       "      <td>3.000</td>\n",
       "      <td>1960</td>\n",
       "      <td>5000</td>\n",
       "      <td>1.000</td>\n",
       "      <td>0</td>\n",
       "      <td>0</td>\n",
       "      <td>...</td>\n",
       "      <td>1050</td>\n",
       "      <td>910</td>\n",
       "      <td>1965</td>\n",
       "      <td>0</td>\n",
       "      <td>98136</td>\n",
       "      <td>47.521</td>\n",
       "      <td>-122.393</td>\n",
       "      <td>1360</td>\n",
       "      <td>5000</td>\n",
       "      <td>nivel_2</td>\n",
       "    </tr>\n",
       "    <tr>\n",
       "      <th>4</th>\n",
       "      <td>1954400510</td>\n",
       "      <td>20150218T000000</td>\n",
       "      <td>510000.000</td>\n",
       "      <td>3</td>\n",
       "      <td>2.000</td>\n",
       "      <td>1680</td>\n",
       "      <td>8080</td>\n",
       "      <td>1.000</td>\n",
       "      <td>0</td>\n",
       "      <td>0</td>\n",
       "      <td>...</td>\n",
       "      <td>1680</td>\n",
       "      <td>0</td>\n",
       "      <td>1987</td>\n",
       "      <td>0</td>\n",
       "      <td>98074</td>\n",
       "      <td>47.617</td>\n",
       "      <td>-122.045</td>\n",
       "      <td>1800</td>\n",
       "      <td>7503</td>\n",
       "      <td>nivel_2</td>\n",
       "    </tr>\n",
       "    <tr>\n",
       "      <th>5</th>\n",
       "      <td>7237550310</td>\n",
       "      <td>20140512T000000</td>\n",
       "      <td>1225000.000</td>\n",
       "      <td>4</td>\n",
       "      <td>4.500</td>\n",
       "      <td>5420</td>\n",
       "      <td>101930</td>\n",
       "      <td>1.000</td>\n",
       "      <td>0</td>\n",
       "      <td>0</td>\n",
       "      <td>...</td>\n",
       "      <td>3890</td>\n",
       "      <td>1530</td>\n",
       "      <td>2001</td>\n",
       "      <td>0</td>\n",
       "      <td>98053</td>\n",
       "      <td>47.656</td>\n",
       "      <td>-122.005</td>\n",
       "      <td>4760</td>\n",
       "      <td>101930</td>\n",
       "      <td>nivel_2</td>\n",
       "    </tr>\n",
       "    <tr>\n",
       "      <th>6</th>\n",
       "      <td>1321400060</td>\n",
       "      <td>20140627T000000</td>\n",
       "      <td>257500.000</td>\n",
       "      <td>3</td>\n",
       "      <td>2.250</td>\n",
       "      <td>1715</td>\n",
       "      <td>6819</td>\n",
       "      <td>2.000</td>\n",
       "      <td>0</td>\n",
       "      <td>0</td>\n",
       "      <td>...</td>\n",
       "      <td>1715</td>\n",
       "      <td>0</td>\n",
       "      <td>1995</td>\n",
       "      <td>0</td>\n",
       "      <td>98003</td>\n",
       "      <td>47.310</td>\n",
       "      <td>-122.327</td>\n",
       "      <td>2238</td>\n",
       "      <td>6819</td>\n",
       "      <td>nivel_0</td>\n",
       "    </tr>\n",
       "    <tr>\n",
       "      <th>7</th>\n",
       "      <td>2008000270</td>\n",
       "      <td>20150115T000000</td>\n",
       "      <td>291850.000</td>\n",
       "      <td>3</td>\n",
       "      <td>1.500</td>\n",
       "      <td>1060</td>\n",
       "      <td>9711</td>\n",
       "      <td>1.000</td>\n",
       "      <td>0</td>\n",
       "      <td>0</td>\n",
       "      <td>...</td>\n",
       "      <td>1060</td>\n",
       "      <td>0</td>\n",
       "      <td>1963</td>\n",
       "      <td>0</td>\n",
       "      <td>98198</td>\n",
       "      <td>47.410</td>\n",
       "      <td>-122.315</td>\n",
       "      <td>1650</td>\n",
       "      <td>9711</td>\n",
       "      <td>nivel_0</td>\n",
       "    </tr>\n",
       "    <tr>\n",
       "      <th>8</th>\n",
       "      <td>2414600126</td>\n",
       "      <td>20150415T000000</td>\n",
       "      <td>229500.000</td>\n",
       "      <td>3</td>\n",
       "      <td>1.000</td>\n",
       "      <td>1780</td>\n",
       "      <td>7470</td>\n",
       "      <td>1.000</td>\n",
       "      <td>0</td>\n",
       "      <td>0</td>\n",
       "      <td>...</td>\n",
       "      <td>1050</td>\n",
       "      <td>730</td>\n",
       "      <td>1960</td>\n",
       "      <td>0</td>\n",
       "      <td>98146</td>\n",
       "      <td>47.512</td>\n",
       "      <td>-122.337</td>\n",
       "      <td>1780</td>\n",
       "      <td>8113</td>\n",
       "      <td>nivel_0</td>\n",
       "    </tr>\n",
       "    <tr>\n",
       "      <th>9</th>\n",
       "      <td>3793500160</td>\n",
       "      <td>20150312T000000</td>\n",
       "      <td>323000.000</td>\n",
       "      <td>3</td>\n",
       "      <td>2.500</td>\n",
       "      <td>1890</td>\n",
       "      <td>6560</td>\n",
       "      <td>2.000</td>\n",
       "      <td>0</td>\n",
       "      <td>0</td>\n",
       "      <td>...</td>\n",
       "      <td>1890</td>\n",
       "      <td>0</td>\n",
       "      <td>2003</td>\n",
       "      <td>0</td>\n",
       "      <td>98038</td>\n",
       "      <td>47.368</td>\n",
       "      <td>-122.031</td>\n",
       "      <td>2390</td>\n",
       "      <td>7570</td>\n",
       "      <td>nivel_1</td>\n",
       "    </tr>\n",
       "  </tbody>\n",
       "</table>\n",
       "<p>10 rows × 22 columns</p>\n",
       "</div>"
      ],
      "text/plain": [
       "           id             date       price  bedrooms  bathrooms  sqft_living  \\\n",
       "0  7129300520  20141013T000000  221900.000         3      1.000         1180   \n",
       "1  6414100192  20141209T000000  538000.000         3      2.250         2570   \n",
       "2  5631500400  20150225T000000  180000.000         2      1.000          770   \n",
       "3  2487200875  20141209T000000  604000.000         4      3.000         1960   \n",
       "4  1954400510  20150218T000000  510000.000         3      2.000         1680   \n",
       "5  7237550310  20140512T000000 1225000.000         4      4.500         5420   \n",
       "6  1321400060  20140627T000000  257500.000         3      2.250         1715   \n",
       "7  2008000270  20150115T000000  291850.000         3      1.500         1060   \n",
       "8  2414600126  20150415T000000  229500.000         3      1.000         1780   \n",
       "9  3793500160  20150312T000000  323000.000         3      2.500         1890   \n",
       "\n",
       "   sqft_lot  floors  waterfront  view  ...  sqft_above  sqft_basement  \\\n",
       "0      5650   1.000           0     0  ...        1180              0   \n",
       "1      7242   2.000           0     0  ...        2170            400   \n",
       "2     10000   1.000           0     0  ...         770              0   \n",
       "3      5000   1.000           0     0  ...        1050            910   \n",
       "4      8080   1.000           0     0  ...        1680              0   \n",
       "5    101930   1.000           0     0  ...        3890           1530   \n",
       "6      6819   2.000           0     0  ...        1715              0   \n",
       "7      9711   1.000           0     0  ...        1060              0   \n",
       "8      7470   1.000           0     0  ...        1050            730   \n",
       "9      6560   2.000           0     0  ...        1890              0   \n",
       "\n",
       "   yr_built  yr_renovated  zipcode    lat     long  sqft_living15  sqft_lot15  \\\n",
       "0      1955             0    98178 47.511 -122.257           1340        5650   \n",
       "1      1951          1991    98125 47.721 -122.319           1690        7639   \n",
       "2      1933             0    98028 47.738 -122.233           2720        8062   \n",
       "3      1965             0    98136 47.521 -122.393           1360        5000   \n",
       "4      1987             0    98074 47.617 -122.045           1800        7503   \n",
       "5      2001             0    98053 47.656 -122.005           4760      101930   \n",
       "6      1995             0    98003 47.310 -122.327           2238        6819   \n",
       "7      1963             0    98198 47.410 -122.315           1650        9711   \n",
       "8      1960             0    98146 47.512 -122.337           1780        8113   \n",
       "9      2003             0    98038 47.368 -122.031           2390        7570   \n",
       "\n",
       "     nivel  \n",
       "0  nivel_0  \n",
       "1  nivel_2  \n",
       "2  nivel_0  \n",
       "3  nivel_2  \n",
       "4  nivel_2  \n",
       "5  nivel_2  \n",
       "6  nivel_0  \n",
       "7  nivel_0  \n",
       "8  nivel_0  \n",
       "9  nivel_1  \n",
       "\n",
       "[10 rows x 22 columns]"
      ]
     },
     "execution_count": 27,
     "metadata": {},
     "output_type": "execute_result"
    }
   ],
   "source": [
    "# Construindo os níveis dos imóveis de acordo com seus valores\n",
    "data['nivel']= 'nivel'\n",
    "preco_nivel_0 = data.loc[(data['price']>= 0) & (data['price'] < 321950), 'nivel'] = 'nivel_0'\n",
    "preco_nivel_1 = data.loc[(data['price']>= 321950) & (data['price'] < 450000), 'nivel'] = 'nivel_1'\n",
    "preco_nivel_2 = data.loc[(data['price']>= 450000) & (data['price'] < 6450000), 'nivel'] = 'nivel_2'\n",
    "preco_nivel_3 = data.loc[(data['price']>= 6450000), 'nivel'] = 'nivel_3'\n",
    "data.head(10)"
   ]
  },
  {
   "cell_type": "code",
   "execution_count": 28,
   "metadata": {
    "ExecuteTime": {
     "end_time": "2021-02-13T15:00:56.757218Z",
     "start_time": "2021-02-13T15:00:56.693418Z"
    }
   },
   "outputs": [
    {
     "data": {
      "text/html": [
       "<div>\n",
       "<style scoped>\n",
       "    .dataframe tbody tr th:only-of-type {\n",
       "        vertical-align: middle;\n",
       "    }\n",
       "\n",
       "    .dataframe tbody tr th {\n",
       "        vertical-align: top;\n",
       "    }\n",
       "\n",
       "    .dataframe thead th {\n",
       "        text-align: right;\n",
       "    }\n",
       "</style>\n",
       "<table border=\"1\" class=\"dataframe\">\n",
       "  <thead>\n",
       "    <tr style=\"text-align: right;\">\n",
       "      <th></th>\n",
       "      <th>nivel</th>\n",
       "      <th>price</th>\n",
       "    </tr>\n",
       "  </thead>\n",
       "  <tbody>\n",
       "    <tr>\n",
       "      <th>0</th>\n",
       "      <td>nivel_0</td>\n",
       "      <td>252567.936</td>\n",
       "    </tr>\n",
       "    <tr>\n",
       "      <th>1</th>\n",
       "      <td>nivel_1</td>\n",
       "      <td>383628.258</td>\n",
       "    </tr>\n",
       "    <tr>\n",
       "      <th>2</th>\n",
       "      <td>nivel_2</td>\n",
       "      <td>756740.359</td>\n",
       "    </tr>\n",
       "    <tr>\n",
       "      <th>3</th>\n",
       "      <td>nivel_3</td>\n",
       "      <td>7215833.333</td>\n",
       "    </tr>\n",
       "  </tbody>\n",
       "</table>\n",
       "</div>"
      ],
      "text/plain": [
       "     nivel       price\n",
       "0  nivel_0  252567.936\n",
       "1  nivel_1  383628.258\n",
       "2  nivel_2  756740.359\n",
       "3  nivel_3 7215833.333"
      ]
     },
     "execution_count": 28,
     "metadata": {},
     "output_type": "execute_result"
    }
   ],
   "source": [
    "# Calculando o valor médio por cada nível de casa\n",
    "by_nivel = data[['price', 'nivel']].groupby('nivel').mean().reset_index()\n",
    "by_nivel"
   ]
  },
  {
   "cell_type": "code",
   "execution_count": 29,
   "metadata": {
    "ExecuteTime": {
     "end_time": "2021-02-13T15:00:56.815115Z",
     "start_time": "2021-02-13T15:00:56.764534Z"
    }
   },
   "outputs": [],
   "source": [
    "# 2) Qual é a média do preço de compra dos imóveis por size?\n",
    "# Size 0 --> Tamanho entre 0 e 1427 sqft\n",
    "# Size 1 --> Tamanho entre 1427 e 1910 sqft\n",
    "# Size 2 --> Tamanho entre 1910 e 2550 sqft\n",
    "# Size 3 --> Tamanho acima de 2550 sqft"
   ]
  },
  {
   "cell_type": "code",
   "execution_count": 30,
   "metadata": {
    "ExecuteTime": {
     "end_time": "2021-02-13T15:00:56.896349Z",
     "start_time": "2021-02-13T15:00:56.821100Z"
    }
   },
   "outputs": [],
   "source": [
    "# Construimos uma coluna 'size' que definie o tamanho das casas de acordo com 'sqm_living'\n",
    "# Dividimos as  casas em dategorias 'size'\n",
    "\n",
    "data['size'] = 'size'\n",
    "size_0 = data.loc[(data['sqft_living'] >= 0) & (data['sqft_living'] < 1427),'size'] = 'size_0'\n",
    "size_1 = data.loc[(data['sqft_living'] >= 1427) & (data['sqft_living'] < 1910),'size'] = 'size_1'\n",
    "size_2 = data.loc[(data['sqft_living'] >= 1910) & (data['sqft_living'] < 2550),'size'] = 'size_2'\n",
    "size_3 = data.loc[(data['sqft_living'] >= 2550),'size'] = 'size_3'"
   ]
  },
  {
   "cell_type": "code",
   "execution_count": 31,
   "metadata": {
    "ExecuteTime": {
     "end_time": "2021-02-13T15:00:56.989634Z",
     "start_time": "2021-02-13T15:00:56.899340Z"
    }
   },
   "outputs": [
    {
     "data": {
      "text/html": [
       "<div>\n",
       "<style scoped>\n",
       "    .dataframe tbody tr th:only-of-type {\n",
       "        vertical-align: middle;\n",
       "    }\n",
       "\n",
       "    .dataframe tbody tr th {\n",
       "        vertical-align: top;\n",
       "    }\n",
       "\n",
       "    .dataframe thead th {\n",
       "        text-align: right;\n",
       "    }\n",
       "</style>\n",
       "<table border=\"1\" class=\"dataframe\">\n",
       "  <thead>\n",
       "    <tr style=\"text-align: right;\">\n",
       "      <th></th>\n",
       "      <th>size</th>\n",
       "      <th>price</th>\n",
       "    </tr>\n",
       "  </thead>\n",
       "  <tbody>\n",
       "    <tr>\n",
       "      <th>0</th>\n",
       "      <td>size_0</td>\n",
       "      <td>340564.452</td>\n",
       "    </tr>\n",
       "    <tr>\n",
       "      <th>1</th>\n",
       "      <td>size_1</td>\n",
       "      <td>422169.266</td>\n",
       "    </tr>\n",
       "    <tr>\n",
       "      <th>2</th>\n",
       "      <td>size_2</td>\n",
       "      <td>520813.791</td>\n",
       "    </tr>\n",
       "    <tr>\n",
       "      <th>3</th>\n",
       "      <td>size_3</td>\n",
       "      <td>877491.748</td>\n",
       "    </tr>\n",
       "  </tbody>\n",
       "</table>\n",
       "</div>"
      ],
      "text/plain": [
       "     size      price\n",
       "0  size_0 340564.452\n",
       "1  size_1 422169.266\n",
       "2  size_2 520813.791\n",
       "3  size_3 877491.748"
      ]
     },
     "execution_count": 31,
     "metadata": {},
     "output_type": "execute_result"
    }
   ],
   "source": [
    "data[['size','price']].groupby('size').mean().reset_index()"
   ]
  },
  {
   "cell_type": "code",
   "execution_count": 32,
   "metadata": {
    "ExecuteTime": {
     "end_time": "2021-02-13T15:00:57.063918Z",
     "start_time": "2021-02-13T15:00:56.992627Z"
    }
   },
   "outputs": [],
   "source": [
    "# 3) Adicione as seguintes informações ao conjunto de dados original\n",
    "# Place ID: Identificação da localização\n",
    "# OSM Type: Open Street Map Type\n",
    "# Country: Nome do país\n",
    "# Country code: código do país"
   ]
  },
  {
   "cell_type": "code",
   "execution_count": 33,
   "metadata": {
    "ExecuteTime": {
     "end_time": "2021-02-13T15:00:59.169163Z",
     "start_time": "2021-02-13T15:00:57.066910Z"
    }
   },
   "outputs": [],
   "source": [
    "# Fazendo uma requisição via API\n",
    "import requests as r  # importa a biblioteca que fará a requisição\n",
    "\n",
    "url = 'https://jobs.github.com/positions.json?description=python&page=1'\n",
    "response = r.request('GET', url) # método 'GET', captura as informações atráves da url fornecida \n",
    "   "
   ]
  },
  {
   "cell_type": "code",
   "execution_count": 34,
   "metadata": {
    "ExecuteTime": {
     "end_time": "2021-02-13T15:00:59.189252Z",
     "start_time": "2021-02-13T15:00:59.175463Z"
    }
   },
   "outputs": [
    {
     "data": {
      "text/plain": [
       "<Response [200]>"
      ]
     },
     "execution_count": 34,
     "metadata": {},
     "output_type": "execute_result"
    }
   ],
   "source": [
    "response # response=200 significa que está tudo certo!!"
   ]
  },
  {
   "cell_type": "code",
   "execution_count": 35,
   "metadata": {
    "ExecuteTime": {
     "end_time": "2021-02-13T15:00:59.460817Z",
     "start_time": "2021-02-13T15:00:59.193965Z"
    }
   },
   "outputs": [
    {
     "data": {
      "text/plain": [
       "[{'id': 'ba68c375-adf4-4317-8328-8bd82079fc61',\n",
       "  'type': 'Full Time',\n",
       "  'url': 'https://jobs.github.com/positions/ba68c375-adf4-4317-8328-8bd82079fc61',\n",
       "  'created_at': 'Sat Feb 13 01:29:29 UTC 2021',\n",
       "  'company': 'Nav Inc.',\n",
       "  'company_url': None,\n",
       "  'location': 'Remote',\n",
       "  'title': 'Backend Software Engineer',\n",
       "  'description': \"<p>Backend Software Engineer - Remote or In Office (UT, PA, CA)</p>\\n<p>Nav was founded to have a meaningful impact on the lives of millions of small business owners by bringing efficiency and transparency to financial decision making. We are changing the way these business owners secure lending with our innovative technology and customer-centric approach. We build intelligent software on top of data to solve issues in the small business financial ecosystem.</p>\\n<p>We are passionate about empowering our teams and giving them the freedom to shape our future. Our teams lead with candor, charge hard, fail fast, all while working in a fun, diverse, and inclusive environment. If you are a high-energy innovator, enjoy a rapid-paced growing environment, and have the zest to solve big challenges, join us! Be a part of our history and co-create the future of FinTech here at Nav.</p>\\n<p>YOUR ROLE AT NAV:\\nBuild and maintain backend services written in Elixir, Go, Ruby or Python. Migrating functionality from legacy monoliths to new services.\\nOptimize Nav’s customer experience, from first contact, through sign-up, and applying for loans and credit cards.\\nBuild the framework that Nav’s solutions (credit reports, alerts, financing marketplace) plug into.\\nTurn business requirements into technical solutions.\\nHelp establish best practices within Nav's growing Engineering organization.</p>\\n<p>WHAT YOU BRING TO THE TABLE:\\nA track record of successfully delivering maintainable backend systems in a Linux environment.\\nExperience or a strong interest in programming in Elixir or Go. Experience with Ruby or Python is a plus.\\nRelentless problem solver.</p>\\n<p>WHO YOU ARE:\\nYou uplift those around you.\\nYou’ve got great verbal and written communication skills.\\nYou’ve got amazing relationship-building and relationship-management skills.\\nYou are comfortable working on complex projects with multiple stakeholders.\\nYou have an entrepreneurial spirit and thrive in a fast-paced environment.\\nYou have a bias for action, a “driver” that gets stuff done, using analytical thinking.\\nYou are comfortable with ambiguity, ability to change course quickly based on new insights.</p>\\n\",\n",
       "  'how_to_apply': '<p><a href=\"https://nav.bamboohr.com/jobs/view.php?id=180&amp;source=aWQ9MTU%3D\">https://nav.bamboohr.com/jobs/view.php?id=180&amp;source=aWQ9MTU%3D</a></p>\\n',\n",
       "  'company_logo': 'https://jobs.github.com/rails/active_storage/blobs/eyJfcmFpbHMiOnsibWVzc2FnZSI6IkJBaHBBaStaIiwiZXhwIjpudWxsLCJwdXIiOiJibG9iX2lkIn19--1b67c64f0c6d9ca4d6a08dcb2ed783b49a6fc3a0/Nav%20Logo%20-%20Blue.png'},\n",
       " {'id': '9520f18c-dd70-4acd-a35e-dab400c1e491',\n",
       "  'type': 'Full Time',\n",
       "  'url': 'https://jobs.github.com/positions/9520f18c-dd70-4acd-a35e-dab400c1e491',\n",
       "  'created_at': 'Fri Feb 12 21:58:36 UTC 2021',\n",
       "  'company': 'Agiloft Inc',\n",
       "  'company_url': None,\n",
       "  'location': 'Kyiv, Ukraine, Hungary, Russia, India,Czech Republic',\n",
       "  'title': 'Dev Ops Engineer (Remote)',\n",
       "  'description': '<p><strong>THRIVE WITH AGILOFT</strong></p>\\n<p>Are you an experienced DevOps Engineer who is successful, motivated, smart, energetic, and looking for a rewarding position in a growing, profitable, and dynamic company?</p>\\n<p>Agiloft is expanding our developer team, looking for DevOps engineers that thrive working with enterprises in multiple industries, with unique business challenges requiring sophisticated solution design.</p>\\n<p><strong>WHY JOIN AGILOFT?</strong></p>\\n<ul>\\n<li>\\n<p>Agiloft was named the market leader in every category in the Gartner Critical Capabilities for CLM report, and a market leader in the Gartner Magic Quadrant.</p>\\n</li>\\n<li>\\n<p>Contract Lifecycle Management (CLM) is one of the fastest-growing areas of enterprise sales, with a TAM projected to climb from $2B to $7B in the next 5 years.</p>\\n</li>\\n<li>\\n<p>The Agiloft Contract and Commerce Lifecycle Platform has won over a dozen awards, including the Editor\\'s Choice award from PC Mag, for the past five years in a row.</p>\\n</li>\\n<li>\\n<p>Agiloft has a highly differentiated value proposition which is uniquely appealing to enterprises: pre-built applications with a deeply configurable, no-code platform for integrated Business Process Management throughout an organization.</p>\\n</li>\\n<li>\\n<p>Agiloft is pioneering the applied use of Artificial Intelligence to enable next-generation business commerce at organizations ranging from small enterprises to U.S. government agencies and Fortune 100 companies.</p>\\n</li>\\n<li>\\n<p>Agiloft is the only company in the industry with the confidence to provide an unconditional satisfaction guarantee, and you too will be successful with Agiloft.</p>\\n</li>\\n</ul>\\n<p>As the leader in the CCLM market, Agiloft is winning many Enterprise deals and looking to hire the best talent to meet this demand with a competitive compensation plan that rewards overachievement.</p>\\n<p><strong>POSITION OVERVIEW</strong></p>\\n<p>This is a remote-only position. You must be comfortable with setting your own schedule and proactively collaborating in a globally dispersed team using a variety of communication channels.</p>\\n<p>We are seeking a DevOps Engineer to join our engineering team. The ideal candidate is someone who has a solid background in software development infrastructure architecture, automation, configuration management, monitoring, and tools development for enterprise software and systems. The candidate must have a passion for automating everything, and a sense of ownership.</p>\\n<p><strong>JOB RESPONSIBILITIES</strong></p>\\n<ul>\\n<li>\\n<p>Develop new automation systems and improve existing ones that enable fast delivery and replace manual operating procedures wherever they exist</p>\\n</li>\\n<li>\\n<p>Drive analysis, design, and development of automation tools for deployment, development, and operational tasks</p>\\n</li>\\n<li>\\n<p>Lead architectural improvements in our software development- and delivery infrastructure and evaluate new technologies</p>\\n</li>\\n<li>\\n<p>Assume ownership of Agiloft’s installer</p>\\n</li>\\n</ul>\\n<p><strong>REQUIRED QUALIFICATIONS</strong></p>\\n<ul>\\n<li>At least two years of hands-on experience as a DevOps engineer</li>\\n<li>Experience with configuration management systems</li>\\n<li>Experience with the configuration of Linux and Windows operating systems</li>\\n<li>Deep knowledge of Python- or Perl scripting languages</li>\\n<li>Experienced with Java</li>\\n<li>Good knowledge of Install4J</li>\\n</ul>\\n<p><strong>PREFERRED QUALIFICATIONS</strong></p>\\n<ul>\\n<li>Computer Science degree or equivalent</li>\\n<li>Experience with continuous integration / either continuous delivery tools</li>\\n<li>Deep knowledge of Unix bash or Windows PowerShell</li>\\n<li>Experience using containers</li>\\n<li>Experience supporting MySQL/MSSQL databases</li>\\n<li>Experience with public cloud platforms</li>\\n<li>Experience working in distributed teams\\n*Fluent in the English language</li>\\n</ul>\\n<p><strong>BENEFITS AND PERKS</strong></p>\\n<ul>\\n<li>Competitive salary</li>\\n<li>Referral bonuses</li>\\n<li>Flexible work schedules</li>\\n<li>Professional development and career growth opportunities</li>\\n<li>Awesome team members</li>\\n</ul>\\n<p><strong>To Apply</strong></p>\\n<p>For immediate consideration, visit <a href=\"https://tinyurl.com/1swelma6\">https://www.agiloft.com/DevOps</a> to apply.</p>\\n',\n",
       "  'how_to_apply': '<p>For immediate consideration, visit <a href=\"https://tinyurl.com/1swelma6\">https://www.agiloft.com/DevOps</a> to apply.</p>\\n',\n",
       "  'company_logo': 'https://jobs.github.com/rails/active_storage/blobs/eyJfcmFpbHMiOnsibWVzc2FnZSI6IkJBaHBBaVNaIiwiZXhwIjpudWxsLCJwdXIiOiJibG9iX2lkIn19--aa453fa03692a4658a63b99b831103dfcee9a1de/Agiloft%20Logo%20plain%20(Indeed).png'},\n",
       " {'id': '0e9ae5fa-5bbd-4395-aef7-a7a32e0abd01',\n",
       "  'type': 'Full Time',\n",
       "  'url': 'https://jobs.github.com/positions/0e9ae5fa-5bbd-4395-aef7-a7a32e0abd01',\n",
       "  'created_at': 'Fri Feb 12 16:03:36 UTC 2021',\n",
       "  'company': 'Mas & Pas Limited',\n",
       "  'company_url': 'http://http',\n",
       "  'location': 'London ',\n",
       "  'title': 'Experienced Full Stack Web Developer - London-Based or Remote',\n",
       "  'description': \"<p>Full Stack Web Developer; Experienced Developer for Complex Web Platform - London-Based or Remote</p>\\n<p>Seeking an experienced, self-motivated Front and Back End Web Developer to join a small London-based team. Remote working arrangements could be considered.</p>\\n<p>The right candidate would be responsible for developing advanced features in the community chat groups of the platform.</p>\\n<p>They would also be responsible for managing other aspects of the live site and ensuring that its smooth operation.</p>\\n<p>Who are we:</p>\\n<p>Mas &amp; Pas is a parenting network with community forums, a local events platform, and a large library of web content.</p>\\n<p>Responsibilities include:</p>\\n<p>●      Plan and architect the technology for a number of new features - including live chat, video sharing webinar hosting and online booking systems.\\n●      Migrate the website's content from Wordpress onto a new framework with a custom CMS.\\n●      Deliver projects to agreed deadlines, in good quality and after thorough testing.\\n●      Problem-solve any issues with the site, including diagnosing and correcting any bugs.\\n●      Maintain and improve the operations and speed of the website in its current form.\\n●      Apply technical SEO best practices to improve site speed and performance.\\n●      Able to work either alone or in a small team.\\n●      Able to communicate effectively with the other team members, both developers and non-developers.</p>\\n<p>Key Requirements:</p>\\n<p>●      5 years+ experience in development, testing, and deployment of web applications.\\n●      Comfortable with custom-coding new applications without reliance on plug-ins.\\n●      Knowledge and experience of all stages of web development.\\n●      Extensive development experience using PHP, HTML5, Javascript, Java.\\n●      Optional experience in C, C++, Ruby, React, Python, and microservices.\\n●      Enjoy problem-solving.\\n●      Self-motivated and able to work on your own initiative.\\n●     Fluent or native level of English language is necessary.\\n●     Excellent communication skills, especially in understanding requirements and explaining technical or complex concepts.</p>\\n<p>Sounds interesting? Click APPLY to send your CV including examples of your works for immediate consideration.</p>\\n<p>Candidates with previous experience in and job titles including; PHP Developer, HTML5 Developer, Javascript Engineer, Java Developer, C++ Developer, Python Developer, Ruby Developer, C Developer, Full Stack Developer, Git, Web Developer, Full Stack Web Development, Laravel, CSS Developer, PHP Engineer, Web Developer Full Stack Web Development may be considered.</p>\\n\",\n",
       "  'how_to_apply': '<p>Email your resume to <a href=\"mailto:hello@masandpas.com\">hello@masandpas.com</a> together with links to 5 examples of your work.</p>\\n',\n",
       "  'company_logo': None},\n",
       " {'id': '4b46a3fb-6a7c-46bc-96a5-eb4e79a71513',\n",
       "  'type': 'Full Time',\n",
       "  'url': 'https://jobs.github.com/positions/4b46a3fb-6a7c-46bc-96a5-eb4e79a71513',\n",
       "  'created_at': 'Thu Feb 11 15:11:10 UTC 2021',\n",
       "  'company': 'Cyware',\n",
       "  'company_url': 'http://Cyware',\n",
       "  'location': 'Anywhere',\n",
       "  'title': 'Solutions Architect',\n",
       "  'description': '<p><strong>Solutions Architect</strong></p>\\n<p><strong>United States, Remote</strong></p>\\n<p><strong>About Cyware</strong>\\nCyware is a venture-backed organization, headquartered in New York City. The firm was founded by innovative practitioners to solve the massive-scale cybersecurity challenges they saw daily while working for leading global banks and technology organizations.</p>\\n<p>Cyware is disrupting the cybersecurity operations market with innovation that gives the firm claim to being the far-and-away ONLY company capable of delivering technology to build cyber fusion centers for customers in large enterprises and the mid-market.</p>\\n<p>Cyware is in hyper-growth mode. Your next opportunity starts here!!</p>\\n<p><strong>More on Cyware</strong>: (<a href=\"http://www.cyware.com\">www.cyware.com</a>)\\nBuilt on innovation designed by SecOps practitioners and cybersecurity leaders, Cyware offers multiple technologies within its next-generation platform, including advanced threat intelligence solutions (TIP) for large and small security teams, vendor-agnostic security automation (SOAR), and security case management. As a result, organizations are able to increase speed and accuracy while reducing costs and analyst burnout. Cyware\\'s Virtual Cyber Fusion solutions make secure collaboration, information sharing, and enhanced threat visibility a reality for enterprises, sharing communities (ISAC/ISAO), MSSPs, and government agencies of all sizes and needs.</p>\\n<p>*<em>About you</em>:</p>\\n<ul>\\n<li>You can lead on strategic and tactical initiatives</li>\\n<li>You are hungry, inquisitive, proactive, energetic, and driven</li>\\n<li>You have a growth mindset and are committed to delivering results</li>\\n<li>You thrive in a fast-paced, collaborative environment</li>\\n</ul>\\n<p><strong>Why We Are Hiring</strong>:\\nThe Cyware Solutions Architect is responsible for delivering the technical win and product fit at customer accounts. They build customer trust in Cyware solutions, which results in customer success in the post-sale. The Solution Architect leads the technical pre-sales relationship, proposes technical architectures, demonstrates the product, anticipates concerns, and offers creative solutions.</p>\\n<p>The Solutions Architect role is both highly technical and a skilled relationship builder. They are comfortable showing an engaging communications experience to a CEO or sketching out a flow on a whiteboard with technical decision makers. Utilize their technology background to lead the consultative discovery of the client/prospect’s business goals, objectives, and challenges and to translate them into effective technology solutions.</p>\\n<p>The Solution Architect plays a leadership role, by analyzing business processes and requirements, presenting related solutions, and driving the business case and financial justifications.</p>\\n<p><em>Come join an exciting startup company in the cybersecurity space that just completed their $10 million dollar Series A funding!</em></p>\\n<p><strong>What You Will Do</strong>:</p>\\n<ul>\\n<li>Serve as the security solution architect / engineer responsible for the planning and design of both on-prem and cloud-based infrastructure solutions and complex POCs simulating customer environments.</li>\\n<li>Lead research, development, and adherence to application standards and patterns, application portfolio strategy for solutions, security tools integrations, and infrastructure.</li>\\n<li>Serve as a Lead Security Architect on project teams (including users, developers), to plan, coordinate, analyze, design, review and implement Cyware’s Software.</li>\\n<li>Participate in the design review process and support the overall Enterprise Architecture Management process.</li>\\n<li>Support Sales Engineers with solution selling into prospect account base and lead planning, preparation, and execution on strategic deals.</li>\\n<li>Lead the deployment of Cyware products in the customer’s environment</li>\\n<li>Establish and maintain effective working relationships with clients;  Track industry developments and trends on products, services, relevant information about legacy, existing, and emerging technologies</li>\\n<li>Understand customer pain points and requirements and propose appropriate solutions</li>\\n<li>Work with QA and development teams to troubleshoot and resolve complex product issues</li>\\n<li>Develop Solution Architecture Models and Documentation (key written project deliverable).</li>\\n<li>Oversee and approve the creation of architecture documentation.</li>\\n<li>Act as a communication channel between the market needs and the development teams for Cyware product enhancements and roadmap creation</li>\\n<li>Lead and deliver impactful demos and presentations to clearly communicate the uniqueness of the value proposition</li>\\n<li>Act as a technical account manager for existing customers</li>\\n<li>Understand the customer use cases and map it to the Cyware products and deliver the end to end working solution to the customer.</li>\\n<li>Work with the customer to understand the new requirements post implementation and provide appropriate solutions within the product or suggest new requirements of the product to the engineering team.</li>\\n</ul>\\n<p><strong>Who You Are</strong></p>\\n<ul>\\n<li>Bachelor’s Degree and 8+ years of progressive experience in a combination of development, design, infrastructure and/or related IT and Security disciplines.</li>\\n<li>Must have at least 3 years of direct infrastructure, system, application and/or other security solution architecture experience.</li>\\n<li>Possess an understanding of both the Incident Response Lifecycle and Threat Intelligence Lifecycle Process.</li>\\n<li>Exposure to multiple, diverse security integrations and automation (SOAR), security tools (SIEM, EDR, UEBA, TIP, CMDB, NAC, etc.), and processing environments, including cloud and SaaS technologies.</li>\\n<li>Experience with SIEM Vendors/Tooling such as: Splunk, QRadar, Arcsight, RSA, Exabeam.</li>\\n<li>Experience with SOAR, IR Vendors/Tooling such as: Demisto, Phantom, Siemplify, IBM Resilient, Swimlane.</li>\\n<li>Experience with Threat Intel Vendors/Tooling such as: MISP, Anomali Threatstream, ThreatConnect, Threat Quotient.</li>\\n<li>Experience with TI Feeds, Enrichment Vendors/Tooling such as: VirusTotal, FireEye, Recorded Future, Hybrid Analysis.</li>\\n<li>Experience with EDR, Other Vendors/Tooling such as: Tanium, CarbonBlack, Crowdstrike, Symantec, AlienVault.</li>\\n<li>Familiarity in scripting and Object Oriented Programming with Python, other programming  languages, and REST APIs is required.</li>\\n<li>Strong experience in security solution design principles and practices, system development methodologies, and software life cycles.</li>\\n<li>Experience leading security teams is a plus, especially hands-on and able to coach teams on new technologies and practices.</li>\\n<li>Understanding or contribution to any open source projects in the domains like SOC, Incident Response, Threat Intelligence, Threat Hunting, etc.</li>\\n<li>Strong understanding of the enterprise network architecture, operating system concepts and IT Security.</li>\\n</ul>\\n<p><em>We\\'re a lean team, so your impact will be felt immediately. If this all sounds like a good fit for you, why not join us?</em></p>\\n<p><strong>You’ll love working at Cyware because</strong></p>\\n<p><strong>We value balance.</strong> We are committed to providing an environment in which you can balance great work with a great life. You’ll have a generous PTO structure and holidays covered.</p>\\n<p><strong>We’re not just employees.</strong> We’re people. We offer 401(k) match, insurance coverage (health, vision, and dental), and reimbursements for your home office.</p>\\n<p><strong>We’ll invest in your career.</strong> Our company’s growing quickly, and we’ll give you the opportunity to do the same. You’ll have access to a number of professional development opportunities so that you can keep up with the company’s evolving needs.</p>\\n<p><strong>We offer competitive compensation packages.</strong> We deeply value the talent our team brings to the table and believe that fair and equitable total compensation packages are part of our commitment to everyone who works here.</p>\\n<p><strong>And so much more…</strong></p>\\n<p><strong>How to Apply</strong>\\n<em>Checkout our website</em>: <a href=\"https://boards.greenhouse.io/cyware/jobs/4175262003?gh_jid=4175262003\">https://boards.greenhouse.io/cyware/jobs/4175262003?gh_jid=4175262003</a></p>\\n',\n",
       "  'how_to_apply': '<p>Check out our website to apply for this rolehttps://boards.greenhouse.io/cyware/jobs/4175262003?gh_jid=4175262003</p>\\n',\n",
       "  'company_logo': 'https://jobs.github.com/rails/active_storage/blobs/eyJfcmFpbHMiOnsibWVzc2FnZSI6IkJBaHBBdXlZIiwiZXhwIjpudWxsLCJwdXIiOiJibG9iX2lkIn19--0d0a67cb8c233284f5eae90952a5fbe25ba26ab4/Cyware+Logo+CH.png'},\n",
       " {'id': '0bbffc5b-d52b-49a5-aa2e-c868c1bcb545',\n",
       "  'type': 'Full Time',\n",
       "  'url': 'https://jobs.github.com/positions/0bbffc5b-d52b-49a5-aa2e-c868c1bcb545',\n",
       "  'created_at': 'Fri Feb 12 13:27:04 UTC 2021',\n",
       "  'company': 'WoodWing',\n",
       "  'company_url': 'https://www.woodwing.com/en/jobs',\n",
       "  'location': 'Zaandam',\n",
       "  'title': 'Cloud Engineer (medior)',\n",
       "  'description': '<p>Where you’ll work</p>\\n<p>Every day, publishers and brands around the world work with WoodWing products to create magazines, newspapers, and other content, online, in-app, and in print. At WoodWing, you will help build the future of content production, in an organization with little hierarchy and lots of freedom to develop your own skills.</p>\\n<p>About your role</p>\\n<p>Join us to help develop and expand our cloud platform. By combining our products Studio, Assets DAM and Inception together, the WoodWing Cloud Services product is a solution which helps fast, flexible and cost-effective content creation, production, archiving, distribution and analytics.</p>\\n<p>Who you are</p>\\n<p>We’re looking for a developer who will, as part of our strong team, develop solutions for our cloud products. As a Cloud Developer, you’ll work on setting up and maintaining software which makes use of AWS infrastructure. Together with your team, you have the responsibility of developing the software and environment in such a way that it is highly stable, dependable and secure. You’ll be required to think about the architecture and new functionality and bring those to life together with your team. The teams at WoodWing have the freedom to decide for themselves which tools and technologies they use to be able to do their work. The core of the current technology stack is built within AWS. Aside from that, we use multiple languages, libraries and tools within our applications, as long as it helps us achieve our goals. We expect you to pick up new things quickly and to strengthen the team with your own experience and ideas. You will need to achieve a good balance between attention to detail, speed of development and maintaining code quality.</p>\\n<p>Minimum requirements:</p>\\n<ul>\\n<li>Experience with Docker.</li>\\n<li>Ability to design and develop cloud-based solutions.</li>\\n<li>Experience with more than 2 programming languages.</li>\\n<li>Experience with high availability infrastructure.</li>\\n<li>Experience with infrastructure as code, automation, test driven development, troubleshooting and root cause analysis.</li>\\n<li>Experience with Continuous Deployment or Continuous Delivery.</li>\\n<li>You can pick up new programming languages or tools quickly if need be.</li>\\n<li>You can work independently within a small, highly skilled team.</li>\\n<li>3 years experience as a cloud developer.</li>\\n<li>You can communicate in English, in both spoken and written word.</li>\\n<li>Experience of applying an agile methodology.</li>\\n</ul>\\n<p>To your advantage:</p>\\n<ul>\\n<li>AWS Certification such as: AWS Certified Cloud Practitioner, AWS Developer, AWS Solutions Architect.</li>\\n<li>Experience with Amazon Web Services (AWS) platform, including Elastic Container Service, Elastic Compute Cloud (EC2), CloudFormation, CodeBuild, CodePipeline, Lambda &amp; Step Functions.</li>\\n<li>More than 4 years experience as a developer, in total.</li>\\n<li>Experience with build servers like Jenkins or AWS CodeBuild.</li>\\n<li>Experience with frameworks such as AWS SAM or CDK.</li>\\n<li>Experience with NodeJS, Python, Bash and Makefiles.</li>\\n<li>Experience with Jira and Confluence.</li>\\n<li>Experience with developing for and contributing to Open Source projects</li>\\n</ul>\\n<p>What you’ll be doing</p>\\n<ul>\\n<li>Collaborate with a strong team of professional developers.</li>\\n<li>Help to specify and build new functionality.</li>\\n<li>Help the team improve and maintain existing codebases.</li>\\n<li>Create solutions to be proud of, for large international customers.</li>\\n</ul>\\n<p>What we offer</p>\\n<ul>\\n<li>We build standard products, not custom work. At WoodWing you’ll have the time to build a good architecture.</li>\\n<li>We offer the chance to attend professionally related international events.</li>\\n<li>There are many possibilities to develop yourself further and grow within our mature and flexible organization, such as gaining AWS Certification.</li>\\n<li>Located in Zaandam, easily reachable by both train or car. Plenty of parking spaces.</li>\\n<li>Contact with colleagues working around the world, with a strong base of developers in Zaandam</li>\\n<li>Possibility to occasionally work from home (we are currently working fully remotely)</li>\\n<li>Excellent secondary employment benefits.</li>\\n<li>Informal working environment including Nerf guns, table tennis table, foosball table, pool table and pair programming tables.</li>\\n<li>Every six months, three explore days where you can work on any project you like.</li>\\n</ul>\\n<p>Our culture and values\\nOur team is made up of more than 20 nationalities, across offices in the Netherlands, Malaysia, and the US. While we have a mix of people, we have a common goal: to build the future of content production for the world’s leading publishers and brands.</p>\\n<p>WoodWing is an organization with a history of innovation. Nearly two decades ago, we helped popularize Adobe InDesign with our first plugin. In 2010 we were the first software provider to make it possible to publish on the iPad. And in 2019 we became the preferred partner of Apple for publishing to Apple News+.</p>\\n<p>Our culture is built around six values - Exploration, Collaboration, Leadership, Fun, and People at Heart. Our values to bring culture to life in our day-to-day behavior. They are carefully selected based on what we have developed over our years as a company, and what we consider important to reach our vision.</p>\\n<p>Ready to meet us?\\nIf this role looks like your next challenge, please apply by sending your cv and motivation to <a href=\"mailto:jobapplications@woodwing.com\">jobapplications@woodwing.com</a>.</p>\\n<p>Important Note:</p>\\n<ul>\\n<li>Applicants must be eligible to work in the EU.</li>\\n<li>This is a direct hire, agencies are not welcome.</li>\\n</ul>\\n',\n",
       "  'how_to_apply': '<p>Ready to meet us?\\nIf this role looks like your next challenge, please apply by sending your cv and motivation to <a href=\"mailto:jobapplications@woodwing.com\">jobapplications@woodwing.com</a>.</p>\\n',\n",
       "  'company_logo': 'https://jobs.github.com/rails/active_storage/blobs/eyJfcmFpbHMiOnsibWVzc2FnZSI6IkJBaHBBZ2laIiwiZXhwIjpudWxsLCJwdXIiOiJibG9iX2lkIn19--49acef93f082a5acf8c83e9c10efa16ff950db43/WW%20logo.png'},\n",
       " {'id': '1f21b777-6e99-483d-b3c2-d55b07654194',\n",
       "  'type': 'Full Time',\n",
       "  'url': 'https://jobs.github.com/positions/1f21b777-6e99-483d-b3c2-d55b07654194',\n",
       "  'created_at': 'Thu Feb 11 18:49:39 UTC 2021',\n",
       "  'company': 'Boston Red Sox ',\n",
       "  'company_url': None,\n",
       "  'location': 'Boston',\n",
       "  'title': 'Data Engineer ',\n",
       "  'description': '<p>POSITION OVERVIEW:\\nThe Data Engineer, Baseball Systems position will be a member of the baseball operations software development team, and is responsible for integrating, collecting, processing, and storing many sources of baseball data, as well as designing and building new data solutions. This position must be comfortable with on-premises and cloud solutions, and take the initiative to explore new optimizations and cutting-edge data technologies. This individual will work closely with our data architect, analysts, developers, and other members of baseball operations.</p>\\n<p>RESPONSIBILITIES:</p>\\n<p>\\uf0b7 Build leading-edge baseball solutions together with the software development team, analysts, and others on new and existing baseball systems\\n\\uf0b7 Build and maintain integration pipelines, often via an API or file-based, while also identifying areas of improvement and spending time to re-architect when required\\n\\uf0b7 Build and maintain infrastructure to optimize extraction, transformation, and the loading of data from various sources\\n\\uf0b7 Design, build, and maintain data warehousing solutions for the software development and analytics teams\\n\\uf0b7 Build and maintain tools for the analysts to enable more efficient and extensive data modeling and simulation efforts\\n\\uf0b7 Participate in key phases of the software development process of critical baseball applications, including requirements gathering, analysis, effort estimation, technical investigation, software design and implementation, testing, bug fixing, and quality assurance\\n\\uf0b7 Actively participate with software developers and data architects in design reviews, code reviews, and other best practices\\n\\uf0b7 Work closely at times with baseball analysts to design and implement data solutions\\n\\uf0b7 Respond to and resolve technical problems and issues in a timely manner</p>\\n<p>TECHNICAL SKILLS &amp; QUALIFICATIONS:</p>\\n<p>\\uf0b7 Bachelor’s degree in Computer Science, Software Engineering, Computer Engineering, Statistics, Information Systems, or a related field\\n\\uf0b7 2-3 years of experience in a Data Engineer role\\n\\uf0b7 Strong SQL skills, including query optimization and database design\\n\\uf0b7 Experience building custom API integrations, interfacing with JSON, XML, and custom data structures\\n\\uf0b7 Experience with AWS, GCP, or Azure cloud services, such as Cloud SQL, RDS, Redshift, Azure SQL, Azure SQL DW, or others\\n\\uf0b7 Experience building data solutions using Python, C#, C++, Ruby, or other languages\\n\\uf0b7 Experience with scheduling and workflow management platforms, such as Airflow\\n\\uf0b7 Experience with big data frameworks such as Hadoop or Spark is a plus\\n\\uf0b7 Experience with R and RStudio is a plus\\n\\uf0b7 Experience with engineering and productionizing statistical/ML models a plus\\n\\uf0b7 Professional experience as an analyst/data scientist (or extensive coursework) a plus</p>\\n<p>GENERAL SKILLS:\\n\\uf0b7 Ability to work autonomously and as a team in a fast paced environment\\n\\uf0b7 High level of attention to detail with the ability to multi-task effectively\\n\\uf0b7 Comfortable working remotely using Zoom, Teams, Slack, Trello, and other tools to communicate with all team members\\n\\uf0b7 High degree of professionalism and ability to maintain confidential information\\n\\uf0b7 Excellent organizational and time management skills\\n\\uf0b7 An understanding of baseball is a plus</p>\\n',\n",
       "  'how_to_apply': '<p><a href=\"https://jobs.lever.co/redsox/e97bbd44-4dfa-483a-aab3-a0f7f822d87e\">https://jobs.lever.co/redsox/e97bbd44-4dfa-483a-aab3-a0f7f822d87e</a></p>\\n',\n",
       "  'company_logo': 'https://jobs.github.com/rails/active_storage/blobs/eyJfcmFpbHMiOnsibWVzc2FnZSI6IkJBaHBBdnFZIiwiZXhwIjpudWxsLCJwdXIiOiJibG9iX2lkIn19--0a14d07473ed87e099577506264fd8e6ee906a83/download.png'},\n",
       " {'id': '798a5097-75bf-4659-90fd-78caf35999a1',\n",
       "  'type': 'Full Time',\n",
       "  'url': 'https://jobs.github.com/positions/798a5097-75bf-4659-90fd-78caf35999a1',\n",
       "  'created_at': 'Thu Feb 11 15:07:30 UTC 2021',\n",
       "  'company': 'Rijksoverheid',\n",
       "  'company_url': 'http://www.werkenvoornederland.nl',\n",
       "  'location': 'Den Haag',\n",
       "  'title': 'Clusterbeheerder / systeembeheerder',\n",
       "  'description': '<p><strong>Clusterbeheerder / systeembeheerder</strong>\\n<strong>Ministerie van Justitie en Veiligheid, Nederlands Forensisch Instituut</strong></p>\\n<p><strong>Functieomschrijving</strong>\\nAls clusterbeheerder ga je aan de slag bij team Crypto, dat verantwoordelijk is voor het ontcijferen van digitale bewijsstukken. Jij wordt verantwoordelijk voor het beheer en onderhoud van het rekencluster bij het Nederlands Forensisch Instituut (NFI). De taken en verantwoordelijkheden die bij deze functie horen, zijn het beheer en onderhoud van de rekennodes, het volgen van updates in de gebruikte software, en het testen en in-stalleren van nieuwe hard- en software. Een onderdeel van jouw baan zal zijn om de be-schikbaarheid van de rekennodes te controleren, en de bedrijfszekerheid te verbeteren door middel van het opzetten en onderhouden van een geautomatiseerd monitoringsysteem.</p>\\n<p>Wij zoeken iemand die het onderzoeksteam ondersteunt in het uitvoeren van slimme wachtwoordaanvallen op het rekencluster. Iemand die kan helpen met het inrichten van back-ups, zorgen dat alle scripts op orde zijn, het automatisch inspoelen van rekennodes, zorgen dat alle services draaien, vervangen van kapotte hardware en het debuggen van problematische hardware.</p>\\n<p>Daarnaast werken we aan het verbeteren van het aanvalsdistributieplatform dat we in gebruik hebben, en maken we veel van deze verbeteringen met enige regelmaat publiek: <a href=\"https://github.com/s3inlc/hashtopolis/pull/649\">https://github.com/s3inlc/hashtopolis/pull/649</a>\\nHet kunnen werken aan deze code is een pre.</p>\\n<p>Via onderstaande link kun je luisteren naar een podcast waarin een crypto onderzoeker uit ons team wordt geïnterviewd (vanaf 1:23).</p>\\n<p><a href=\"https://open.spotify.com/episode/5EUGuYFQ8Ui4uM2G4gtOyP?si=LAnrdUx7QrK642NxtCA2zA\">https://open.spotify.com/episode/5EUGuYFQ8Ui4uM2G4gtOyP?si=LAnrdUx7QrK642NxtCA2zA</a></p>\\n<p>of</p>\\n<p><a href=\"https://www.nrc.nl/brandedcontent/nfi/podcastserie-de-stille-getuige\">https://www.nrc.nl/brandedcontent/nfi/podcastserie-de-stille-getuige</a></p>\\n<p>Spreekt dit je aan? Solliciteer! Wij gaan graag met je in gesprek!</p>\\n<p><strong>Functie-eisen</strong></p>\\n<ul>\\n<li>Je hebt een hbo werk- en denkniveau, en een afgeronde opleiding in een technische richting (minimaal MBO 4), bij voorkeur informatica of ICT.</li>\\n<li>Je hebt relevante werkervaring als systeembeheerder of een vergelijkbare functie.</li>\\n<li>Je hebt ervaring met het opzetten en onderhouden van gedistribueerde systemen met behulp van provisioningsystemen zoals bijvoorbeeld PXE, Ansible, MAAS, ROCKS, of soortgelijke tooling.</li>\\n<li>Je hebt ervaring met scripting- en programmeertalen zoals Bash, Python, en PHP.</li>\\n<li>Ervaring met het aansturen van GPU\\'s is een pre.</li>\\n<li>Ervaring met web-based applicaties en PHP is een pre.</li>\\n<li>Je hebt een goed begrip van hardware in computersystemen.</li>\\n<li>Je hebt de analytische vaardigheden en de praktische kennis om hardware te kunnen debuggen: je weet wel raad met een moederbord dat niet door de POST heen komt.</li>\\n</ul>\\n<p><strong>Wat vinden wij nog meer belangrijk?</strong>\\nJe hebt een proactieve en resultaatgerichte instelling. Je ziet het als uitdaging om je taken in deze functie zoveel mogelijk te automatiseren. Je hebt affiniteit met cryptografie, cryp-to-analyse en hardware, en je kan goed samenwerken. Tot slot ben je zelfstandig waar het kan, en vraag je om ondersteuning wanneer dat nodig is.</p>\\n<p><strong>Arbeidsvoorwaarden</strong>\\n<strong>Salarisniveau:</strong> schaal 9, schaal 10\\n<strong>Salarisomschrijving:</strong> Op deze functie is het Functiegebouw Rijk van toepassing.\\n<strong>Maandsalaris min.</strong> €2.756 – max. €4.430 bruto, overeenkomstig met schaal 10 CAO Rijk.\\nInschaling vindt plaats op basis van je opleiding en ervaring. De mogelijkheid bestaat dat je in beginsel via een aanvangsschaal wordt aangesteld. Deze kan één schaal lager zijn dan de betreffende functieschaal.</p>\\n<p>Voor de functie geldt een tijdelijke arbeidsmarkttoelage van 8% die aan het vermelde maandsalarissalaris wordt toegevoegd.\\n<strong>Maandsalaris:</strong> Min €2.756 – Max. €4.430 (bruto)\\n<strong>Dienstverband:</strong> Arbeidsovereenkomst voor bepaalde tijd met uitzicht op onbepaalde tijd\\n<strong>Contractduur:</strong> Tijdelijke aanstelling met uitzicht op een vaste aanstelling\\n<strong>Minimaal aantal uren per week:</strong> 36\\n<strong>Maximaal aantal uren per week:</strong> 36</p>\\n<p><strong>Overige arbeidsvoorwaarden</strong>\\nNaast het salaris ontvang je een Individueel Keuzebudget (IKB). Het IKB bestaat uit geld (16,37% van je bruto jaarsalaris) en tijd. Met het IKB maak jij de keuzes die bij jou pas-sen en kun je een deel van je arbeidsvoorwaarden zelf samenstellen. Je kunt er bijvoor-beeld voor kiezen om een deel van je maandinkomen te laten uitbetalen wanneer jij dat wenst. Ook kun je dit budget omzetten in verlof en andersom of besteden aan fiscaal vriendelijke doelen. De Rijksoverheid hecht sterk aan persoonlijke groei en loopbaanont-wikkeling en biedt daarvoor tal van mogelijkheden. Tot de secundaire arbeidsvoorwaarden behoren onder meer verschillende studiefaciliteiten, bedrijfsfitness, volledige vergoeding van je OV-reiskosten woon-werkverkeer en gedeeltelijk betaald ouderschapsverlof</p>\\n<p><strong>Wat kunnen wij jou nog meer bieden?</strong>\\nJe leert werken met de nieuwste en snelste hardware, in een continu veranderende en ontwikkelende omgeving. Samen met gepassioneerde collega’s werk je aan een maat-schappelijk relevant doel.</p>\\n<p><strong>Bijzonderheden</strong></p>\\n<ul>\\n<li>Solliciteren? Nadat je via de sollicitatiebutton hebt gereageerd kun je jouw motivatie en cv als Word- of pdf-bestand uploaden. We nodigen je graag uit om in je motivatiebrief ook iets over jezelf te vertellen.</li>\\n<li>Het toetsen van de integriteit van onze nieuwe collega’s is voor het Nederlands Forensisch Instituut van groot belang. Voor deze functie geldt dat er een veiligheidsonderzoek niveau B moet worden opgestart bij de Algemene Inlichtingen- en Veiligheidsdienst. Ook een geheimhoudingsverklaring maakt deel uit van het sollicitatieproces.</li>\\n<li>Wanneer je als rijksambtenaar een beroep doet op een voorrangspositie, stuur dan ook een kopie van je beschikking mee.</li>\\n<li>Een assessment (psychologische en vaardigheidstest) maakt deel uit van het sollicitatieproces, net als het opvragen van referenties en het inzetten van een (online) screening.</li>\\n<li>Aan deze tekst kunnen geen rechten worden ontleend.</li>\\n<li>Acquisitie naar aanleiding van deze vacature wordt niet op prijs gesteld.</li>\\n</ul>\\n',\n",
       "  'how_to_apply': '<p>Het Rijk hecht waarde aan een diverse en inclusieve organisatie. Werken in divers samengestelde teams maakt ons effectiever, innovatiever en het werk leuker. Eenieder wordt daarom uitgenodigd te <a href=\"https://www.werkenvoornederland.nl/vacatures/clusterbeheerder-systeembeheerder-NFI-2020-0037?utm_source=github&amp;utm_medium=jobboard&amp;utm_campaign=&amp;utm_term=nfi200037&amp;utm_content=574\">solliciteren</a>.</p>\\n<p>Acquisitie naar aanleiding van deze vacature wordt niet op prijs gesteld.</p>\\n',\n",
       "  'company_logo': 'https://jobs.github.com/rails/active_storage/blobs/eyJfcmFpbHMiOnsibWVzc2FnZSI6IkJBaHBBdXFZIiwiZXhwIjpudWxsLCJwdXIiOiJibG9iX2lkIn19--41ee3895c7c3d15f3d701968ffc39afaab4653a8/Rijksoverheid.jpg'},\n",
       " {'id': 'b3ae353e-29b9-4c4a-95bc-c5279ac06063',\n",
       "  'type': 'Full Time',\n",
       "  'url': 'https://jobs.github.com/positions/b3ae353e-29b9-4c4a-95bc-c5279ac06063',\n",
       "  'created_at': 'Thu Feb 11 11:15:51 UTC 2021',\n",
       "  'company': 'Livello GmbH',\n",
       "  'company_url': 'https://www.livello.com/technologies',\n",
       "  'location': 'Düsseldorf',\n",
       "  'title': 'Technology Lead - IoT Startup (m/f/d)',\n",
       "  'description': '<p>We are looking for an experienced Head of Technology / Technology Lead with full stack Javascript, embedded and IoT experience. To lead the software and hardware team in the agile development of our our web, mobile and cloud applications, IoT products, as well building efficient and scalable solutions. A hands-on role, where you will build and manage your own teams and coordinate outsourced development as required.</p>\\n<p><strong>Our technology:</strong></p>\\n<p>Livello is building the future of autonomous retail and smart inventory management. We are developing a revolutionary IoT Platform and telemetric Smart Kiosks with state-of-the-art smart shelving and monitoring technology, leveraging newest concepts and engineering principles like automation, autoscaling, resilience, real time monitoring, sensor fusion, computer vision, machine learning and deep analytics. Our stack consists of modern Javascript, Typescript, Node.Js, React &amp; Redux, Docker, containers, client libraries, GraphQL, all built on a microservice-based kubernetes architecture, supported by the Google Cloud Platform. We strongly believe in the power of CICD and integrate and deploy our applications with modern CICD tools from Gitlab.</p>\\n<p><strong>Tasks/Responsibilities:</strong></p>\\n<ul>\\n<li>Lead, manage and build our tech team and coordinate outsourced development as required</li>\\n<li>Technical product design, solution architecture, specifications and implementation of Livello solutions</li>\\n<li>Development and optimisation of innovative electronic hardware products in the IoT and embedded environment</li>\\n<li>Development of modern Javascript-based applications in the front and back-end</li>\\n<li>Quality assurance of the software through planning, creation and execution of tests</li>\\n<li>Work with a cross-functional team to define, build, test, and deploy universal applications</li>\\n<li>Version control with Git is part of your daily work and continuous integration</li>\\n<li>Ensure the implementation of technical standards and best practices</li>\\n</ul>\\n<p><strong>Requirements / Experience:</strong></p>\\n<ul>\\n<li>Master in Computer Science or comparable field of study</li>\\n<li>5+ years of experience in leading technical teams, designing, architecture and implementation of technical systems</li>\\n<li>Full Stack experience with JavaScript, React, GraphQL, Node.JS, Nest.js, TypeScript, Python</li>\\n<li>State management solutions (Redux, -Saga)</li>\\n<li>Test and deployment automations: gitlab, fastlane, jest,</li>\\n<li>IoT-to-Cloud managed services, Microservices, Kubernetes and Docker on GCP</li>\\n<li>IoT device management and message brokers like AMQP or MQTT</li>\\n</ul>\\n<p><strong>What we offer:</strong></p>\\n<ul>\\n<li>ESOP Shares</li>\\n<li>A leading position in a fast growing and highly innovative start-up</li>\\n<li>Young, agile and diverse team with colleagues from all over the world</li>\\n<li>Open work environment with flat hierarchies and short decision-making paths</li>\\n<li>Cool office in a prime location with lots of shopping/restaurant options nearby</li>\\n<li>Advanced technology stack leveraging newest IoT hardware and software</li>\\n<li>Plenty of creative freedom for own ideas, projects and personal development</li>\\n<li>Free coffee, water, food, fruits and snacks on regular basis</li>\\n</ul>\\n',\n",
       "  'how_to_apply': '<p><a href=\"https://livello.join.com/jobs/1880129-technology-lead-iot-startup-full-stack-software-hardware-embedded?pid=357a3b4531918760973f&amp;utm_source=github_jobs&amp;utm_medium=paid&amp;utm_campaign=single%2Bposting&amp;utm_content=technology%2Blead%2B-%2Biot%2Bstartup%2Bfull%2Bstack%2Bsoftware%2Bhardware%2Bembedded\">https://livello.join.com/jobs/1880129-technology-lead-iot-startup-full-stack-software-hardware-embedded?pid=357a3b4531918760973f&amp;utm_source=github_jobs&amp;utm_medium=paid&amp;utm_campaign=single%2Bposting&amp;utm_content=technology%2Blead%2B-%2Biot%2Bstartup%2Bfull%2Bstack%2Bsoftware%2Bhardware%2Bembedded</a></p>\\n',\n",
       "  'company_logo': 'https://jobs.github.com/rails/active_storage/blobs/eyJfcmFpbHMiOnsibWVzc2FnZSI6IkJBaHBBdWlZIiwiZXhwIjpudWxsLCJwdXIiOiJibG9iX2lkIn19--743c3294113248619b6bf2278a2a90ef559d907c/2547101_original.jpg'},\n",
       " {'id': 'e478c566-6d2e-4036-aa8e-4d374a6a5b71',\n",
       "  'type': 'Full Time',\n",
       "  'url': 'https://jobs.github.com/positions/e478c566-6d2e-4036-aa8e-4d374a6a5b71',\n",
       "  'created_at': 'Thu Feb 11 10:19:54 UTC 2021',\n",
       "  'company': 'Global Organ Group',\n",
       "  'company_url': 'http://www.globalorgangroup.com',\n",
       "  'location': 'Ede',\n",
       "  'title': 'Allround Software Ontwikkelaar M/V',\n",
       "  'description': '<p><strong>Zoek jij een bedrijf waar software en audio bij elkaar komen?</strong></p>\\n<p>Voor ons kantoor in Ede, waar we met circa 45 medewerkers werken aan de ontwikkeling, productie en verkoop van onze orgels, zoeken wij een collega voor de volgende functie:</p>\\n<p><strong>Allround Software Ontwikkelaar M/V</strong>\\nfulltime 39 uur per week</p>\\n<p>Je komt te werken bij een internationale orgelbouwer die de digitale orgels volledig zelf ontwikkelt aan zowel de hard- als software kant. De afdeling R&amp;D is een belangrijk spil in dit proces. Omdat onze ontwikkeling niet stil staat willen wij ons R&amp;D team uitbreiden met een allround software ontwikkelaar voor zowel PC als embedded software.</p>\\n<p><strong>Werken bij Global Organ Group is iets bijzonders</strong>\\nVergis je niet, onder de klassieke huid van kerkorgels zit state of the art embedded electronica met snelle microcontrollers, FPGA’s en DSP’s. Denk aan technologie die ook in keyboards en synthesizers zit, maar dan met een veel grotere polyfonie. Wij zoeken de grenzen van de techniek op met onder andere de laatste generatie SHARC DSP’s. Ook ontwikkelen we veel software op de PC die nodig is voor de orgels.</p>\\n<p><strong>Over de functie van Software Ontwikkelaar</strong>\\nJouw taken bestaan uit het ontwikkelen van onze software sampler voor het maken van de samples, tooling voor het configureren en inrichten van verschillende orgel modellen en verschillende web applicaties. Daarnaast ben je betrokken bij de embedded ontwikkeling van een nieuwe generatie digitale orgels op een platform met microcontrollers en DSP’s. Affiniteit of interesse voor de embedded kant is dus wel wenselijk. Je zal voornamelijk werken met C++ en Qt, maar ook C, C# en Python komen aan bod in meerdere IDE’s.</p>\\n<p><strong>Wat vragen wij</strong></p>\\n<ul>\\n<li>HBO werk- en denkniveau (bij voorkeur afgeronde opleiding) in software engineering of embedded software</li>\\n<li>Vaardigheid met C++ en Object Oriënted programming</li>\\n</ul>\\n<p><strong>Competenties</strong></p>\\n<ul>\\n<li>Loyale teamspeler die niet schroomt om zelf initiatief te nemen</li>\\n<li>Bevlogen in het vakgebied</li>\\n<li>Pragmatisch van aanpak, maar gefocust op hoge kwaliteit.</li>\\n<li>Uitstekende communicatieve vaardigheden in zowel Nederlands als Engels</li>\\n</ul>\\n<p><strong>Onze merken</strong>\\nDe Global Organ Group is de grootste speler in de wereld van digitale orgels. Al decennialang is de liefde voor het authentieke kerkorgelgeluid onze belangrijkste drijfveer. Dat geluid in diverse toonaarden toegankelijk te maken voor een breed publiek, kan wel gezien worden als het hart van onze missie. De vertaalslag van het authentieke pijporgelgeluid naar digitale orgels kent een rijke variëteit. Al die soorten en smaken zijn terug te vinden in de 4 merken die onder de Global Organ Group vallen:</p>\\n<ul>\\n<li>Copeman Hart, dat zich toelegt op authentiek Engels maatwerk in de digitale kerkorgelwereld;</li>\\n<li>Johannus, dat de rijke Europese muzikale traditie verklankt in zowel huiskamer- als kerkorgels;</li>\\n<li>Makin, dat met zijn kerkorgels nadrukkelijk in de Engelse traditie staat;</li>\\n<li>Rodgers, dat in zijn kerkorgels het typisch Amerikaanse pijporgelgeluid vertolkt.</li>\\n</ul>\\n<p><strong>Global Organ Group biedt jou</strong>\\nEen fulltime functie in een mooie organisatie die gekenmerkt wordt door dynamiek, een open werksfeer en een platte hiërarchie. Wij bieden je een salaris afhankelijk van je opleiding en ervaring.\\nJe begint met een tijdelijk contract dat bij gebleken geschiktheid omgezet zal worden naar een vast dienstverband.</p>\\n',\n",
       "  'how_to_apply': '<p>Stuur je CV met motivatiebrief naar onze interim HR afdeling via onze <strong><a href=\"https://global-organ-group.onlinevacatures.nl/nl/job/178079/apply?utm_source=github&amp;utm_medium=referral&amp;utm_term=2021&amp;utm_content=178079&amp;utm_campaign=allround-software-ontwikkelaar-m-v\">sollicitatiepagina</a></strong>.</p>\\n<p>Voor meer informatie kan je contact opnemen met Marja Verweij (Interim HR) op telefoonnummer 0318-742142. Kijk ook eens op onze website: <a href=\"http://www.johannus.com/\">www.johannus.com</a>.</p>\\n<p>Acquisitie naar aanleiding van deze vacature wordt niet op prijs gesteld.</p>\\n<p><em>Trefwoorden: Software Ontwikkeling, Software Ontwikkelaar, Software Engineering, Embedded Software, IT, ICT</em></p>\\n',\n",
       "  'company_logo': 'https://jobs.github.com/rails/active_storage/blobs/eyJfcmFpbHMiOnsibWVzc2FnZSI6IkJBaHBBdVdZIiwiZXhwIjpudWxsLCJwdXIiOiJibG9iX2lkIn19--199fbc97cc7dda06168fbe36b2c0b8a4e1bbb25e/Logo%202017.jpg'},\n",
       " {'id': 'fad0c3fa-9914-4086-bdef-f98b2eeb9649',\n",
       "  'type': 'Full Time',\n",
       "  'url': 'https://jobs.github.com/positions/fad0c3fa-9914-4086-bdef-f98b2eeb9649',\n",
       "  'created_at': 'Wed Feb 10 16:18:44 UTC 2021',\n",
       "  'company': 'Basil Systems',\n",
       "  'company_url': 'http://www.basilsystems.com',\n",
       "  'location': 'Remote',\n",
       "  'title': 'Sr. Backend Engineer',\n",
       "  'description': '<p>Basil Systems is a healthcare-focused start-up delivering a SaaS application that leverages product, market and regulatory data to support all types of players in the medical device and pharmaceutical industries.  Our goal is to help our customers deliver safe and innovative healthcare products to patients and consumers, while reducing the time to get to market.  After 14 months of stealth development, we soft launched in late December 2020 to a very positive market reception and customers.</p>\\n<p>In short, Basil is a funded, revenue generating, and growth-oriented company – and we are actively seeking talented engineers to build and deliver an extensive roadmap of amazing features.  We need a Sr. backend engineer excited by multifaceted data challenges, and with the ability to design, build, and deploy stable and scalable production software.</p>\\n<p><strong>Sr. Backend Engineer</strong>\\nWe are looking for self-starter; you’ll spend your time building reliable backend services and solving complex data processing problems. We would like you to have:</p>\\n<ul>\\n<li>5+ years professional experience as backend or data engineer</li>\\n<li>Very strong skills experience with modern Python (3.8+), MongoDB (particularly 4.2+), and MySQL or MariaDB</li>\\n<li>Significant experience with AWS services, operations and architecture, especially with respect to data heavy applications</li>\\n<li>Spent time building and managing ETL pipelines</li>\\n<li>Familiarity with recent versions of Elasticsearch</li>\\n<li>Strong DevOps experience, with a commitment to engineering best practices</li>\\n</ul>\\n<p>Not all of these are required, but ideally you have experience with:</p>\\n<ul>\\n<li>Typescript / ES (Node)</li>\\n<li>Golang</li>\\n<li>Docker &amp; Kubernetes</li>\\n<li>Terraform</li>\\n<li>Solid understanding of modern security practices</li>\\n<li>CI/CD</li>\\n</ul>\\n<p>Some nice to haves</p>\\n<ul>\\n<li>You have worked with, reconciled and normalized disparate data sets</li>\\n<li>Natural language processing (NLP) experience</li>\\n<li>Strong data modeling skills, and an eye for what the data means in a business and product context</li>\\n<li>Interest in machine learning, and experience building ML-driven or algorithmic data products</li>\\n<li>Some exposure to product analytics data pipelines and basic understanding of AB testing</li>\\n</ul>\\n<p><strong>Finally</strong>\\nWe are a distributed team headquartered in Boston, with an office in Nashville, TN.  However, our culture allows flexibility as to when, where and how you work best – and actively employ and support remote engineers.</p>\\n<p>Benefits include:</p>\\n<ul>\\n<li>Competitive salary (Depending upon experience, range from $90k - $185k)</li>\\n<li>Health and vision</li>\\n<li>An attractive equity package</li>\\n</ul>\\n<p>Basil supports and encourages building a work environment that is diverse, inclusive, and safe for everyone -- and we welcome all applicants.  Contact us at:  <a href=\"mailto:jobs@basilsys.com\">jobs@basilsys.com</a></p>\\n',\n",
       "  'how_to_apply': '<p><a href=\"mailto:jobs@basilsys.com\">jobs@basilsys.com</a></p>\\n',\n",
       "  'company_logo': 'https://jobs.github.com/rails/active_storage/blobs/eyJfcmFpbHMiOnsibWVzc2FnZSI6IkJBaHBBc21ZIiwiZXhwIjpudWxsLCJwdXIiOiJibG9iX2lkIn19--0513be1255b078d5330ac615fd4db17408a85cd8/website_logo_solid_background.png'},\n",
       " {'id': '629a38e4-abfa-44d1-8fb3-d5fa9a20f417',\n",
       "  'type': 'Part Time',\n",
       "  'url': 'https://jobs.github.com/positions/629a38e4-abfa-44d1-8fb3-d5fa9a20f417',\n",
       "  'created_at': 'Wed Feb 10 12:34:33 UTC 2021',\n",
       "  'company': 'Gemeente Amsterdam',\n",
       "  'company_url': 'https://www.amsterdam.nl/',\n",
       "  'location': 'Amsterdam',\n",
       "  'title': 'Senior Python Data Platform Developer',\n",
       "  'description': '<p>Gemeente Amsterdam heeft een vacature voor de functie van</p>\\n<p><strong>Senior Python Data Platform Developer</strong>\\n32-36 uur</p>\\n<p>Als Senior Python Data Platform Developer ontwikkel je mee aan de metadata standaard, het beheer van de metadata in de centrale datacatalogus en vooral: je genereert dynamisch diensten zoals API’s op basis van deze metadata. Je bouwt dus niet alleen, maar denkt ook na - en ontwikkelt – over de toepasbaarheid ervan in het grotere geheel.</p>\\n<p><strong>De functie</strong>\\nWil je bijdragen aan het nieuwe data platform voor de gemeente Amsterdam? In een innovatieve omgeving waarin je werkt aan open source diensten gebaseerd op de nieuwste technieken? Waar je werkt met alle typen data, van groot tot gevoelig, van relationeel tot geografisch? Wil je werken aan een product dat er maatschappelijk écht toe doet? Kom dan werken bij gemeente Amsterdam!</p>\\n<p><strong>In het kort</strong></p>\\n<ul>\\n<li>Je draagt bij aan, en wordt meegenomen in, de ontwikkeling van een digitale datagedreven stad;</li>\\n<li>Je ontwikkelt open source in een innovatieve overheidsomgeving;</li>\\n<li>Je maakt deel uit van de transitie naar Microsoft Azure.</li>\\n</ul>\\n<p><strong>Zo draag je bij aan Gemeente Amsterdam</strong>\\nAls Senior Python Data Platform Developer werk je aan de ontwikkeling van generieke data-diensten voor hét centrale dataplatform van gemeente Amsterdam. Je ontwikkelt mee aan de metadata standaard, het beheer van de metadata in de centrale datacatalogus en vooral: je genereert dynamisch diensten zoals API’s op basis van deze metadata.</p>\\n<p>Je bouwt dus niet alleen, maar denkt ook na - en ontwikkelt – over de toepasbaarheid ervan in het grotere geheel. Je werkt samen met een aantal andere ervaren back-end ontwikkelaars en data engineers.</p>\\n<p><strong>Dit doe je tijdens een gemiddelde sprint</strong></p>\\n<ul>\\n<li>Je werkt in een multidisciplinair Agile/Scrum team, in een moderne DevOps omgeving;</li>\\n<li>Als developer zorg je, in samenspraak met je product owner, voor afstemming met de klant en je teamgenoten. Je geeft heldere en richtinggevende adviezen op het gebied van innovatie, ontwikkeling en onderhoud van de huidige applicaties;</li>\\n<li>Je ontsluit data via RESTful API’s, met microservices die in Docker containers draaien en deployt deze continu naar productie op basis van CI/CD;</li>\\n<li>We ontwikkelen volgens het ‘Open Source tenzij’ principe, streven naar een goede test coverage, evenals secure programming;</li>\\n<li>Een open communicatie vinden we belangrijk. Een omgeving waar je fouten mag maken, waar je van elkaar kan leren en, als het mag van het RIVM, een drankje drinken met elkaar op donderdagmiddag.</li>\\n</ul>\\n<p><strong>Wij vragen</strong>\\nAl onze collega’s verschillen. In functie, leeftijd, afkomst, karakter, dromen en hobby’s. Daar zijn we trots op, want al die verschillen zorgen voor betere resultaten voor onze stad. Dus wie jij ook bent: je bent welkom binnen onze gemeente. Voor deze functie van Senior Python Data Platform Developer zien we ook graag:</p>\\n<ul>\\n<li>Minimaal een HBO werk- en denkniveau richting informatica of informatica-gerelateerd. Het werk- en denkniveau dient aangetoond te worden doormiddel van een diploma en/of werkervaring;</li>\\n<li>Minimaal zes jaar recente werkervaring als back-end developer;\\no\\tJe hebt minimaal twee jaar recente werkervaring met Python;\\no\\tJe hebt ervaring met Django en relationele databases;\\no\\tJe hebt ervaring met werken o.b.v. Infrastructure as Code;</li>\\n<li>Bij voorkeur ook ervaring met / interesse in technologieën zoals:\\no\\tKafka, Spark, AirFlow en andere (streaming) data verwerking tooling;\\no\\tKubernetes, Terraform, Ansible en andere cloud tooling;</li>\\n<li>Bij voorkeur enkele jaren recente werkervaring opgedaan in een organisatie waarin met Agile/Scrum wordt gewerkt;</li>\\n<li>Communicatieve vaardigheden en het vermogen kritisch naar eigen werk en dat van anderen te kijken.</li>\\n</ul>\\n<p><strong>Competenties</strong></p>\\n<ul>\\n<li>Omgevingsbewust;</li>\\n<li>Samenwerken en Relatiebeheer;</li>\\n<li>Communicatieve vaardigheden;</li>\\n<li>Initiatiefnemer;</li>\\n<li>Resultaatgericht;</li>\\n<li>Overtuigingskracht.</li>\\n</ul>\\n<p><strong>Wij bieden</strong></p>\\n<ul>\\n<li>Een arbeidsovereenkomst voor de duur van 12 maanden met de intentie om voor langere tijd met elkaar de verbinding aan te gaan waarbij we streven naar een vaste aanstelling;</li>\\n<li>Je salaris is minimaal € 3.561,- en maximaal € 5.872,- bruto per maand (salarisschaal 11 t/m 12) op basis van 36 uren per week. Het exacte salaris wordt afgestemd op de opleiding, kennis en ervaring die je meebrengt;</li>\\n<li>ruime ontwikkel- en opleidingsmogelijkheden. Met onze interne expertise voor algemene opleidingen, maatwerkontwikkeltrajecten en begeleiding in het werk kan je jezelf blijven uitdagen;</li>\\n<li>Werken in een diverse stad met goede bereikbare locaties in Amsterdam en de kans je te blijven ontwikkelen;</li>\\n<li>flexibiliteit als het gaat om je werktijden en -plek;</li>\\n<li>Een goed pakket secundaire arbeidsvoorwaarden, o.a. opname in het ABP-pensioenfonds, een maandelijkse bijdrage in de ziektekostenverzekering  en een Individueel Keuzebudget van 17,05% van jouw jaarsalaris. Je kunt dit inzetten om bijvoorbeeld extra verlofuren te kopen. Voor een overzicht van alle overige arbeidsvoorwaarden, klik <a href=\"https://www.amsterdam.nl/pga/\">hier</a>.</li>\\n</ul>\\n<p><strong>De organisatie</strong>\\nDe afdeling Onderzoek, Informatie en Statistiek (OIS) van gemeente Amsterdam verzamelt data over Amsterdam en verwerkt deze tot informatie. Van onderwerpen als de Amsterdamse bevolking, de woningvoorraad, de werkgelegenheid en de bedrijvigheid in de stad tot onderwerpen als veiligheid, verkiezingen, zorg en onderwijs. Ook ontwikkelt en beheert OIS de gemeentelijke datavoorziening DataPunt waarmee data en dataproducten beschikbaar zijn voor gemeente en publiek.</p>\\n<p>Zo biedt de website Data en Informatie verschillende mogelijkheden om aan de slag te gaan met de beschikbare gegevens (data.amsterdam.nl), en werkt team Data Services aan een generieke manier waarmee databronnen worden verwerkt en beschikbaar worden gesteld. Denk aan slimme verkeersroutes dankzij onderzoek met behulp van tijdelijke kentekencamera\\'s, met machine learning meldingen openbare ruimte doorgeleiden of data-analyse om de kortste afstanden tot afval containers te berekenen. Hierbij maken we gebruik van zowel bewezen als nieuwe methodes en technieken. Denk aan Machine Learning oplossingen om stadsarchieven te indexeren of straatafval te herkennen, REST APIs en GraphQL voor dataontsluiting en Docker om onze applicaties in de cloud (migratie naar Microsoft Azure) te draaien. Bij ontwikkeling gaan we uit van “Open Source tenzij\". Zodoende hebben we inmiddels bijna 230 publieke Github repositories online staan.</p>\\n<p>Meer informatie over OIS vind je op <a href=\"https://www.data.amsterdam.nl\">www.data.amsterdam.nl</a>. Een deel van onze API’s is open source en kun je <a href=\"https://api.data.amsterdam.nl/api/\">hier</a> vinden, of bekijk ons werk op <a href=\"https://github.com/Amsterdam\">Github</a>.</p>\\n',\n",
       "  'how_to_apply': '<p>Heb je belangstelling voor deze functie? Reageer dan uiterlijk 23 februari 2021 via de <a href=\"https://www.solliciterenbij.amsterdam.nl/vacaturen/onderzoek-informatie/senior-python-data/?utm_source=github&amp;utm_medium=referral&amp;utm_term=2021&amp;utm_content=177980&amp;utm_campaign=senior-python-data-platform-developer\">sollicitatiebutton</a>.</p>\\n<p>Deze vacature staat gelijktijdig intern en extern uit. Medewerkers van de gemeente Amsterdam hebben voorrang in de procedure.</p>\\n<p>De selectieprocedure start meteen na de sluitingstermijn van de vacature en duurt gemiddeld 3 tot 6 weken. In verband met de richtlijnen van het RIVM werken onze collega’s zoveel mogelijk thuis. Als je uitgenodigd wordt voor een eerste gesprek, dan plannen we een videogesprek met je in. Wij nemen contact met je op om de instructies hiervoor met je door te nemen, ruim voordat het gesprek plaatsvindt. Eventueel volgt een tweede gesprek. Zien we onvoldoende raakvlakken, dan ontvang je een e-mail.</p>\\n<p>Een codereview maakt deel uit van de procedure.  Elke collega die ons komt versterken moet een recente Verklaring Omtrent het Gedrag (VOG) aanleveren. Wil je de vacaturetekst nog eens nalezen? Sla deze dan op want na de sluitingstermijn is de tekst niet meer zichtbaar.</p>\\n<p>We willen een diverse en inclusieve organisatie zijn, die ruimte biedt aan iedereen. Diversiteit is een kracht die we gebruiken om betere resultaten te halen voor de stad. We streven naar een personeelsbestand dat een afspiegeling is van de beroepsbevolking van Amsterdam, met alle verschillen. Onze vacatures staan open voor iedereen, tenzij in de tekst iets anders staat.\\nWil je weten hoe het is om bij ons te werken? Bekijk dan de <a href=\"https://www.amsterdam.nl/bestuur-organisatie/werkenbij/medewerkers-aan-het-woord/\">verhalen van onze medewerkers</a>.</p>\\n<p><strong>Vragen over deze vacature</strong>\\nVragen over de vacature kun je stellen aan Eline de Jong, recruiter OIS, bereikbaar via <a href=\"eline.de.jong@amsterdam.nl\">eline.de.jong@amsterdam.nl</a>.</p>\\n<p>Acquisitie naar aanleiding van deze vacature wordt niet op prijs gesteld.</p>\\n',\n",
       "  'company_logo': 'https://jobs.github.com/rails/active_storage/blobs/eyJfcmFpbHMiOnsibWVzc2FnZSI6IkJBaHBBcm1ZIiwiZXhwIjpudWxsLCJwdXIiOiJibG9iX2lkIn19--b80b78d942dad6049d7af9c8e65c20ecc8b660ea/Logo%20Gemeente_Amsterdam_2017.jpg'},\n",
       " {'id': '1f0f0b34-bc65-4ad9-8c58-3ec4dfd067e6',\n",
       "  'type': 'Full Time',\n",
       "  'url': 'https://jobs.github.com/positions/1f0f0b34-bc65-4ad9-8c58-3ec4dfd067e6',\n",
       "  'created_at': 'Tue Feb 09 17:19:13 UTC 2021',\n",
       "  'company': 'Proton.ai',\n",
       "  'company_url': 'https://proton.ai/',\n",
       "  'location': 'Boston, MA or remote',\n",
       "  'title': 'SecOps Engineer',\n",
       "  'description': \"<p>At Proton we're bringing cutting-edge technology to the world of business-to-business distribution. It's a large market that offers an enormous opportunity for growth. The industry we serve accounts for trillions of dollars of revenue a year. It's a huge chance to have an impact by shaking up an industry that's still waking up to the promise of technology. We have a chance to really transform the way a huge number of people work for the better, and bridge the gap between amazing software tools and human expertise.</p>\\n<p>By searching for truth in our customers' data we're helping them make better decisions and be more effective. We are looking for a SecOps engineer to help make that vision a reality.</p>\\n<p>Our backend is largely written with Python, so some experience with that or another dynamic programming language are essential, as is comfort with and interest in cybersecurity, cloud infrastructure, and containerized architectures. Good time management, communication and organizational skills are a plus.</p>\\n<p>As a SecOps engineer you will be a part of our foundations team, working to build out new internal features and improve our current systems, such as permissions management and a development environment. You'll help with CI/CD projects, and will implement and maintain security best practices. You will also problem solve creatively to design and manage the security strategy across Google Cloud infrastructure and user facing applications, ensuring that any potential security issues are quashed before they begin.</p>\\n<p>At Proton, we hire a little differently. We want to find the best person for the job, not the person with the most polished CV or nicest looking business card, so we ask you to submit an application with a few scenario based questions in lieu of a resume. Your answers are randomized, anonymized, and then reviewed by engineers at Proton; our goal is to minimize implicit bias in the hiring process while getting real idea of how you think and hopefully giving you a taste of the day-to-day of the position.</p>\\n\",\n",
       "  'how_to_apply': '<p>Complete an application with us on BeApplied using the following link:</p>\\n<p><a href=\"https://app.beapplied.com/apply/9ckakmdnqj?utm_source=github\">https://app.beapplied.com/apply/9ckakmdnqj?utm_source=github</a></p>\\n',\n",
       "  'company_logo': 'https://jobs.github.com/rails/active_storage/blobs/eyJfcmFpbHMiOnsibWVzc2FnZSI6IkJBaHBBckdZIiwiZXhwIjpudWxsLCJwdXIiOiJibG9iX2lkIn19--e4f59189141f43313c8e271445c97de618968f4f/logo-small.png'},\n",
       " {'id': '922cda48-f1ed-45e7-b95f-fed1210a98b1',\n",
       "  'type': 'Full Time',\n",
       "  'url': 'https://jobs.github.com/positions/922cda48-f1ed-45e7-b95f-fed1210a98b1',\n",
       "  'created_at': 'Tue Feb 09 16:06:52 UTC 2021',\n",
       "  'company': 'http://metrica-sports.com/',\n",
       "  'company_url': 'http://metrica-sports.com/',\n",
       "  'location': 'Remote (UTC-4 to UTC+2)',\n",
       "  'title': 'Full Stack Engineer',\n",
       "  'description': '<p>Metrica Sports is on a mission to provide best in class performance analysis solutions to clubs, teams and players at all levels of the game (from world class champions to amateur teams). We are passionate not only about sports and the impact they have in society, but also about the products we build and the customers we provide solutions for. If you share these values and are an experienced full-stack developer we want to hear from you!</p>\\n<h2>At Metrica Sports you will:</h2>\\n<ul>\\n<li>Be a part of a small and highly skilled team focused on developing high quality software for data and video analysis.</li>\\n<li>Plan and develop new backend services and adapt the existing ones using NodeJS, MongoDB, Redis, etc.</li>\\n<li>Design and implement performant, maintainable and reusable code for our frontend projects using React, Redux, CSS, etc.</li>\\n<li>Analyze existing codebase and come up with alternatives and improvements to meet new requirements in our products.</li>\\n<li>Own your work from development to production and ensure its quality, maintainability, supportability and security.</li>\\n<li>Inspire fellows with your creativity and knowledge sharing.</li>\\n<li>We are an all remote company (time-zones between Eastern Time and Central European time).</li>\\n</ul>\\n<h2>Who we are looking for:</h2>\\n<ul>\\n<li>You are intrinsically curious, like to research new technologies and constantly want to learn and improve.</li>\\n<li>You are highly collaborative, love to share your knowledge and want to work on a small and dynamic team.</li>\\n<li>You have a startup spirit and like to work on fast paced environment.</li>\\n</ul>\\n<h2>You are a good fit if:</h2>\\n<ul>\\n<li>You have 5+ years of experience working as a full-stack engineer.</li>\\n<li>You are comfortable using NodeJS and understand the concepts of modern RESTful development.</li>\\n<li>You have a solid foundation of system design principles, data structures and algorithms.</li>\\n<li>You have experience working with database systems (e.g. MongoDB, Redis, etc.).</li>\\n<li>You have experience using modern JS frontend frameworks (e.g. React, Redux, etc.).</li>\\n<li>You have experience with AWS infrastructure or similar, creating auto-scalable solutions and automating CI/CD pipelines.</li>\\n<li>You are self-driven, value autonomy and are committed to ship high quality code.</li>\\n<li>You have an analytical mind and great attention to details.</li>\\n<li>Fluent in written and spoken English.</li>\\n</ul>\\n<h2>We would value:</h2>\\n<ul>\\n<li>Bachelor\\'s degree in Computer Science, Engineering or equivalent experience.</li>\\n<li>Experience optimizing performance and costs in a cloud architecture.</li>\\n<li>Experience handling servers and data in different regions.</li>\\n<li>Experience using Electron or related frameworks.</li>\\n<li>Experience coding in Typescript, C++ and/or Python.</li>\\n</ul>\\n<h2>To apply:</h2>\\n<ul>\\n<li>Please apply <a href=\"https://apply.workable.com/metrica-sports/j/28240165A3/apply/\">here</a>. We won\\'t consider email applications.</li>\\n<li>We do not accept solicitations by recruiters, recruiting agencies, head hunters and/or outsourcing organizations.</li>\\n</ul>\\n<h2>Hiring process:</h2>\\n<ol>\\n<li>Applications reviewed by team lead and CTO, this process could involve a quick intro call (15mins)</li>\\n<li>Technical interview with team lead. We will ask you to prepare a review of code you have worked on that you are particularly proud of, or think it\\'s interesting to discuss. (1h)</li>\\n<li>Interview with CTO. (1h)</li>\\n<li>Reference calls.</li>\\n<li>Interview with CEO. (1h)\\nOffer.</li>\\n</ol>\\n',\n",
       "  'how_to_apply': '<p>Apply through this link: <a href=\"https://apply.workable.com/metrica-sports/j/28240165A3/apply/\">https://apply.workable.com/metrica-sports/j/28240165A3/apply/</a></p>\\n',\n",
       "  'company_logo': 'https://jobs.github.com/rails/active_storage/blobs/eyJfcmFpbHMiOnsibWVzc2FnZSI6IkJBaHBBcTJZIiwiZXhwIjpudWxsLCJwdXIiOiJibG9iX2lkIn19--593e9b64013a79e6c7b3ad4be4ae7025e5a944cd/Icon_verde%20transp.png'},\n",
       " {'id': 'a7c14b9c-7303-46dc-b306-10929ac10d76',\n",
       "  'type': 'Full Time',\n",
       "  'url': 'https://jobs.github.com/positions/a7c14b9c-7303-46dc-b306-10929ac10d76',\n",
       "  'created_at': 'Tue Feb 09 09:24:12 UTC 2021',\n",
       "  'company': 'Wärtsilä',\n",
       "  'company_url': 'https://careers.wartsila.com/search/?createNewAlert=false&q=&optionsFacetsDD_title=&optionsFacetsDD_country=NL&optionsFacetsDD_customfield2=&optionsFacetsDD_customfield1=&optionsFacetsDD_customfield3=',\n",
       "  'location': 'Drunen, Netherlands',\n",
       "  'title': 'Back-End Developer',\n",
       "  'description': '<p><em>Are you a Back-End Developer asking yourself how you can enjoy developing software and making a big contribution to the global environmental challenges that we are all facing? Join a team of more than 80 international professionals that are creating the most innovative predictive tools for the maritime industry. Help our Digital Development team in shaping a platform that focuses on detecting anomalies that indicate potential failures or reveal conditions involving the consumption of excess fuel. You will build great solutions that will ultimately help our customers in saving energy and resources while gaining safety.</em></p>\\n<p>Our Digital Product Development (DPD) organization develops digital products for Wärtsilä business units in Marine Power, Marine Systems and Energy. DPD uses a common technology stack to generate insight from operational data, to make for example predictive maintenance- or efficiency optimization products such as Wärtsilä Expert Insight. DPD is growing from around 100 to 120 professionals. DPD consists of around 15 agile teams organized in 4 tribes, with clear focus areas, led by Chief Product Owners.</p>\\n<p>Due to the growth of our team, we are looking for 3 Back-End developers with affinity for big data and microservices. As a back-end developer you will be part of one of the agile teams and will develop and maintain our digital products. We provide the opportunity for junior Developers as well as senior Back-Enders who have the ambition to grow to a lead position. You work together with other developers on web-based software and services that are part of a data pipeline. These are used both internally and externally, giving domain experts and customers insights into their operation and helping them in their day-to-day jobs.</p>\\n<p>These are permanent positions and would preferably be located at our office in Drunen, Netherlands</p>\\n<p><strong>As a Back-End Developer your work will focus on these responsibilities:</strong></p>\\n<ul>\\n<li>You participate in the development of our data pipeline, databases and APIs.</li>\\n<li>You create and maintain streaming data pipeline.</li>\\n<li>Align implementation efforts with other developers across multiple development teams.</li>\\n<li>Collaborate together with data scientists in the team to reach the shared goal.</li>\\n<li>You participate in the setup of monitoring for data pipeline status and data quality.</li>\\n</ul>\\n<p><strong>To be successful in this role we expect you to have:</strong></p>\\n<ul>\\n<li>You have a Bachelor or Master’s degree in Computer Science or at least 3 years of relevant experience.</li>\\n<li>Experience with Kafka clusters, -streams, -connectors and Kafka as a messaging and storage solution.</li>\\n<li>Experience with Java and Python.</li>\\n<li>Experience with AWS services.</li>\\n<li>Experience with Kubernetes and Docker.</li>\\n<li>Experience with serverless concepts such as AWS lambda.</li>\\n<li>Experience with SQL and noSQL databases.</li>\\n<li>Experience with automated testing and test driven development.</li>\\n<li>Experience with AI and / or machine learning is a plus.</li>\\n</ul>\\n<p><strong>Why you and us</strong></p>\\n<p>We have an amazing team and a clear purpose to exist. As part of the Digital Product Development Team you will be an integral part in the development of digital products and tools across our business’ and will be key in unlocking the value of operational data all to enhance our performance-based business and support the growth of our lifecycle solutions business. Both our Digital Product Development teams in Drunen and Helsinki fosters an inclusive high-performance culture that people enjoy working in.</p>\\n<p>We are passionate about the work we do and hope to find a colleague with a shared passion for smart technologies and a sustainable future.</p>\\n<p>We offer a competitive salary and promote a healthy work life balance. We foster openness, respect and trust.</p>\\n<p>All our employees are encouraged to utilise the variety of training activities, learning solutions and self-study materials that we have to offer which supports the opportunity to further develop your talents and competencies within a very global working environment,\\u202fin an ambitious and growth orientated organisation.</p>\\n<p><strong>Contact &amp; next steps</strong></p>\\n<p>Does this sound like the job for you? If yes, we hope to hear from you before the application deadline 02-03-2021, through submitting your application through our careers portal.</p>\\n<p>In case you have questions about the process please contact Dré Schellekens (Corporate Recruiter) by email: <a href=\"mailto:dre.schellekens@wartsila.com\">dre.schellekens@wartsila.com</a></p>\\n',\n",
       "  'how_to_apply': '<p>Apply via our career portal or send an e-mail to <a href=\"mailto:dre.schellekens@wartsila.com\">dre.schellekens@wartsila.com</a></p>\\n',\n",
       "  'company_logo': 'https://jobs.github.com/rails/active_storage/blobs/eyJfcmFpbHMiOnsibWVzc2FnZSI6IkJBaHBBcFdZIiwiZXhwIjpudWxsLCJwdXIiOiJibG9iX2lkIn19--a47ce883577f697d9945333b5fdc7fe6dc4faec2/NEW_wartsila-rgb150.jpg'},\n",
       " {'id': '44ebbf1b-89cb-48c3-9102-5e385db18810',\n",
       "  'type': 'Full Time',\n",
       "  'url': 'https://jobs.github.com/positions/44ebbf1b-89cb-48c3-9102-5e385db18810',\n",
       "  'created_at': 'Tue Feb 09 09:16:27 UTC 2021',\n",
       "  'company': 'Wärtsilä',\n",
       "  'company_url': 'https://careers.wartsila.com/search/?createNewAlert=false&q=&optionsFacetsDD_title=&optionsFacetsDD_country=NL&optionsFacetsDD_customfield2=&optionsFacetsDD_customfield1=&optionsFacetsDD_customfield3=',\n",
       "  'location': 'Drunen, Netherlands',\n",
       "  'title': 'Front-End Developer',\n",
       "  'description': '<p><em>Are you a Front-end Developer and happen to ask yourself how can your work help in this global environmental challenge that we all are facing? Join a team of more than 80 international professionals that are creating the most innovative predictive tools for the maritime industry. Help our Digital Development team in shaping a platform that focuses on detecting anomalies that indicate potential failures or reveal conditions involving the consumption of excess fuel. You will build great solutions that will ultimately help our customers in saving energy and resources while gaining safety.</em></p>\\n<p>Our DPD (Digital Product Development) organization develops digital products for Wärtsilä business units in Marine Power, Marine Systems and Energy. DPD uses a common technology stack to generate insight from operational data, to make for example predictive maintenance- or efficiency optimization products such as Wärtsilä Expert Insight. Our organization is growing from around 100 to 120 professionals, which is why we are looking for 4 Front-end developers to join our team.</p>\\n<p>As a Front-end Developer you will work together with other developers on web-based software that is used both internally and externally, giving domain experts and customers insights into their operation and helping them in their day-to-day jobs. Besides working on the user-facing parts you will also contribute to the internal technical, shared packages and tooling to improve the quality of life for yourself and your peers, therefor affinity for both the technical and visual side of front-end development is desired.</p>\\n<p>Our DPD organization consists of around 15 agile teams organized in 4 tribes, with clear focus areas, led by Chief Product Owners. As a front-end developer you will be part of one of the agile teams and will develop and maintain our digital products.</p>\\n<p>These are permanent positions and would preferably be located at our office in Drunen, Netherlands</p>\\n<p><strong>As a Front-end Developer your work will focus on these responsibilities:</strong></p>\\n<ul>\\n<li>You build and develop our new responsive web app that works well on a variety of screen resolutions and browsers.</li>\\n<li>You develop new features for our products and services which provide our customers with actionable information through multiple channels.</li>\\n<li>You participate in end to end development through prototyping, validation, implementation, launch, and further iterations.</li>\\n<li>You actively contribute to continuous integration efforts and improvements on our way of working.</li>\\n<li>You collaborate with UX designers to develop appealing and intuitive interfaces based on graphic designs or mock-ups.</li>\\n</ul>\\n<p><strong>To be successful in this role we expect you to have:</strong></p>\\n<ul>\\n<li>You have a Bachelor or Master’s degree in Computer Science or at least 3 years of relevant experience with front-end-development specifically: JavaScript (including ESNext and/or TypeScript), HTML5, CSS and/or Sass.</li>\\n<li>Experience with and/or skills in UX design/development; you\\'re able to create an aesthetically pleasing and user experience friendly interface based on (or without any) minimal mock-ups.</li>\\n<li>Experience with React or similar technologies like Angular or Vue.js.</li>\\n<li>Experience with automated unit, visual, and/or contract testing, we use Jest for this.</li>\\n<li>Experience with back-end development (e.g. Java, Python) or experience working with BaaS (e.g. Firebase) is a plus.VOl</li>\\n<li>Experience developing online applications, especially those containing a lot of data, is a plus.</li>\\n</ul>\\n<p><strong>Why you and us</strong></p>\\n<p>We have an amazing team and a clear purpose to exist. As part of the Digital Product Development Team you will be an integral part in the development of digital products and tools across our business’ and will be key in unlocking the value of operational data all to enhance our performance-based business and support the growth of our lifecycle solutions business. Both our Digital Product Development teams in Drunen and Helsinki fosters an inclusive high-performance culture that people enjoy working in.</p>\\n<p>We are passionate about the work we do and hope to find a colleague with a shared passion for smart technologies and a sustainable future.</p>\\n<p>We offer a competitive salary and promote a healthy work life balance. We foster openness, respect and trust.</p>\\n<p>All our employees are encouraged to utilise the variety of training activities, learning solutions and self-study materials that we have to offer which supports the opportunity to further develop your talents and competencies within a very global working environment,\\u202fin an ambitious and growth orientated organisation.</p>\\n<p><strong>Contact &amp; next steps</strong></p>\\n<p>Does this sound like the job for you? If yes, we hope to hear from you before the application deadline 02-03-2021, through submitting your application through our careers portal.</p>\\n<p>In case you have questions about the process please contact Dré Schellekens (Corporate Recruiter) by email: <a href=\"mailto:dre.schellekens@wartsila.com\">dre.schellekens@wartsila.com</a></p>\\n',\n",
       "  'how_to_apply': '<p>Apply via our career portal or send an e-mail to <a href=\"mailto:dre.schellekens@wartsila.com\">dre.schellekens@wartsila.com</a></p>\\n',\n",
       "  'company_logo': 'https://jobs.github.com/rails/active_storage/blobs/eyJfcmFpbHMiOnsibWVzc2FnZSI6IkJBaHBBbytZIiwiZXhwIjpudWxsLCJwdXIiOiJibG9iX2lkIn19--fcfe3e70ea2235e975d7effe75d1e70103154f7c/NEW_wartsila-rgb150.jpg'},\n",
       " {'id': 'ea271712-3996-46b5-aa4f-adeaacdf4f6e',\n",
       "  'type': 'Full Time',\n",
       "  'url': 'https://jobs.github.com/positions/ea271712-3996-46b5-aa4f-adeaacdf4f6e',\n",
       "  'created_at': 'Tue Feb 09 07:37:29 UTC 2021',\n",
       "  'company': 'The Remote Company',\n",
       "  'company_url': 'https://www.remotecompany.com/',\n",
       "  'location': 'Remote',\n",
       "  'title': 'Database Reliability Engineer ',\n",
       "  'description': '<p><strong>Job Description</strong></p>\\n<p><em>The Remote Company</em> is a network of remote-first tech companies. We\\'re united by our values and approach to doing business.</p>\\n<p>You will work across all of our products - MailerLite, MailerSend, MailerCheck and Ycode.</p>\\n<p>We need people in our team that are passionate and great at what they do. We’re looking for a Database Reliability Engineer who would help us scale our grand databases so we can support our customers need for growth.</p>\\n<p><strong>Why The Remote Company?</strong></p>\\n<p>Here are 6 reasons!</p>\\n<p><strong>- You won’t be bored</strong>\\nWe are always looking for improvements and new ideas. You want to implement something? Write up the idea and start working on it.</p>\\n<p><strong>- You will be challenged with interesting tasks</strong>\\nOur databases are huge and we have a lots of them. You will be able to take charge and re-architecture the whole system if you see viable.</p>\\n<p><strong>- Take ownership</strong>\\nWe don’t micromanage and try not to interrupt your work with random tasks. We do expect you to take full responsibility and ownership for the stuff you build.</p>\\n<p><strong>- You’ll have experts at hand</strong>\\nWhenever you’re stuck, your teammates are eager to help you grow. And they’d love for you to share your knowledge too!</p>\\n<p><strong>- You can pick where you want to work, every day</strong>\\nAt MailerLite, we embrace the remote culture. Part of the team works from the office in Vilnius, the others are spread around the world. Every day you get to choose what environment makes you most productive.</p>\\n<p><strong>- You can count on stability</strong>\\nWe\\'re not a startup that\\'s burning investor money. MailerLite has been around for more than 10 years and is a profitable company that continues to grow. You can count on us to offer you a stable workplace!</p>\\n<p><strong>What we expect from you</strong></p>\\n<ul>\\n<li>Have at least 5 years experience running MySQL and PostgreSQL in large production environments</li>\\n<li>You know how to work with Ansible (or any other configuration management tool) and Terraform</li>\\n<li>Programming skills (Bash, Golang, Python)</li>\\n<li>Solid knowledge of SQL</li>\\n<li>Linux shell is your home</li>\\n<li>Communicative, proactive, go-for it attitude</li>\\n<li>Excellent English skills</li>\\n<li>Know your way around CloudSQL (we use Google Cloud)</li>\\n<li>Bonus: If you have experience managing MongoDB and TimescaleDB you will come up on top of our list</li>\\n</ul>\\n<p><strong>What we offer</strong></p>\\n<ul>\\n<li>Competitive salary: $50,000-$75,000 (gross)</li>\\n<li>Company-paid retreats that we call\\xa0<a href=\"https://www.mailerlite.com/workation\">workations</a>. We gather twice a year for a week in an exotic location to work, learn and have fun together</li>\\n<li>Generous vacation policy. Take time off when you need it. We trust you</li>\\n<li>Annual benefits, which include a budget for home office setup, personal development, leisure trips, etc.</li>\\n<li>Company-paid creative days. Go out explore and share your discoveries with the team afterward</li>\\n<li>MacBook and other tools that\\'ll help you to do your job efficiently</li>\\n<li>Remote-first culture with part of the team in Vilnius, Lithuania and the others working remotely from all over the world</li>\\n<li>Free healthy lunches, snacks and amazing coffee in the Vilnius office</li>\\n</ul>\\n<p><strong>Interested?</strong></p>\\n<p>Please don’t send us your CV.\\nInstead, simply send us an application email with the below information to <em><a href=\"mailto:jobs@remotecompany.com\">jobs@remotecompany.com</a></em>.</p>\\n<p><em>Things we want to see in your email:</em></p>\\n<ul>\\n<li>The title of this role in your email subject line</li>\\n<li>How you heard about this job</li>\\n<li>Links to your Linkedin, Github, Twitter, Facebook or personal homepage</li>\\n<li>Previous companies you worked for, your role, projects you worked on</li>\\n<li>Why you want to join The Remote Company</li>\\n<li>Your remote work experience</li>\\n<li>Your description of a project or product that you loved working on and why</li>\\n<li>Expected salary</li>\\n</ul>\\n',\n",
       "  'how_to_apply': '<p>Please don’t send us your CV.\\nInstead, simply send us an application email with the below information to <a href=\"mailto:jobs@remotecompany.com\">jobs@remotecompany.com</a>.</p>\\n<p>Things we want to see in your email:</p>\\n<p>*The title of this role in your email subject line</p>\\n<p>*How you heard about this job</p>\\n<p>*Links to your Linkedin, Github, Twitter, Facebook or personal homepage</p>\\n<p>*Previous companies you worked for, your role, projects you worked on</p>\\n<p>*Why you want to join The Remote Company</p>\\n<p>*Your remote work experience</p>\\n<p>*Your description of a project or product that you loved working on and why</p>\\n<p>*Expected salary</p>\\n',\n",
       "  'company_logo': 'https://jobs.github.com/rails/active_storage/blobs/eyJfcmFpbHMiOnsibWVzc2FnZSI6IkJBaHBBb3FZIiwiZXhwIjpudWxsLCJwdXIiOiJibG9iX2lkIn19--4d96ba3961be85dd5e3babc54c27a58d6fe39532/Logo%20TRC.png'},\n",
       " {'id': '8c9d51c8-28c6-456b-98e4-0c2c13de1b4d',\n",
       "  'type': 'Full Time',\n",
       "  'url': 'https://jobs.github.com/positions/8c9d51c8-28c6-456b-98e4-0c2c13de1b4d',\n",
       "  'created_at': 'Mon Feb 08 16:40:33 UTC 2021',\n",
       "  'company': 'strongDM',\n",
       "  'company_url': 'https://jobs.lever.co/strongdm',\n",
       "  'location': 'Remote (USA)',\n",
       "  'title': 'Data Engineer',\n",
       "  'description': \"<p>Analytics at strongDM is unique because we’re a young company that has invested in data efforts early. Our leadership team is data literate and has broad experience building data products and leading analytics functions. And, we have a shared focus on how we expect the data platform to power our business.</p>\\n<p>Sound good? We’re looking to add a data engineer to the team to help define our strategy, and execute on building everything we need to get there.</p>\\n<p><strong>What You'll Do:</strong></p>\\n<ul>\\n<li>Build and operate batch and streaming pipelines to ingest data into a lakehouse (we’re currently using S3+Glue+Athena+Redshift)</li>\\n<li>Build and operate full refresh and incremental pipelines to compute derived models (we’re currently using dbt, python+pandas, and Spark)</li>\\n<li>Build and operate outbound pipelines to send data in actionable shapes to line-of-business tools</li>\\n<li>Curate the datasets in the lakehouse to facilitate analysis, reporting, and self-serve querying (we’re currently using Jupyter and Redash)</li>\\n<li>Partner with engineers, data analysts, and business stakeholders on data efforts</li>\\n</ul>\\n<p><strong>Requirements:</strong></p>\\n<ul>\\n<li>Proficiency in SQL and SQL based modelling tools (we’re using dbt)</li>\\n<li>Proficiency in python and pandasverse, and familiarity with Golang, Javascript</li>\\n<li>3+ years of experience in a data-heavy engineering role</li>\\n<li>Experience working at a tech startup or other high velocity engineering culture</li>\\n<li>A strong ethos for getting things done (we iterate quickly, and pair program daily)</li>\\n</ul>\\n<p><strong>Compensation:</strong></p>\\n<ul>\\n<li>Industry-standard base</li>\\n<li>Medical, dental, and vision insurance</li>\\n<li>401k, HSA, FSA, short/long-term disability, 3 months parental leave</li>\\n<li>3 weeks PTO + standard holidays</li>\\n<li>Equity in a fast-growing startup</li>\\n<li>No travel required</li>\\n</ul>\\n\",\n",
       "  'how_to_apply': '<p><a href=\"https://jobs.lever.co/strongdm/66e84d40-aaba-4d94-990d-9e450adc57c2?lever-origin=applied&amp;lever-source%5B%5D=GitHub\">https://jobs.lever.co/strongdm/66e84d40-aaba-4d94-990d-9e450adc57c2?lever-origin=applied&amp;lever-source%5B%5D=GitHub</a></p>\\n',\n",
       "  'company_logo': 'https://jobs.github.com/rails/active_storage/blobs/eyJfcmFpbHMiOnsibWVzc2FnZSI6IkJBaHBBbitZIiwiZXhwIjpudWxsLCJwdXIiOiJibG9iX2lkIn19--c312d2c28c633b650e61b0fe1b3fb157a0b06fdb/Capture1.PNG'},\n",
       " {'id': '1a3e40c4-e1d1-43a3-a814-c788287e040e',\n",
       "  'type': 'Part Time',\n",
       "  'url': 'https://jobs.github.com/positions/1a3e40c4-e1d1-43a3-a814-c788287e040e',\n",
       "  'created_at': 'Mon Feb 08 14:50:15 UTC 2021',\n",
       "  'company': 'CTemplar',\n",
       "  'company_url': 'http://www.ctemplar.com',\n",
       "  'location': 'online',\n",
       "  'title': \"Front & Back End Dev's for E2EE Email Service\",\n",
       "  'description': '<p>I own an end to end encrypted email service with mobile apps.  My company has been in operation for over 3 years, it has many complex features and we have over 100k users.</p>\\n<p>I want to hire 2 people.  One person on the front end and one person on the backend.  Your initial assignment will be to do an audit of the existing code we have.</p>\\n<p>Back End Dev Wanted\\nPython, Django, Django Rest. Framework</p>\\n<p>Front End Dev Wanted\\nThe skills required are: Angular, HTML/CSS.  Knowledge of end to end encryption is a plus.\\nThis is not related to your work, but the backed uses Python, Django, Django Rest &amp; Framework.</p>\\n',\n",
       "  'how_to_apply': '<p>To apply email your resume and link to your Github profile to <a href=\"mailto:godfry@ctemplar.com\">godfry@ctemplar.com</a></p>\\n',\n",
       "  'company_logo': 'https://jobs.github.com/rails/active_storage/blobs/eyJfcmFpbHMiOnsibWVzc2FnZSI6IkJBaHBBbnFZIiwiZXhwIjpudWxsLCJwdXIiOiJibG9iX2lkIn19--9b947be327f43635c1b169cec7d9e26a677230ea/44853530_254157375285673_1026838221327171584_n.png'},\n",
       " {'id': '980f561f-9497-4979-835c-137d94ead31d',\n",
       "  'type': 'Full Time',\n",
       "  'url': 'https://jobs.github.com/positions/980f561f-9497-4979-835c-137d94ead31d',\n",
       "  'created_at': 'Mon Feb 08 13:38:43 UTC 2021',\n",
       "  'company': 'Gorgias',\n",
       "  'company_url': 'https://www.gorgias.com/',\n",
       "  'location': 'Paris',\n",
       "  'title': 'Senior Front-End Engineer ReactJS',\n",
       "  'description': '<p><a href=\"http://gorgias.com/\">Gorgias</a>\\xa0helps e-commerce companies deliver excellent customer service at scale.</p>\\n<p>Our product creates a unified profile of customers by combining emails, live-chat, and social-media messages with e-commerce data such as purchase and delivery info.</p>\\n<p>Combining all this data in a single application makes customer service more efficient and just better. Another fortunate side-effect is that some requests are completely automated using ML. 💬 + 📦 = ❤️</p>\\n<p>We\\'ve been around since 2015, and we\\'re currently serving over <strong>5000+</strong> e-commerce businesses, including Steve Madden, and Timbuk2.</p>\\n<p>This position is either fully remote (Central European timezones) or onsite at our Paris office (75011). For europeans, we offer a relocation package for you and each family member. :)</p>\\n<h3>Join us! Resistance is futile!</h3>\\n<ul>\\n<li>You\\'ll fit right in if you care about working on applications that are putting the customer needs first. At Gorgias, we work hard, so our customers have an easier job! We also like working with people that \"get stuff done\" and are confident about pushing their code to production many times a day. You\\'re also one of those people that cares about becoming a better engineer and human every day. Learning never stops; we help each other get better!</li>\\n<li>If getting your hands dirty in a real-world application that touches the lives of millions is your thing, then yeah, Gorgias is for you.</li>\\n</ul>\\n<h3>About the Self Serve team</h3>\\n<ul>\\n<li>Work with our newest team to build a set of empowering self-service features for our end users (our customer\\'s customer).</li>\\n</ul>\\n<p>As an example of current projects:</p>\\n<ul>\\n<li>a live chat with automated interactions for common requests (track orders, return order, cancel order...)</li>\\n<li>a dashboard where end users can follow progress on all their orders, submit issues...</li>\\n<li>a help center that will enable end users to solve most of their problems on their own</li>\\n</ul>\\n<p>The tools we build will eventually be installed and used by thousands of shops around the world and billions of end-users!</p>\\n<p>As for technologies we use:</p>\\n<ul>\\n<li>ReactJS with Typescript</li>\\n<li>Websocket and NodeJs workers</li>\\n<li>Kubernetes</li>\\n</ul>\\n<h3>About You</h3>\\n<ul>\\n<li>3+ years of experience working with ReactJS</li>\\n<li>You\\'ve shown some level of ownership in previous roles/projects and love to tear down roadblocks alongside a collaborative team</li>\\n<li>You\\'ve worked in a professional team environment</li>\\n</ul>\\n<h3>Nice to Have</h3>\\n<ul>\\n<li>Experience with NodeJS</li>\\n<li>2+ years of experience with TypeScript</li>\\n<li>Experience writing in Python or comfortable reading documentation in Python</li>\\n<li>Experience with WebSocket</li>\\n<li>Experience working on live chat features or products is a big plus!</li>\\n</ul>\\n<h3>More info about the company:</h3>\\n<ul>\\n<li>Raised our series A in November 2019:\\xa0<a href=\"https://techcrunch.com/2019/11/26/gorgias-series-a/\">techcrunch.com/2019/11/26/gorgias-series-a</a>\\n</li>\\n<li>Raised our series B in December 2020:\\xa0<a href=\"https://techcrunch.com/2020/12/10/gorgias-series-b/\">https://techcrunch.com/2020/12/10/gorgias-series-b/</a>\\n</li>\\n<li>What our customers are saying:\\xa0<a href=\"https://apps.shopify.com/helpdesk#reviews\">apps.shopify.com/helpdesk#reviews</a>\\n</li>\\n<li>Our software stack:\\xa0<a href=\"https://stackshare.io/gorgias\">stackshare.io/gorgias</a>\\n</li>\\n<li>Other positions:\\xa0<a href=\"https://jobs.lever.co/gorgias\">jobs.lever.co/gorgias</a>\\n</li>\\n</ul>\\n<h3>Company Perks &amp; Benefits</h3>\\n<ul>\\n<li>Competitive salary, equity packages, and performance bonus packages</li>\\n<li>5 weeks of vacation and parental leave</li>\\n<li>Latest MacBook Pro or equivalent</li>\\n<li>Natural sunlight and open office with lounge area</li>\\n<li>Relocation package\\xa0for you and your family</li>\\n<li>Complementary health coverage (Mutuelle)</li>\\n<li>50% of public transportation expenses</li>\\n<li>Free lunch x5 a week</li>\\n</ul>\\n<h3>Why join us?</h3>\\n<ul>\\n<li>🚀 Join a high growth tech startup at a crucial time, and with an unusually technical growth team</li>\\n<li>🙏 Join a company where automation, good &amp; clean data are core beliefs shared by all</li>\\n</ul>\\n<h3>Engineering Team Culture</h3>\\n<p>Getting Stuff Done, Ownership, Team Work, Excellence, and Agility.</p>\\n<p>You should join us if you want to ship stuff fast without scarifying quality. We\\'ve put great importance on testing our code, cleaning it, treating errors first, and features later.</p>\\n<p>We also value growth and ownership. People make mistakes. We learn from them to avoid them in the future. We cannot achieve excellence if there are no bumps in the road.</p>\\n',\n",
       "  'how_to_apply': '<p>Thanks for your interest!</p>\\n<p>Please submit your application here: <a href=\"https://jobs.lever.co/gorgias/70b4cd59-3040-4c08-a2dd-90afac125e95\">https://jobs.lever.co/gorgias/70b4cd59-3040-4c08-a2dd-90afac125e95</a></p>\\n',\n",
       "  'company_logo': 'https://jobs.github.com/rails/active_storage/blobs/eyJfcmFpbHMiOnsibWVzc2FnZSI6IkJBaHBBblNZIiwiZXhwIjpudWxsLCJwdXIiOiJibG9iX2lkIn19--fb99c0e7003ffe89ca10b16cc763e344f908421a/207-2077347_gorgias-logo-png-email-tool-chrome-extension-gorgias.png'},\n",
       " {'id': '0b155a82-e623-44b4-bd40-0cc3f58ac42e',\n",
       "  'type': 'Full Time',\n",
       "  'url': 'https://jobs.github.com/positions/0b155a82-e623-44b4-bd40-0cc3f58ac42e',\n",
       "  'created_at': 'Mon Feb 08 13:28:25 UTC 2021',\n",
       "  'company': 'Equinix',\n",
       "  'company_url': 'https://www.equinix.com',\n",
       "  'location': 'Singapore',\n",
       "  'title': 'Full Stack Developer - Building next-gen products and architecture',\n",
       "  'description': '<p>Equinix is the world’s digital infrastructure company, operating 210 data centers across the globe and providing interconnections to all the key clouds and networks. Businesses need one place to simplify and bring together fragmented, complex infrastructure that spans private and public cloud environments. Our global platform allows customers to place infrastructure wherever they need it and connect it to everything they need to succeed.</p>\\n<p>At Equinix, we help the world’s digital leaders scale with agility, speed the launch of digital services, deliver world-class experiences, and transform people’s lives. Our culture is based on collaboration and the growth and development of our teams.</p>\\n<p>We hire hardworking people who thrive on solving challenging problems and give them opportunities to hone new skills, and try new approaches, as we grow our product portfolio with new software and network architecture solutions. We embrace diversity in thought and contribution and are committed to providing an equitable work environment. that is foundational to our core values as a company and is vital to our success</p>\\n<p>As a key member of the Product Engineering team, you will be responsible for the end-to-end development lifecycle from the requirement, architecture, design, implementation, testing, deployment, and support with a focus on delivering solutions adhering to business goals, technical requirements, and engineering standards.</p>\\n<h2>Job Responsibilities:</h2>\\n<ul>\\n<li>Hands-on Design, Development, Deployment &amp; Support of JavaScript based platforms, frameworks, and applications</li>\\n<li>Incorporates standards and best practices, including performance, security, scalability, and maintainability</li>\\n<li>Interact with Business System Analysts to design and deliver technical solutions to support various business functions</li>\\n<li>Create rich web user interfaces using HTML, CSS, and JavaScript.</li>\\n<li>Create server-side functionality using asynchronous, highly scalable design principles</li>\\n<li>Provide thought leadership and lead innovation by exploring, investigating, recommending, benchmarking and implementing tools and frameworks.</li>\\n<li>Work in a Globally Distributed Development team environment to enable successful delivery with a minimal supervision</li>\\n<li>Advocate, document, and follow best design and development practices</li>\\n</ul>\\n<h2>It is you, if:</h2>\\n<ul>\\n<li>You are passionate, creative and self-driven</li>\\n<li>You are curious and collaborative, and a believer in the power of teams and teamwork</li>\\n<li>You are flexible and have a broad set of capabilities to wear multiple hats</li>\\n<li>You thrive in a dynamic and a fast-paced environment</li>\\n<li>You pursue speed and simplicity relentlessly</li>\\n<li>You are a natural leader in everything you do</li>\\n</ul>\\n<h2>Experience:</h2>\\n<ul>\\n<li>BS/MS degree or equivalent with 6+ years in the field of Software Engineering and Development</li>\\n<li>An obsession with customer experience, product fidelity, developer documentation, Web App ecosystem, and exceptional developer experience.</li>\\n<li>Minimum 4+ years of strong hands-on development experience with JavaScript and related open source technologies</li>\\n<li>Extensive experience developing and running production application in ReactJS is a must</li>\\n<li>Minimum 3+ years of hands-on experience with Frameworks like Nodejs, React.js, Vue.js, Angular.js, HTML 5, CSS 3, etc.</li>\\n<li>Exposure to the other frameworks and programming languages like Java, Python, Golang is a plus</li>\\n<li>Working Knowledge on Reactive/Functional Programming</li>\\n<li>Strong understanding of design patterns and best practices in JavaScript</li>\\n<li>Good understanding of Identity concepts - SAML, JWT, OAuth etc.</li>\\n<li>Experience with web servers &amp; application servers such as Apache and Nginx</li>\\n<li>Working experience with Swagger (Open API Spec), OAuth, REST, JSON etc.,</li>\\n<li>Experience/knowledge on Data modeling and Nodejs integration with NO-SQL technologies like Redis, Cassandra etc. is a plus</li>\\n<li>Solid understanding of how to use tools like Git, Jira, and Jenkins</li>\\n<li>Solid understanding of JS unit testing frameworks</li>\\n<li>Proven ability to quickly grasp the implications of evolving industry trends &amp; technology intersects</li>\\n<li>Exceptional communication, organization, and presentation skills</li>\\n<li>Experience working within Agile or Scaled Agile Framework is required</li>\\n</ul>\\n<h2>Interested?</h2>\\n<p>Please apply by clicking the <strong>\\'Application\\'</strong> form.</p>\\n<p><a href=\"https://vonq.io/3rD3FVP\">Click here for the application form!</a></p>\\n',\n",
       "  'how_to_apply': '<p><a href=\"https://vonq.io/3rD3FVP\">Click here for the application form!</a></p>\\n',\n",
       "  'company_logo': 'https://jobs.github.com/rails/active_storage/blobs/eyJfcmFpbHMiOnsibWVzc2FnZSI6IkJBaHBBbStZIiwiZXhwIjpudWxsLCJwdXIiOiJibG9iX2lkIn19--4ded80dc14556c616622d5a62ccfc0cfda4426bd/EQ.jpeg'},\n",
       " {'id': '03b1c8bf-4b3c-45f5-9013-f7281c268008',\n",
       "  'type': 'Full Time',\n",
       "  'url': 'https://jobs.github.com/positions/03b1c8bf-4b3c-45f5-9013-f7281c268008',\n",
       "  'created_at': 'Sat Feb 06 17:10:49 UTC 2021',\n",
       "  'company': 'Iceotope Technologies Ltd',\n",
       "  'company_url': 'http://www.iceotope.com',\n",
       "  'location': 'Sheffield, South Yorkshire',\n",
       "  'title': 'Embedded Software Engineer',\n",
       "  'description': '<p>Title: Embedded Software Engineer</p>\\n<p>Salary: £45,000 to £60,000</p>\\n<p>Remote/Work from Home</p>\\n<p>Iceotope Technologies Ltd is based on the Advanced Manufacturing Park in  Sheffield, South Yorkshire. Due to increasing demand we are now seeking Embedded Software Engineers and will consider applications from people seeking permanent, fixed term and contract roles.</p>\\n<p>Our engineers are innovators, developing cutting edge, complex electronics, solving unique problems for a global market.</p>\\n<p>RESPONSIBILITIES</p>\\n<p>Design, develop, code, test, and debug system software.\\nReview code and design complex operating systems\\nUnderstand and generate detailed requirements/specifications according to business needs.\\nDocumentation and presentation to support and communicate your findings and recommendations.\\nIntegrate and validate new product designs to complete projects within allotted budgets and timelines.\\nProvide post product launch support.\\ndevelop and maintain a close relationship with hardware design engineers.\\nPresent project progress to lead Embedded Electronics Design Engineer</p>\\n<p>PERSON SPECIFICATION</p>\\n<ul>\\n<li>Embedded programming</li>\\n<li>Embedded debugging with JTAG / Eclipse</li>\\n<li>Embedded Linux development</li>\\n<li>Scripting languages – Python, TCL, bash</li>\\n<li>Version control – GIT or SVN</li>\\n<li>Hardware debugging</li>\\n<li>Embedded ARM, SOC</li>\\n<li>Yocto or Buildroot</li>\\n<li>Ethernet, I2C, SPI</li>\\n</ul>\\n<p>DESIRABLE SKILLS</p>\\n<ul>\\n<li>TI MSP43X, STM32 or equivalent</li>\\n<li>FPGA skills, or xilinx ZYNQ etc.</li>\\n</ul>\\n',\n",
       "  'how_to_apply': '<p>Please email your cv to <a href=\"mailto:sally.clark@iceotope.com\">sally.clark@iceotope.com</a></p>\\n',\n",
       "  'company_logo': 'https://jobs.github.com/rails/active_storage/blobs/eyJfcmFpbHMiOnsibWVzc2FnZSI6IkJBaHBBbHlZIiwiZXhwIjpudWxsLCJwdXIiOiJibG9iX2lkIn19--eb3ecbf7d0f4ceb4cd1d30b6f6c174b23f45d34b/Iceotope%20Logo.jpg'},\n",
       " {'id': '80f75a54-7e8e-48e9-b020-a0dea654110a',\n",
       "  'type': 'Full Time',\n",
       "  'url': 'https://jobs.github.com/positions/80f75a54-7e8e-48e9-b020-a0dea654110a',\n",
       "  'created_at': 'Sat Feb 06 13:49:24 UTC 2021',\n",
       "  'company': 'Datica Inc',\n",
       "  'company_url': None,\n",
       "  'location': 'United States- Remote',\n",
       "  'title': 'Software Engineer',\n",
       "  'description': '<p>We are looking for an experienced Software Engineer to join our team supporting our customers as they tackle healthcare in the Cloud! In this role you will design, develop, and build secure and compliant solutions across our products to help our customers deploy and manage healthcare information in the Cloud.</p>\\n<p>What you’ll be doing</p>\\n<p>As a Software Engineer on a remote team, work directly with other Engineers, QA, Product Management, and Operations in an Agile environment</p>\\n<p>Develop elegant, efficient, and test-driven code while building features and supporting our products</p>\\n<p>Provide technical leadership and participate in architectural decision-making on new capabilities and automation</p>\\n<p>Drive new features from inception to design to production release</p>\\n<p>Qualifications</p>\\n<p>Degree in Computer Science, Software Engineering, or equivalent experience</p>\\n<p>Four years software engineering experience</p>\\n<p>Proven ability to deliver working software for a complex system</p>\\n<p>Ability to work effectively in a group setting using source control, performing code reviews, and pairing as necessary</p>\\n<p>Familiarity with Docker and orchestration tools like Kubernetes or AWS ECS Experience deploying in -IaaS environments, particularly AWS</p>\\n<p>Delivering software within a regulated industry (healthcare, finance, etc.) a huge plus</p>\\n<p>Experience with CloudFormation, Salt, Terraform, Ansible, or other DevOps tooling</p>\\n<p>Experience with the AWS CDK a huge plus (though not required)</p>\\n<p>Experience with computer security, information assurance, information security</p>\\n<p>Experience delivering production services built with Javascript, Typescript, Go or Python</p>\\n<p>Experience writing extensive tests with a passion for automation</p>\\n<p>Must be a US citizen</p>\\n<p>**No recruiting firms please</p>\\n',\n",
       "  'how_to_apply': '<p>datica.com/careers</p>\\n',\n",
       "  'company_logo': 'https://jobs.github.com/rails/active_storage/blobs/eyJfcmFpbHMiOnsibWVzc2FnZSI6IkJBaHBBbE9ZIiwiZXhwIjpudWxsLCJwdXIiOiJibG9iX2lkIn19--691873ff0b1a76f83b80d8decc401c35e30c2723/Datica%20Logo-Horizontal%20-%20Teal%20_PNG_Trans.png'},\n",
       " {'id': '03766666-0706-40ed-8846-709d205ab42c',\n",
       "  'type': 'Full Time',\n",
       "  'url': 'https://jobs.github.com/positions/03766666-0706-40ed-8846-709d205ab42c',\n",
       "  'created_at': 'Fri Feb 05 20:05:18 UTC 2021',\n",
       "  'company': 'Segmint Inc',\n",
       "  'company_url': 'http:',\n",
       "  'location': 'Permanently Remote',\n",
       "  'title': 'Senior Data Engineer - Permanently Remote',\n",
       "  'description': '<p>Segmint empowers financial institutions and financial technology providers to easily understand and leverage data, interact with customers, and measure results. Derived from billions of transactions, Segmint provides the fastest and most accurate customer insights through advanced data tagging, categorization, and contextualization. Our insights enable all functions of an organization to inform strategies including competitive analysis, risk, marketing, customer experience, and product innovation.</p>\\n<p>Position Summary</p>\\n<p>The Senior Data Engineer is responsible for the development and maintenance of Segmint’s data pipeline and data warehouse solutions. Duties include developing, deploying, and monitoring database-centric data ingestion and analytics processes relating to anonymized banking analytics in a multi-tenant, SOC2-compliant, distributed computing environment, at scale. Also responsible for analyzing, cleansing, mapping, and integrating new, outside data models to the solution regularly.</p>\\n<p>Applicants should be fast-paced, detail-oriented, organized, consistent, and analytically-minded.</p>\\n<p>This position reports to our Cuyahoga Falls, Ohio office but does allow for a remote working option.  Our employees are currently working remote until we feel it is appropriate to offer the option to return to the office.  This position can remain remote indefinitely.</p>\\n<p>Required Skills</p>\\n<ul>\\n<li>Data pipelines (Spark/Hadoop)</li>\\n<li>Snowflake</li>\\n<li>AWS cloud computing</li>\\n<li>BI tools (Tableau/Informatica etc)</li>\\n<li>ETL ingestion of structured and unstructured data</li>\\n<li>Data Modeling</li>\\n<li>S3, Lambda, etc.</li>\\n<li>Data Governance</li>\\n<li>Linux/Unix</li>\\n<li>Bash</li>\\n<li>SQL</li>\\n<li>PostgreSQL/Greenplum</li>\\n<li>Python, PERL</li>\\n<li>Git</li>\\n</ul>\\n<p>Required Experience</p>\\n<ul>\\n<li>8+ years in data warehouse development, ETL, data pipelines, or database administration</li>\\n<li>Experience with data modeling and scaling for large data sets (1 TB+)</li>\\n<li>Professional, team-based, agile software development</li>\\n</ul>\\n<p>Additional Experience</p>\\n<ul>\\n<li>Object-oriented or functional application development w/ API integration</li>\\n<li>DevOps with Amazon Web Services cloud-based infrastructure products</li>\\n<li>Experience with data visualization or business intelligence tools</li>\\n<li>Data preparation for data science, feature encoding/engineering, natural language processing</li>\\n</ul>\\n<p>Benefits &amp; Perks</p>\\n<ul>\\n<li>Competitive salary with stock options</li>\\n<li>Medical, dental, and vision insurance available; employer HSA contribution</li>\\n<li>401K with employer matching program</li>\\n<li>PTO benefit</li>\\n</ul>\\n<p>Note: Due to the nature of Segmint’s business, it is necessary for all employees to sign an Intellectual Property Employee Agreement. Segmint Inc. is an Equal Employment Opportunity / Affirmative Action Employer and maintains a Drug-Free Workplace.</p>\\n',\n",
       "  'how_to_apply': '<p><a href=\"https://segmint.com/about/careers\">https://segmint.com/about/careers</a></p>\\n',\n",
       "  'company_logo': 'https://jobs.github.com/rails/active_storage/blobs/eyJfcmFpbHMiOnsibWVzc2FnZSI6IkJBaHBBa2lZIiwiZXhwIjpudWxsLCJwdXIiOiJibG9iX2lkIn19--6b2516b53361e4306351b95e555ce02b82c684f3/green-logo-padded-1000x346%20(2).png'},\n",
       " {'id': '1a57c275-20e5-4d5f-8b10-c8c6354b35ca',\n",
       "  'type': 'Full Time',\n",
       "  'url': 'https://jobs.github.com/positions/1a57c275-20e5-4d5f-8b10-c8c6354b35ca',\n",
       "  'created_at': 'Fri Feb 05 18:05:36 UTC 2021',\n",
       "  'company': 'commonsku',\n",
       "  'company_url': 'http://www.commonsku.com',\n",
       "  'location': 'Toronto  /Remote',\n",
       "  'title': 'Full Stack Developer',\n",
       "  'description': '<p>Full Stack Developer</p>\\n<p>commonsku is revolutionizing the way business is being done in the $25 Billion promotional marketing industry. commonsku is an established and rapidly growing SaaS application facilitating how swag is ordered and produced, handling the supply chain complexities of millions of branded products.  Over $900 Million goes through the platform from entrepreneurs all over the world who use commonsku to power their business.</p>\\n<p>The opportunity:</p>\\n<p>We develop an elegant and complex application that is transforming a multi-billion dollar industry, solving the problems of thousands by streamlining their businesses. From the development of new features to re-architecting our web app to scale, you will work on new functional components, integration with other software systems, as well as underlying architectural elements that enhance this experience. You will also have the flexibility to experiment with new technologies and contribute to the evolution of our master product, as well as contribute to special development projects related to our event business and the social community.</p>\\n<p>The big picture:</p>\\n<p>As a key member of a growing team developing an industry-leading SaaS application, you will work directly with the CTO and founders of the company.  We work in a highly collaborative, entrepreneurial environment; we are a small team where your opinion matters. You will have a wide range of responsibilities and will get exposure to all aspects of the platform.</p>\\n<p>The environment:</p>\\n<p>Our culture is diverse, friendly, with a laid-back enthusiasm and sense of humour that makes collaboration easy. We’re passionate about our customers and their success, and we love fostering an environment that ignites creativity and celebrates the entrepreneur.  We work remote seamlessly with a distributed team across Canada and the US, while maintaining a base at HQ in Toronto.</p>\\n<p>Skills &amp; Requirements</p>\\n<p>Skills:</p>\\n<p>Creative thinker\\nExcellent communication skills\\nTeam player\\nAbility to rapidly learn new technologies\\nProduce high-quality elegant designs rapidly\\nAble to juggle multiple priorities</p>\\n<p>Qualifications:</p>\\n<p>Experience in database driven web application design and development\\nFull stack developer\\nExperience with PHP, Python, JS\\nExperience with Django or Laravel (similar MVC/MVT framework), Node, Express, React\\nExperience with MySQL\\nKnowledge of web protocols and standards (SSL, OAuth2, etc)\\nExperience with software version control systems (GIT)</p>\\n<p>Good to have experience with:</p>\\n<p>React Native\\nNoSQL\\ncontainerization (Docker)\\nAWS\\nautomation (Chef/Puppet, Ansible, Cloudformation etc.)\\nServerless (API Gateway, Lambda)</p>\\n',\n",
       "  'how_to_apply': '<p><a href=\"https://secure.collage.co/jobs/commonsku/20104\">https://secure.collage.co/jobs/commonsku/20104</a></p>\\n',\n",
       "  'company_logo': 'https://jobs.github.com/rails/active_storage/blobs/eyJfcmFpbHMiOnsibWVzc2FnZSI6IkJBaHBBa1dZIiwiZXhwIjpudWxsLCJwdXIiOiJibG9iX2lkIn19--ba579a229949fad31fb506e0c2d81f972b74bb38/commonsku-logo.png'},\n",
       " {'id': '0a9cd6c0-9d10-4097-9460-6ffb3bba583c',\n",
       "  'type': 'Full Time',\n",
       "  'url': 'https://jobs.github.com/positions/0a9cd6c0-9d10-4097-9460-6ffb3bba583c',\n",
       "  'created_at': 'Fri Feb 05 19:02:38 UTC 2021',\n",
       "  'company': 'EAB',\n",
       "  'company_url': 'https://eab.com/',\n",
       "  'location': 'Open to Remote',\n",
       "  'title': 'Senior/Principal Python Engineer',\n",
       "  'description': \"<p>About EAB</p>\\n<p>At EAB, our mission is to make education smarter and our communities stronger. We harness the collective power of 1,900+ schools, colleges, and universities to uncover and apply proven practices and transformative insights. And since complex problems require multifaceted solutions, we work with each school differently to apply these insights through a customized blend of research, technology, and services. From kindergarten to college and beyond, EAB partners with education leaders, practitioners, and staff to accelerate progress and drive results across three key areas: enrollment management, student success, and institutional operations and strategy.</p>\\n<p>At EAB, we serve not only our partner institutions but each other—that's why we are always working to make sure our employees love their jobs and are invested in their community. See how we've been recognized for this dedication to our employees by checking out our recent awards.</p>\\n<p>The Role in Brief:</p>\\n<p>Senior Software Engineer (Python)</p>\\n<p>As a Senior Software Engineer at EAB, you will be building technology to help students graduate college. We are a fast growing team tackling the trickiest problems in higher education. The Senior Software Engineer will be a part of the development team and will be an integral part of the full product life cycle of multiple applications and the supporting data architecture. The Senior Software Engineer will be a leader on a team working to develop the next generation of technology for the higher education industry.</p>\\n<p>This position is open to remote work, or can be based in our Birmingham, AL office.</p>\\n<p>Primary Responsibilities:</p>\\n<ul>\\n<li>Work with the development manager, product managers and stakeholders to get clarification on business requirements and then implement solutions including code development and database design</li>\\n<li>Independently break down, estimate, design, plan and deliver medium and large sized features; serve as subject matter expert on one or more component of the system</li>\\n<li>Ensure high quality solutions by implementing unit tests and supporting the creation and design of integration, load and user acceptance tests\\nSupport operations by identifying, researching and resolving performance and production issues</li>\\n<li>Coordinate work with other teams to ensure a smooth development process; lead technical discussions and stand ups, communicate effectively to non-technical stakeholders</li>\\n<li>Aid in the development of solutions that support consistent information architecture, taxonomies, visual standards, interaction patterns, and use cases across multiple applications</li>\\n<li>Collaborate with development team and product managers to enhance existing marketing products and develop new products</li>\\n<li>Document and communicate progress on design and code for team members</li>\\n<li>Guide junior engineers on tasks and small projects, helping them to plan and size their work</li>\\n<li>Autonomously accomplishes goals and adjusts plan as needed using Agile principles; informs and champions decisions made in PI Planning</li>\\n</ul>\\n<p>Basic Qualifications:</p>\\n<ul>\\n<li>Bachelor's Degree in computer science or related field and 4+ years of professional software development experience OR</li>\\n<li>Master's Degree in computer science or related field and 2+ years of professional software development experience</li>\\n<li>2+ years of professional Python development experience</li>\\n<li>Ability to work with engineers and product management teams in requirements definition, design, and development of software products</li>\\n<li>Ability to communicate with business and technical teams both verbally and written</li>\\n</ul>\\n<p>Ideal Qualifications:</p>\\n<ul>\\n<li>Dev/Ops experience</li>\\n<li>Ability to demonstrate expertise in AWS</li>\\n<li>Professional Django development experience</li>\\n</ul>\\n<p>Benefits:</p>\\n<p>Consistent with our belief that our employees are our most valuable resource, EAB offers a competitive and inclusive benefits package. A few highlighted below;</p>\\n<ul>\\n<li>Medical, dental, and vision insurance; dependents and domestic partners eligible</li>\\n<li>401(k) retirement plan with company match</li>\\n<li>20+ days of PTO annually, in addition to paid firm holidays</li>\\n<li>Daytime leave policy for community service or fitness activities (up to 10 hours a month each)</li>\\n<li>Paid parental leave for birthing or non-birthing parents</li>\\n<li>Phase Back to Work program for employees returning from parental leave</li>\\n<li>Infertility treatment coverage and adoption or surrogacy assistance</li>\\n<li>Wellness programs including gym discounts and incentives to promote healthy living</li>\\n<li>Dynamic growth opportunities with merit-based promotion philosophy</li>\\n</ul>\\n<p>\\u200b\\nAt EAB, we believe that to fulfill our mission to “make education smarter and our communities stronger” we need team members who bring a diversity of perspectives to the table and a workplace where each team member is valued, respected and heard.</p>\\n<p>To that end, EAB is an Equal Opportunity Employer, and we make employment decisions on the basis of qualifications, merit and business need. We don’t discriminate on the basis of race, religion, color, sex, gender identity or expression, sexual orientation, age, non-disqualifying physical or mental disability, national origin, veteran status or any other basis covered by appropriate law.</p>\\n<p>\\u200b</p>\\n\",\n",
       "  'how_to_apply': '<p>Please submit your application to our careers page: <a href=\"https://eab.com/careers/538521\">https://eab.com/careers/538521</a></p>\\n',\n",
       "  'company_logo': None},\n",
       " {'id': '794188b6-25ba-4432-80ad-e69eb938d48c',\n",
       "  'type': 'Full Time',\n",
       "  'url': 'https://jobs.github.com/positions/794188b6-25ba-4432-80ad-e69eb938d48c',\n",
       "  'created_at': 'Fri Feb 05 14:02:35 UTC 2021',\n",
       "  'company': 'Parklink Development Limited',\n",
       "  'company_url': 'https://parklink.asia',\n",
       "  'location': 'Remote - Europe',\n",
       "  'title': 'Full Stack Developer: PHP/Python',\n",
       "  'description': '<h2>Full Stack Developer: PHP/Python</h2>\\n<p>Parklink Limited seeks a skilled, motivated candidate to fill the position of remote Full-Stack Developer fluent in Python and PHP, who loves the challenges of high-availabilty SaaS and working with hardware. To maintain team coherence, we are looking specifically <strong>in Europe: GMT+0 - GMT+3</strong>.</p>\\n<h3>Company Introduction</h3>\\n<p>Parklink Development Limited provides RFID duplication devices to locksmiths and security professionals.</p>\\n<p>Our flagship product is \\'<a href=\"https://rebadge.eu\">Rebadge</a>\\'. It\\'s a patented machine that duplicates RFID badges for customers. Before Rebadge, it was impossible to duplicate consumer RFID badges. Since the launch of Rebadge, literally hundreds of thousands of people have been able to make copies of their badges, and the number increases every day.</p>\\n<p>Each machine is an embedded linux system running Python + Qt, and tethered online.\\nSupporting the machines is a RESTful API (CakePHP).\\nThere is also a full back-office system for client management, machine management, billing, etc.</p>\\n<p>We\\'ve got over 2,000 machines online (Check out our coverage map here: <a href=\"https://rebadge.eu\">https://rebadge.eu</a> )</p>\\n<p>We\\'ve recently expanded into Australian market, and are rolling out mobile tools. With this growth comes new challenges, and this is where your expertise comes in.</p>\\n<p>The team currently consists of five staff: the founder, operating as COO, our CTO as Dev Lead, an Electronic Engineer, Administrative staff and a Technical Support role. The successful candidate would be the sixth member on the team. The company structure is based in Hong Kong, but the team is spread around the world and fully remote.</p>\\n<p>We are a highly optimised / lean company. The successful candidate will have the ability to work autonomously on a constantly evolving product and rapidly expanding client base. You will work on a real product that is used by thousands of people daily.</p>\\n<p>Working for us means you\\'ll be able to flex your development muscles, and you\\'ll have a real impact on a real product that exists in the real-world, used by thousands of people every day. It\\'s an exciting possibility.</p>\\n<p>We are not another boring SaaS company. We create, manufacture and deploy real hardware on a global scale, with back and front end code managing it all. You\\'ll have a chance to get your hands onto hardware, software, development and deployment. If you\\'re driven, curious, and a hacker at heart, this position is for you.</p>\\n<p>We will provide you with all the training and tools you need, an annual travel budget, and a dynamic, fair and respectful work environment.</p>\\n<p>Reciprocatively, we are seeking to work with someone that is honest, skilled, self-motivated, and reliable.</p>\\n<h3>Tasks</h3>\\n<p>As a Full Stack Developer, your tasks will be divided into two categories:</p>\\n<ul>\\n<li>Backend Development (CakePHP)</li>\\n<li>Embedded Development (Python)</li>\\n</ul>\\n<p><strong>Backend Development</strong></p>\\n<p>Our systems (API + Back-office) are based on the CakePHP framework, backed by a geographically Distributed High-Availability LAMP stack (Europe + Asia)</p>\\n<p>The RESTful API provides the interface to the network of machines, and the back office provides administration functionality for us and our clients.\\nBackend Development Tasks</p>\\n<ul>\\n<li>Maintaining &amp; Developing the API [PHP / CakePHP]</li>\\n<li>Maintaining &amp; Developing the Administration Interface [PHP / CakePHP]</li>\\n<li>Maintaining &amp; Optimisation of the Database [MySQL]</li>\\n</ul>\\n<p>We have short, medium and long term goals, and milestones setup for our system. You\\'re coming into a stable, clean, code base that we\\'ll give you all necessary training on.</p>\\n<p>Our frameworks are under GitHub source control, with a CI environment for staging and production.</p>\\n<p>We will provide necessary development environments (VirtualBox environment).</p>\\n<p><strong>Embedded Development</strong></p>\\n<p>We have 2000+ networked machines deployed. Each machine is powered by a Raspberry Pi 3, with dual-frequency RFID readers and touch screen. We have a custom linux deployment running the client software, written in Python + Qt [Pyside]</p>\\n<p>The software is under clean, stable, and under active development.\\nEmbedded Development Tasks</p>\\n<ul>\\n<li>Maintaining &amp; Developing machine software [Python]</li>\\n<li>Maintaining a Unit Testing framework [Python / FrogLogic Squish]</li>\\n<li>Development / Maintenance of System scripts / environment [Linux / Bash]</li>\\n</ul>\\n<p>We will provide all necessary training + hardware required to get started on the  systems.</p>\\n<h3>Skill / Experience Requirements</h3>\\nTechnical Skills\\n<p><strong>Python 3 [Fluent]</strong></p>\\n<ul>\\n<li>QT / PySide Experience Bonus</li>\\n<li>Ability to write, respect &amp; maintain unit tests</li>\\n</ul>\\n<p><strong>PHP 5/7  [Fluent]</strong></p>\\n<ul>\\n<li>OOP (PSR-1 &amp; 2) Obligatory</li>\\n<li>CakePHP Experience Bonus</li>\\n<li>Ability to write, respect &amp; maintain unit tests (CodeCeption, PHPUnit)</li>\\n</ul>\\n<p><strong>Git/GitHub competency</strong></p>\\n<ul>\\n<li>Fluent with Git, respecting &amp; maintaining development procedures (issue branch, code review, pull request, merge, etc)</li>\\n</ul>\\n<p><strong>Database (Mysql)</strong></p>\\n<ul>\\n<li>Query optimisation for high load environments</li>\\n</ul>\\n<p><strong>High Traffic, High Availability Clusters</strong></p>\\n<ul>\\n<li>Experience with distributed server clusters and writing highly optimised code for high-load environments - understanding the requirements of high-load environments</li>\\n</ul>\\n<p><strong>Linux Familiarity</strong></p>\\n<ul>\\n<li>Intermediate configuration &amp; administration tasks (SSH, Bash, etc)</li>\\n<li>Rasbian Experience Bonus</li>\\n</ul>\\nBonus Skills\\n<p><strong>Mobile Development</strong></p>\\n<ul>\\n<li>Native iPhone Development</li>\\n<li>Native Android Development</li>\\n</ul>\\n<p><strong>Hardware Familiarity</strong></p>\\n<ul>\\n<li>Raspberry PI</li>\\n<li>Serial / UART</li>\\n</ul>\\n<p><strong>NFC Familiarity [Bonus]</strong></p>\\n<ul>\\n<li>13.56 (Mifare, libNFC, etc)</li>\\n<li>125KHz (T55, EM4XX etc)</li>\\n</ul>\\n<h3>Personal Skills</h3>\\n<ul>\\n<li>English (Fluency in written + spoken)</li>\\n<li>Ability to communicate clearly and efficiently</li>\\n<li>Ability to work autonomously &amp; self-motivate</li>\\n<li>Ability to integrate into an existing team &amp; structure</li>\\n</ul>\\n<h3>Time Requirements</h3>\\n<p>Physically based in <strong>Europe / GMT+0 - GMT+3</strong>\\nThis is a full time, remote position (8 hours per day, 5 days per week)\\nReachable during work hours via phone / slack</p>\\n<h3>Compensation</h3>\\n<ul>\\n<li>\\n<strong>45 - 50k EURO per year</strong> (depending on experience and skills coverage)</li>\\n<li>2k EURO Hardware Allowance</li>\\n<li>Annual Travel Allowance</li>\\n<li>We will provide all training required</li>\\n<li>We will provide all hardware necessary (Devices, parts, badges, etc)</li>\\n<li>Flexible time off: 25 Paid Vacation days + 11 Paid Public Holidays</li>\\n</ul>\\n<h3>Application Pre-requisites</h3>\\n<ul>\\n<li>Your updated CV</li>\\n<li>A brief email explaining who you are, why you fit the position, and how your experience is relevant.</li>\\n<li>A link to your GitHub/GitLab account - if applicable</li>\\n<li>An overview of your side projects that you work on / contribute to.</li>\\n</ul>\\n<h2>Applying</h2>\\n<p>Please send an email with all requisite documents to <a href=\"mailto:jobs@parklink.asia\">jobs@parklink.asia</a>.</p>\\n<p>We will take time to study each application with diligence - please take the time to read over the position requirements carefully.</p>\\n',\n",
       "  'how_to_apply': '<p>Please send an email with all requisite documents to <a href=\"mailto:jobs@parklink.asia\">jobs@parklink.asia</a>.</p>\\n',\n",
       "  'company_logo': 'https://jobs.github.com/rails/active_storage/blobs/eyJfcmFpbHMiOnsibWVzc2FnZSI6IkJBaHBBanVZIiwiZXhwIjpudWxsLCJwdXIiOiJibG9iX2lkIn19--34b5cc3093545bc0ae9402147ef3d27fe945514a/Parklink-Development.png'},\n",
       " {'id': '16d9fa95-42c6-4ce0-8456-2a6ca5326d65',\n",
       "  'type': 'Full Time',\n",
       "  'url': 'https://jobs.github.com/positions/16d9fa95-42c6-4ce0-8456-2a6ca5326d65',\n",
       "  'created_at': 'Fri Feb 05 13:05:55 UTC 2021',\n",
       "  'company': 'TWAICE Technologies GmbH',\n",
       "  'company_url': 'https://twaice.com/de/',\n",
       "  'location': 'Munich',\n",
       "  'title': 'Senior Backend Engineer (m/f/d)',\n",
       "  'description': '<p>The world is transitioning towards renewable energy generation and sustainable transportation to counteract global climate change. Batteries are both the key and the achilles heel of this transition. Our mission is to enable efficient development and long lifetime of stationary energy storage systems and electric vehicles with our Predictive Battery Analytic Software based on Digital Twins. Join us on our way to an emission free future. We are a fast growing venture capital financed start-up of 50 employees - become part of the family!</p>\\n<p><strong>Your daily business will involve</strong></p>\\n<ul>\\n<li>Actively driving and implementing technical concepts for the feature set of our SaaS battery analytics platform for ingesting battery field data, calculating &amp; predicting battery conditions and presenting it at large scale</li>\\n<li>Breaking down difficult challenges and successfully delivering customer value on schedule</li>\\n<li>Participate in the entire application lifecycle, focusing on designing, coding, testing, documentation, deployment, debugging, and optimizing the application for maximum speed and scalability - You build it, you run it!</li>\\n<li>Closely collaborating in a cross-functional team of Frontend, DevOps, Cloud Engineers, Battery/Machine Learning Engineers, Product Manager &amp; UX Designer to jointly develop &amp; deliver the best possible products to our customers</li>\\n<li>Providing servant leadership to the software team from being a sparring partner on topics, as well as providing mentorship including industry standard  code reviews for personal development of the Software Engineers</li>\\n</ul>\\n<p><strong>Your profile</strong></p>\\n<ul>\\n<li>Degree in Computer Science or a related field</li>\\n<li>5+ years of experience of backend software engineering in the field of building applications and microservices in Python (any additional high-level programming language is a plus)</li>\\n<li>3+ years of leadership experience in cross-functional teams</li>\\n<li>Solid programming background and ability to write clean, structured and tested code</li>\\n<li>Proven track of records in designing/architecting and scaling high load data platforms (you know where and why to put a message queue, which database to choose, where to put borders between microservices)</li>\\n<li>Support and guide the team to ensure all committed stories for the sprint are completed per the sprint goal, while also actively participating in coding, you are not only a “ticket writer + work assignment manager”, but an Agile Team Member</li>\\n<li>You are a strong self-driven leader, you aren’t afraid talking to stakeholders and teammates, come up with balanced and reasonable proposals together with the Team and continuously improve development processes &amp; mentoring of your colleagues.</li>\\n<li>Fluent in English</li>\\n<li>Interest in new Technologies &amp; building a great Saas Platform</li>\\n</ul>\\n<p><em>Additional Skills that are nice to have</em></p>\\n<ul>\\n<li>TypeScript</li>\\n<li>Cloud experience, preferably AWS</li>\\n<li>Having concretely worked in the area of SaaS / Analytics / Data Platforms</li>\\n<li>Finding your way around the “terminal”</li>\\n</ul>\\n<p><strong>Benefits</strong></p>\\n<ul>\\n<li>Competitive salary</li>\\n<li>Flexible working hours and Homeoffice</li>\\n<li>Strong team culture with regular team events and off-sites</li>\\n<li>Modern office in Munich with free parking spaces</li>\\n<li>Free breakfast, snacks and coffee; subsidized lunch in a high quality canteen (vegetarian options available)</li>\\n<li>Support with visa application</li>\\n</ul>\\n<p><img src=\"https://camo.githubusercontent.com/e9de0b1ad920632cd3fcd21e2b3116559eac0331/68747470733a2f2f742e676f686972696e672e636f6d2f682f64656266393236656263363932393033303961396339333739366266323032663539663561626132313734376164383361613264303636653665643764383637\"></p>\\n',\n",
       "  'how_to_apply': '<p><a href=\"https://t.gohiring.com/h/70058b50cf192de453a58e1d4150e8b8796b477bfdc22dd84fdabcb74ae46294\">application form</a></p>\\n',\n",
       "  'company_logo': 'https://jobs.github.com/rails/active_storage/blobs/eyJfcmFpbHMiOnsibWVzc2FnZSI6IkJBaHBBam1ZIiwiZXhwIjpudWxsLCJwdXIiOiJibG9iX2lkIn19--003142760567bccec0d61fccfab5c60dd2c81074/TWAICE%20Technologies%20GmbH.png'},\n",
       " {'id': '0bb4942b-62bf-4c5f-8dac-60aaab3e2904',\n",
       "  'type': 'Full Time',\n",
       "  'url': 'https://jobs.github.com/positions/0bb4942b-62bf-4c5f-8dac-60aaab3e2904',\n",
       "  'created_at': 'Wed Feb 03 09:13:47 UTC 2021',\n",
       "  'company': 'InnoGames GmbH',\n",
       "  'company_url': 'https://www.innogames.com',\n",
       "  'location': 'Hamburg',\n",
       "  'title': 'Browser Frontend Developer - Video Game: Forge of Empires',\n",
       "  'description': '<p>Our agile and cross-functional <strong>Forge of Empires</strong> team is searching for a <strong>Browser Frontend Developer</strong>:</p>\\n<p>As a  <strong>Browser Frontend Developer</strong>, you will join a feature team of the Forge of Empires project to support growth, technical stability and longevity of our game.</p>\\n<p>Are you a talented Game Developer and passionate about online games? Live your passion for online games/Game Development and collaborate with like-minded people to provide the best user experience for our players!</p>\\n<p><strong>Your mission:</strong></p>\\n<ul>\\n<li>Contribute to the continuous development and improvement of one of our keystone games</li>\\n<li>Develop new features and improve existing game features with a strong focus on UI and UX</li>\\n<li>Participate in the whole feature development lifecycle with a commitment to high-quality results</li>\\n<li>Collaborate closely with Mobile- &amp; Backend Developers, Game Designers, and Artists to implement new game features for our browser clients</li>\\n</ul>\\n<p><strong>Your skillset:</strong></p>\\n<ul>\\n<li>Working experience in Frontend/Game Development with ActionScript 3 or JavaScript and Haxe experience is a bonus</li>\\n<li>A right eye for details and a passion for implementing UI and UX</li>\\n<li>Well-versed in design patterns and software architecture</li>\\n<li>Experience with writing browser automation tests</li>\\n<li>Solution-oriented and efficient style of work</li>\\n<li>Team player and a good communicator with fluent English language skills</li>\\n</ul>\\n<p><em>Favorable</em></p>\\n<ul>\\n<li>Passion for online games (strategy/F2P) and knowledge of relevant game mechanics</li>\\n<li>Professional experience in the gaming industry, ideally working on comparable browser games</li>\\n<li>Theoretical understanding of Software Development, ideally based on a University degree in Computer Sciences, Business Information Systems or similar studies</li>\\n<li>Know your way around popular scripting languages (Python / Bash / Groovy)</li>\\n<li>A proactive and motivated individual with a willingness to learn</li>\\n</ul>\\n<p><strong>Your power-ups:</strong></p>\\n<ul>\\n<li>Get competitive compensation as well as a sabbatical, mobile device, contribution to your public transport ticket, and more</li>\\n<li>De-stress your private life with flexible working hours, the in-house gym, services such as a hairdresser, massage, bike inspection, and more</li>\\n<li>Participate in tons of the company\\'s get-togethers ranging from an in-house sofa concert to a virtual wine tasting</li>\\n<li>Make the most of our excellent training and development opportunities</li>\\n<li>Feel comfortable in an atmosphere to empower creative thinking and strong results</li>\\n<li>Work in an agile multicultural team – enabling you and your team to form and actively optimize work processes</li>\\n<li>Our company language is English, and we support all our employees and their partners with optional German lessons</li>\\n<li>Receive exceptional support with your relocation to Hamburg</li>\\n<li>Shape the success story of InnoGames with our international team of driven experts in a stable growing company and award-winning employer</li>\\n</ul>\\n<p><strong>Our story:</strong></p>\\n<p>InnoGames is Germany\\'s leading developer and publisher of mobile and online games.\\nThe company based in Hamburg is best known for Forge of Empires, Elvenar, and Tribal Wars. InnoGames\\' complete portfolio encompasses seven live games and several mobile titles in production.</p>\\n<p>Born as a hobby, InnoGames today has a team of 400 employees from more than 30 nations who share the passion of creating unique games that players across the globe enjoy for years.\\nTo further expand our success and to realize new projects, we are constantly looking for young talents, experienced professionals, and creative thinkers.</p>\\n<p><strong>Excited to start your journey with InnoGames and join our dynamic team as a Frontend Developer?</strong></p>\\n<p>We look forward to receiving your application as well as your salary expectations and earliest possible starting date through our <a href=\"https://www.innogames.com/career/detail/job/browser-frontend-developer-video-game-forge-of-empires/?s=GitHub\">online application form</a>. Maximilian Kaeding would be happy to answer any questions you may have.</p>\\n<p><strong>Apply and #stayhome!</strong>\\nDue to the <strong>coronavirus</strong> outbreak, we switched our operations company-wide to home office and turned our hiring process into <strong>a fully virtual one</strong>.\\nWhen hiring, we are also open for our new team members starting their work remotely at the time being or adjusting contract start dates accordingly.\\nStay home and safe!</p>\\n',\n",
       "  'how_to_apply': '<p><a href=\"https://www.innogames.com/career/detail/job/browser-frontend-developer-video-game-forge-of-empires/?s=GitHub\">https://www.innogames.com/career/detail/job/browser-frontend-developer-video-game-forge-of-empires/?s=GitHub</a></p>\\n',\n",
       "  'company_logo': 'https://jobs.github.com/rails/active_storage/blobs/eyJfcmFpbHMiOnsibWVzc2FnZSI6IkJBaHBBdGlYIiwiZXhwIjpudWxsLCJwdXIiOiJibG9iX2lkIn19--c8d151ef68fe8d7ec819ec7606a507c62dccf3cf/logo_innogames_standard.png'},\n",
       " {'id': 'd1027fbb-580d-4a92-a52f-70224506d3ef',\n",
       "  'type': 'Full Time',\n",
       "  'url': 'https://jobs.github.com/positions/d1027fbb-580d-4a92-a52f-70224506d3ef',\n",
       "  'created_at': 'Wed Feb 03 09:02:49 UTC 2021',\n",
       "  'company': 'Kausa',\n",
       "  'company_url': 'https://www.kausa.ai',\n",
       "  'location': 'Berlin',\n",
       "  'title': 'Senior Full Stack Software Engineer (Frontend & Backend) in Typescript / Javascript',\n",
       "  'description': '<p>Our mission is to empower businesses to make data-driven decisions faster and more effortlessly than ever before. Therefore, we are building an advanced analytics platform using machine learning to reason why key performance indicators change.</p>\\n<p>Join our venture as a software engineering allrounder both developing the frontend and backend of our platform and impact how people and businesses work. Get the chance to shape a young technology startup from its earliest days on through your efforts, experience, and industry expertise.</p>\\n<p>Our company is built at Merantix, a Venture Studio focussing on artificial intelligence. This means that we are part of an ecosystem of top-tier engineers, scientists, and entrepreneurs from leading universities who will help us along the way.</p>\\n<p><strong>Tasks</strong></p>\\n<p>As the Frontend &amp; Backend Software Engineer, you are one of our first employees and shape the company and its vision from the ground up. Among others, your main responsibilities are the following:</p>\\n<ul>\\n<li>Develop state-of-the-art frontend and backend applications which will be used within organizations of all sizes;</li>\\n<li>Architect and implement multi-tenancy;</li>\\n<li>Building highly-reliable software with the highest quality and security standards;</li>\\n<li>Collaborate closely with our Chief Technology Officer and Chief Science Officer to bridge the gap between the analytical core of our product and its user interface;\\n. Work with the Design and Product Team to implement an exceptional design and user experience;\\n. As we value ownership and collaboration, you support and mentor your colleagues and review the team’s technical design, code, and documentation.</li>\\n</ul>\\n<p><strong>Requirements</strong></p>\\n<p>We define ourselves by a culture of collaboration and ownership. We’re looking for a driven, capable, and thoughtful person to add to our vision. The main qualifications we expect you to have are the following:</p>\\n<ul>\\n<li>Degree in computer science, statistics, mathematics, physics, engineering, machine learning or relevant experience;\\nIt is essential that you are an experienced Software Engineer and built large scale applications in the past;\\nMastered Javascript and Typescript and are fluent in general-purpose languages such as Python or Java;\\nExpert knowledge in technologies and frameworks such as Reactjs, D3js, NodeJS, GraphQL, or Cypress to name a few;\\nExtensive know-how with Systems Design and Software Architecture.\\nPragmatic mindset, make quick decisions, and clearly prioritize on what moves the needle;\\nLove what you do (and own it).</li>\\n</ul>\\n<p><strong>Benefits</strong></p>\\n<p>Our hierarchy is flat and communication direct, which means that we operate and learn fast, as a team. In addition to a competitive salary and equity package, you can expect the following:</p>\\n<ul>\\n<li>Flexible working hours as we believe in ownership and trust;</li>\\n<li>Learning &amp; Development Program for all our team members;</li>\\n<li>Regular team events and intensive exchange with all Merantix companies;</li>\\n<li>Free drinks, snacks, and breakfast.</li>\\n</ul>\\n<p>We are an equal-opportunity employer and value diversity. We consider all applications equally regardless of race, color, ancestry, religion, sex, national origin, sexual orientation, age, citizenship, marital status, disability, or gender identity. We strongly encourage individuals from groups traditionally underrepresented in tech to apply, and we can help with immigration.</p>\\n',\n",
       "  'how_to_apply': '<p><a href=\"https://kausa.join.com/jobs/1806782-senior-full-stack-software-engineer-frontend-and-backend-in-typescript-javascript-kausa?pid=357a3b4531918760973f&amp;utm_source=github_jobs&amp;utm_medium=paid&amp;utm_campaign=single%2Bposting&amp;utm_content=senior%2Bfull%2Bstack%2Bsoftware%2Bengineer%2Bfrontend%2Band%2Bbackend%2Bin%2Btypescript%2Bjavascript%2Bkausa\">https://kausa.join.com/jobs/1806782-senior-full-stack-software-engineer-frontend-and-backend-in-typescript-javascript-kausa?pid=357a3b4531918760973f&amp;utm_source=github_jobs&amp;utm_medium=paid&amp;utm_campaign=single%2Bposting&amp;utm_content=senior%2Bfull%2Bstack%2Bsoftware%2Bengineer%2Bfrontend%2Band%2Bbackend%2Bin%2Btypescript%2Bjavascript%2Bkausa</a></p>\\n',\n",
       "  'company_logo': 'https://jobs.github.com/rails/active_storage/blobs/eyJfcmFpbHMiOnsibWVzc2FnZSI6IkJBaHBBdEtYIiwiZXhwIjpudWxsLCJwdXIiOiJibG9iX2lkIn19--08e9bf3753a6f20098368dd8bbf841c49a46bdac/Bildschirmfoto%202021-02-03%20um%2010.01.12.png'},\n",
       " {'id': '1b576c10-2b6f-4dae-9894-89fbc4d13b69',\n",
       "  'type': 'Full Time',\n",
       "  'url': 'https://jobs.github.com/positions/1b576c10-2b6f-4dae-9894-89fbc4d13b69',\n",
       "  'created_at': 'Tue Feb 02 20:44:53 UTC 2021',\n",
       "  'company': \"Kohl's Corporate\",\n",
       "  'company_url': 'https://careers.kohls.com/',\n",
       "  'location': 'Remote',\n",
       "  'title': 'Platform Engineer (Jr & Sr Levels)',\n",
       "  'description': \"<p>Kohl's Corporate is hiring Jr and Sr level Platform Engineers!  Positions are permanent/full-time and 100% remote.</p>\\n<p>We Can Go Fast Forever</p>\\n<p>We’re building a fast paced team with an emphasis on iterative development and constant collaboration. We practice and teach an approach to software engineering that applies across industries and organizations, so you’ll experience all types of teams, products, and technologies. And we believe that working fast doesn't mean working overtime-- taking time to relax, recharge and refocus keeps our pace sustainable.</p>\\n<p>We Court Perfection</p>\\n<p>Working at Kohls means you get better at what you already do well. We set up regular retrospectives to figure out what we’re doing wrong so we can fix it, and what we’re doing right so we can improve on it. We believe that platform engineering follows software engineering standards and best practices closely.  We take a full infrastructure-as-code approach to all we do.  We practice a DevOps culture.  We design and build reliability into our products.  And we believe that a methodical, steady, relentless forward momentum drives consistent results.</p>\\n<p>We Take Care of Business</p>\\n<p>As a Platform Engineer at Kohl’s we apply software engineering principles to common infrastructure systems with the goal of making these systems as robust and as easy to use as possible for our development teams across Kohl’s. Whether it’s building and managing Kubernetes operators, APIs, infrastructure-as-code, or developer tools, we build platforms that enable our development teams across Kohl’s to move fast and deliver business value. We crush our work as a team with product managers, designers, and fellow engineers while grounding ourselves with data and feedback. We relentlessly code, test, deploy, operate, and improve our platforms until they achieve our desired outcomes and are a pleasure to use.</p>\\n<p>Responsible for:\\n-Engineering, extending, and supporting OpenShift platform, application, developer, and cluster services to enable our development teams to move their applications to production quickly and efficiently\\n-Engineering, extending, and supporting K8S operators improving the platform operations experience\\n-Being a developer advocate and influencer for the platform\\n-Practicing and advocating for infrastructure engineering best practices like GitOps and overall infrastructure-as-code driving code quality and overall reliability\\n-Designing and engineering for Day 2 operations and observability as well as the initial Day 1feature</p>\\n<p>Requires:\\n-Strong knowledge of Kubernetes and the Kubernetes ecosystem\\n-Strong knowledge building development practices like CI/CD, Test Automation and cloud deployments\\n-Strong knowledge of Python, Golang, and Ansible\\n-Experience engineering and/or administrating OpenShift Container Platform &amp; Google Cloud Platform\\n-Passion for reliability engineering best practices\\n-Passion for growing your skills, tackling interesting work and complex problems\\n-3+ years of relevant work experience\\n-BA/BS in Computer Science or related field, or equivalent experience</p>\\n\",\n",
       "  'how_to_apply': '<p>Apply directly at: <a href=\"https://careers.kohls.com/job/R149108/Platform-Engineer-Kubernetes-Remote-Opportunity?utm_source=github-jobs&amp;utm_medium=recruiter-post\">https://careers.kohls.com/job/R149108/Platform-Engineer-Kubernetes-Remote-Opportunity?utm_source=github-jobs&amp;utm_medium=recruiter-post</a></p>\\n<p>OR email a resume to <a href=\"mailto:kelly.mcavoy@kohls.com\">kelly.mcavoy@kohls.com</a></p>\\n',\n",
       "  'company_logo': 'https://jobs.github.com/rails/active_storage/blobs/eyJfcmFpbHMiOnsibWVzc2FnZSI6IkJBaHBBc0dYIiwiZXhwIjpudWxsLCJwdXIiOiJibG9iX2lkIn19--76824370483b90b6051c3ab3f5c787652b246b4e/kohls.JPG'},\n",
       " {'id': '257b2dc5-8944-48cc-a40c-c74d04c7c800',\n",
       "  'type': 'Full Time',\n",
       "  'url': 'https://jobs.github.com/positions/257b2dc5-8944-48cc-a40c-c74d04c7c800',\n",
       "  'created_at': 'Tue Feb 02 16:57:20 UTC 2021',\n",
       "  'company': 'National Security Agency (NSA)',\n",
       "  'company_url': 'https://www.intelligencecareers.gov/nsa/index.html',\n",
       "  'location': 'Fort Meade, MD',\n",
       "  'title': 'Digital Network Exploitation Analyst (Cybersecurity Mission) - Entry to Experienced Level',\n",
       "  'description': '<p>The need to maintain our core Computer Science group is vital to provide the technical capabilities necessary to successfully execute NSA\\'s mission. The increased complexity of supporting NSA\\'s mission requires world class researchers, programmers, and developers who operate in teams in areas such as software engineering, information technology infrastructure, high performance computing, data science, architectures, computer security, and networking in order to design and develop advanced tools, techniques, and systems.</p>\\n<p>NSA Cybersecurity mission is to prevent and eradicate threats to National Security Systems and critical infrastructure, with a focus on the Defense Industrial Base. This diverse team of problem solvers collaborate across industry and government to expose foreign cyber espionage, patch critical vulnerabilities, modernize encryption, and issue unique, timely, and actionable cybersecurity guidance. Here, you will have unique access to classified and unclassified data to solve hard problems and secure critical systems. If you enjoy creatively mission outcomes, cybersecurity at NSA is the place for you.</p>\\n<p>Digital Network Exploitation Analysts employ computer science skills to perform discovery and target technology analysis of digital network and mobile communications. Digital Network Exploitation Analysis are hired into positions directly supporting a technical mission office or the Digital Network Exploitation Analyst (DNEA) Development Program \\' a 3 year development program that combines formal training (i.e., SIGINT, discovery/analysis, and advanced cyber security) and diverse work assignments.</p>\\n<p>As a Digital Network Exploitation Analyst at the NSA, responsibilities may include:</p>\\n<ul>\\n<li>conducting analysis of metadata</li>\\n<li>conducting target analysis and research</li>\\n<li>identifying target communications within the global network</li>\\n<li>performing global network analysis and mapping</li>\\n<li>using knowledge of customer requirements to analyze and process intelligence information</li>\\n<li>performing exploitation and operations on target networks</li>\\n</ul>\\n<p>NSA is in search of Computer Science professionals to solve complex problems, test innovative approaches and research new solutions to storing, manipulating, and presenting information. We are looking for you to apply your computer science expertise to projects that seek to create new standards for the transformation of information. If you want to develop technologies and tools and be a part of cutting edge innovations \\' join our team of experts! Help protect national security interests as part of the world\\'s most advanced team of computer science professionals!</p>\\n<p>The ideal candidate is someone with a desire for continual learning and strong problem-solving, analytic and interpersonal skills who is:</p>\\n<ul>\\n<li>flexible</li>\\n<li>able to communicate effectively</li>\\n<li>able to collaborate with others</li>\\n</ul>\\n<p>Specialized skills and experience in one or more of the following is desired:</p>\\n<ul>\\n<li>Knowledge of network protocols (especially TCP/IP, VOIP, wireless protocols)</li>\\n<li>Understanding of Internet</li>\\n<li>Understanding of WAN and LAN</li>\\n<li>Vulnerability analysis</li>\\n<li>Programming experience (prefer one or more of the following: C, C++, Java, Assembly, Python)</li>\\n</ul>\\n<p>For more information on this position and how to apply, please visit: <a href=\"https://apply.intelligencecareers.gov/job-description/1155796\">https://apply.intelligencecareers.gov/job-description/1155796</a></p>\\n',\n",
       "  'how_to_apply': '<p>For more information on this position and how to apply, please visit: <a href=\"https://apply.intelligencecareers.gov/job-description/1155796\">https://apply.intelligencecareers.gov/job-description/1155796</a></p>\\n',\n",
       "  'company_logo': 'https://jobs.github.com/rails/active_storage/blobs/eyJfcmFpbHMiOnsibWVzc2FnZSI6IkJBaHBBcjZYIiwiZXhwIjpudWxsLCJwdXIiOiJibG9iX2lkIn19--d1b12dc6cfe32c65294f16cb2122aa7985470348/2018_NSA_Horiz_URL.jpg'},\n",
       " {'id': '9e10059b-3ceb-406c-9b07-a06ac07e5299',\n",
       "  'type': 'Full Time',\n",
       "  'url': 'https://jobs.github.com/positions/9e10059b-3ceb-406c-9b07-a06ac07e5299',\n",
       "  'created_at': 'Tue Feb 02 16:38:32 UTC 2021',\n",
       "  'company': 'National Security Agency (NSA)',\n",
       "  'company_url': 'https://www.intelligencecareers.gov/nsa/index.html',\n",
       "  'location': 'Fort Meade, MD',\n",
       "  'title': 'Cyber Mitigations Engineer/System Vulnerability Analyst (Cybersecurity Mission) - Entry to Experienced Level',\n",
       "  'description': '<p>NSA Cybersecurity mission is to prevent and eradicate threats to National Security Systems and critical infrastructure, with a focus on the Defense Industrial Base. This diverse team of problem solvers collaborate across industry and government to expose foreign cyber espionage, patch critical vulnerabilities, modernize encryption, and issue unique, timely, and actionable cybersecurity guidance. Here, you will have unique access to classified and unclassified data to solve hard problems and secure critical systems. If you enjoy creatively mission outcomes, cybersecurity at NSA is the place for you.</p>\\n<p>System Vulnerability Analysts identify vulnerabilities and attacks to the design and operation of a system (H/W, S/W, personnel, procedures, logistics, and physical security). They compare and contrast various system attack techniques and develop effective defensive mitigations. Additionally, System Vulnerability Analysts produce formal and informal reports, briefings, and perspectives of actual and potential attacks against the systems or missions being studied.</p>\\n<p>If you routinely visit network security websites or you attend network security conferences or maintain your own network; we would like to talk to you! If you are a computer hobbyist, enjoy setting up new networks, love the Black Hat / DEFCON Briefings, and Capture the Flag events; then you need to talk to us!</p>\\n<p>The optimal candidate is someone with strong problem-solving, analytical, communication and interpersonal skills and who has knowledge or experience in several of the following areas:</p>\\n<ul>\\n<li>defending against and/or mitigating system vulnerabilities, including at the infrastructure, host and enterprise levels</li>\\n<li>intrusion detection and incident response</li>\\n<li>network operating systems and network data/traffic analysis</li>\\n<li>scripting languages (e.g., PowerShell, Python)</li>\\n<li>software reverse engineering</li>\\n<li>fuzzing</li>\\n<li>virtualization</li>\\n<li>penetration testing</li>\\n<li>ports, protocol and services analysis</li>\\n<li>vulnerability detection and analysis</li>\\n<li>network security devices (e.g., firewalls, intrusion and detection systems)</li>\\n<li>packet analysis</li>\\n<li>malicious code analysis</li>\\n<li>SCADA and Control Systems Devices</li>\\n</ul>\\n<p>For more information on this position and how to apply, please visit: <a href=\"https://apply.intelligencecareers.gov/job-description/1155764\">https://apply.intelligencecareers.gov/job-description/1155764</a></p>\\n',\n",
       "  'how_to_apply': '<p>For more information on this position and how to apply, please visit: <a href=\"https://apply.intelligencecareers.gov/job-description/1155764\">https://apply.intelligencecareers.gov/job-description/1155764</a></p>\\n',\n",
       "  'company_logo': 'https://jobs.github.com/rails/active_storage/blobs/eyJfcmFpbHMiOnsibWVzc2FnZSI6IkJBaHBBck9YIiwiZXhwIjpudWxsLCJwdXIiOiJibG9iX2lkIn19--be46f893fc78e8f7ba8852f45c28c9ce633640f5/2018_NSA_Horiz_URL.jpg'},\n",
       " {'id': 'e1d550f5-8ffd-4987-8d51-5bc3669f0605',\n",
       "  'type': 'Full Time',\n",
       "  'url': 'https://jobs.github.com/positions/e1d550f5-8ffd-4987-8d51-5bc3669f0605',\n",
       "  'created_at': 'Mon Feb 01 09:32:18 UTC 2021',\n",
       "  'company': 'uMotif',\n",
       "  'company_url': 'https://www.umotif.com/',\n",
       "  'location': 'London',\n",
       "  'title': 'DevOps Engineer',\n",
       "  'description': '<p>uMotif’s mission is to put patients at the centre of research by building data capture solutions people love to use. Designed with patients for patients, the uMotif platform supports data capture for each phase of clinical research across all therapeutic areas. Over 22,000 participants use our applications to track and submit e-consent, symptom, eCOA, ePRO, and wearable device data. With expertise in engaging patients and fast deployments, we work with 10 of the top 20 global pharmaceutical companies to power large real-world evidence (RWE) and virtual studies.</p>\\n<p><strong>uMotif is an equal opportunity employer!</strong></p>\\n<p>uMotif is an equal opportunities employer and positively encourages applications from suitably qualified and eligible candidates regardless of sex, race, disability, age, sexual orientation, gender reassignment, religion or belief, marital status, or pregnancy and maternity.</p>\\n<p><strong>The Role</strong></p>\\n<p>We are looking for an experienced DevOps Engineer to join uMotif Engineering team.\\nAs part of your new role, you will:</p>\\n<ul>\\n<li>Maintain and improve security standards of our tech stack and cloud environments</li>\\n<li>Deliver and own disaster recovery and backup procedures</li>\\n<li>Handle and resolve all security issues</li>\\n<li>Contribute to the process of automated software builds and testing</li>\\n</ul>\\n<p><strong>What uDo?</strong></p>\\n<ul>\\n<li>Improve resilience and security of the existing infrastructure.</li>\\n<li>Work on the containerized stack to ensure its security</li>\\n<li>Create procedures for disaster recovery and backups of data</li>\\n<li>Provide security governance and deliver optimizations</li>\\n<li>Continuously monitor, govern and improve our platforms</li>\\n</ul>\\n<p><strong>What uNeed to Succeed!</strong></p>\\n<ul>\\n<li>Significant experience in designing resilient and scalable solutions within AWS. Essential services; VPC, IAM, EC2, S3, CloudWatch, DynamoDB, Route53, RDS, Elasticache, and ECS.</li>\\n<li>Experience working with AWS GuardDuty. SecurityHub, Inspector and Detective.</li>\\n<li>Great knowledge around containers and their deployments.</li>\\n<li>Understanding of network security and security principles</li>\\n<li>Good Git knowledge while using Github/Gitlab</li>\\n<li>Strong scripting and automation skills using Bash, Python or Go</li>\\n<li>Ability to manage code deployments and versioning, upgrading and security patching of software.</li>\\n<li>Implementing security solutions in our cloud estate</li>\\n</ul>\\n<p><strong>Nice to have</strong></p>\\n<ul>\\n<li>Hold AWS Certified Security – Speciality</li>\\n<li>Experienced in writing well written Lambda functions using Javascript, Python or Go</li>\\n<li>Have worked with Okta our single sign-on solution</li>\\n<li>Have worked with Terraform Cloud</li>\\n</ul>\\n<p><strong>Why uMotif!</strong></p>\\n<ul>\\n<li>25 days holiday per year, plus an additional day off for your birthday</li>\\n<li>Bupa private medical insurance</li>\\n<li>Workplace pension contribution</li>\\n<li>Share options</li>\\n<li>Cycle to Work scheme</li>\\n<li>‘uToken’ annual lifestyle bonus</li>\\n<li>Flexible working</li>\\n<li>Training and personal development allowance</li>\\n<li>EAP</li>\\n</ul>\\n<p><img src=\"https://camo.githubusercontent.com/e3741fac9f958aa538590649aa821b5280670c56/68747470733a2f2f742e676f686972696e672e636f6d2f682f30656335356430326331333164613432323239376637376230346262343838623631623135663435333837336531663766343837343237373739353330363961\"></p>\\n',\n",
       "  'how_to_apply': '<p><a href=\"https://t.gohiring.com/h/d777b031f13ac424583b06d15352459c1174e4badf40d3a38f41275ff4d5bb94\">application form</a></p>\\n',\n",
       "  'company_logo': 'https://jobs.github.com/rails/active_storage/blobs/eyJfcmFpbHMiOnsibWVzc2FnZSI6IkJBaHBBb0tYIiwiZXhwIjpudWxsLCJwdXIiOiJibG9iX2lkIn19--29db003445421e9058a05e926372314ec1f0fdcd/uMotif.png'},\n",
       " {'id': '57409c21-5271-482a-9eb5-33b21084e7fd',\n",
       "  'type': 'Full Time',\n",
       "  'url': 'https://jobs.github.com/positions/57409c21-5271-482a-9eb5-33b21084e7fd',\n",
       "  'created_at': 'Sun Jan 31 22:57:02 UTC 2021',\n",
       "  'company': 'Commonwealth Bank',\n",
       "  'company_url': 'https://www.commbank.com.au/about-us/careers/engineering.html?ei=Engineering',\n",
       "  'location': 'Sydney, Australia',\n",
       "  'title': 'Expressions of interest – Systems Engineers (DevOps, Docker & Cloud Security)',\n",
       "  'description': '<ul>\\n<li><em>You are driven to find elegant solutions to complex problems</em></li>\\n<li><em>We are one of the most advanced engineering product teams in Australia</em></li>\\n<li><em>Together we can future-proof one of Australia’s largest companies</em></li>\\n</ul>\\n<p><strong>Do work that matters</strong></p>\\n<p>As someone who never shies away from a challenge, let us present ours to you. We’re working to re-architect and modernise our delivery landscape, enabling our engineers to provide seamless solutions for millions of people. And we want your help.</p>\\n<p>Here, you can create, manage and optimise the platforms used to power our entire business. You’ll have the opportunity to take responsibility for continuous improvement, ensuring our systems are simpler, faster and more secure.</p>\\n<p>You’re determined to innovate and create, fix what’s broken and speak up when something’s not right. Your analytical mind means data is part of every decision you make and you’re always on the lookout for improvement – from product delivery to honing your own skills.</p>\\n<p>Working with us means you’ll collaborate across teams and functions, partnering with Software Engineers, Application Developers and Network Technicians. And you’ll have the opportunity to share your knowledge and can communicate technical ideas to your peers, managers and the broader engineering community.</p>\\n<p>You have a tenacious attitude towards solving problems, be they business or technology. Here you’ll work with top engineers who are collectively driven to provide industry-leading solutions for the bank and its customers.</p>\\n<p><strong>See yourself in our team</strong></p>\\n<p>The Cloud Services Team is responsible for delivering the infrastructure and platform services that make it easier, cheaper and faster for CommBank to operate. We enable our engineering teams to provide unparalleled solutions for millions of people.</p>\\n<p>Leveraging cloud technologies, we provide highly standardised platforms that push us toward rapid deployment and greater resilience. Together we’re integrating our automation processes, tools, data and ways of working to streamline delivery and provide unrivalled personalisation.</p>\\n<p>We’re a diverse and inclusive bunch, dedicated to nurturing and supporting our people. We focus on skill development, collaboration and flexibility, encouraging you to build your experience across our diverse tech stack. Tap into flexibility, great rewards and the ability to drive your own career growth, knowing you’ll have our support every step of the way.</p>\\n<p><strong>We’re interested in hearing from people who:</strong></p>\\n<ul>\\n<li>\\n<p>Have technical understanding and experience of technology, system integration and application build, containerisation and modernisation concepts.</p>\\n</li>\\n<li>\\n<p>Have hands-on automation scripting and programming skills in Bash, Shell, Golang, Python and Scala</p>\\n</li>\\n<li>\\n<p>Have experience with DevOps engineering</p>\\n</li>\\n<li>\\n<p>Have experience designing and building application containerisation and modernisation solutions, including end-to-end CI/CD solutions.</p>\\n</li>\\n<li>\\n<p>Are experienced in standardising deployment, performing codification, providing scalable application primitives and automating the risk control environment</p>\\n</li>\\n<li>\\n<p>Can demonstrate experience with Kubernetes, Docker orchestration and infrastructure-related open source contributions</p>\\n</li>\\n<li>\\n<p>Have experience in automation and configuration management tools such as Ansible, Puppet or Chef</p>\\n</li>\\n</ul>\\n<p>If this sounds like you apply now!</p>\\n',\n",
       "  'how_to_apply': '<p>Apply here:\\n<a href=\"https://cba.wd3.myworkdayjobs.com/CommBank_Careers/job/Sydney-CBD-Area/Expressions-of-Interest---Senior-Systems-Engineers--DevOps-_REQ124405\">https://cba.wd3.myworkdayjobs.com/CommBank_Careers/job/Sydney-CBD-Area/Expressions-of-Interest---Senior-Systems-Engineers--DevOps-_REQ124405</a></p>\\n',\n",
       "  'company_logo': 'https://jobs.github.com/rails/active_storage/blobs/eyJfcmFpbHMiOnsibWVzc2FnZSI6IkJBaHBBbnFYIiwiZXhwIjpudWxsLCJwdXIiOiJibG9iX2lkIn19--997cf9ceab8c23554f415059447cfbc90e199f14/CBA%20Stacked%20Wordmark%20@4x%20sRGB.jpg'},\n",
       " {'id': '4334779b-e002-4532-99dd-ad4413d75091',\n",
       "  'type': 'Full Time',\n",
       "  'url': 'https://jobs.github.com/positions/4334779b-e002-4532-99dd-ad4413d75091',\n",
       "  'created_at': 'Sun Jan 31 22:37:24 UTC 2021',\n",
       "  'company': 'Commonwealth Bank',\n",
       "  'company_url': 'https://www.commbank.com.au/about-us/careers/engineering.html?ei=Engineering',\n",
       "  'location': 'Sydney, Australia',\n",
       "  'title': 'Expressions of interest – Senior Data Engineer',\n",
       "  'description': \"<ul>\\n<li><em>You are determined to stay ahead of the latest Big Data technologies</em></li>\\n<li><em>We're one of the largest and most advanced Data Engineering teams in the country</em></li>\\n<li><em>Together we can build state-of-the-art data solutions that power seamless experiences for millions of customers</em></li>\\n</ul>\\n<p><strong>Do work that matters</strong></p>\\n<p>As an experienced data engineer with proven expertise in software development and a passion for providing data-driven solutions, you’re ahead of trends and work at the forefront of Big Data technologies.</p>\\n<p>Which is why we’re the perfect fit for you. Here, you’ll be part of a team of engineers going above and beyond to improve the standard of digital banking. Using the latest tech to solve our customers’ most complex data-centric problems.</p>\\n<p>Across our end-to-end cycle, it will be your job to support the design and construction of large-scale automated machine learning and data mining practices. Drawing from your ability to integrate diverse sets of data from multiple sources you will design, develop and build industry-leading group data products.</p>\\n<p>Your experience means you’re able to execute state-of-the-art coding practices, driving high quality outcomes to solve core business objectives and minimise risks. Communicating to technical and non-technical stakeholders across the business comes naturally to you.</p>\\n<p>As someone who’s both eager to learn and share knowledge, you’re at home in a culture where quality, excellence and openness are championed. Here you’ll experience flexibility, great rewards and the opportunity to drive your own career growth.</p>\\n<p><strong>See yourself in our team</strong></p>\\n<p>To us, data is everything. It’s what powers our cutting-edge features and it’s the reason we can provide seamless experiences for millions of customers from app to branch.</p>\\n<p>We’re responsible for CommBank’s key analytics capabilities and work to create world-leading capabilities for analytics, information management and decisioning. We work across the Group Data Warehouse, Hadoop Big Data Platform, Pega Decisioning, SAS, R, Tableau, Oracle BI, Ab Initio and Data Stage.</p>\\n<p>We value innovation and encourage our employees to constantly think outside the box and break boundaries to solve complex problems. Our diverse teams are dedicated to learning, sharing knowledge and continuous improvement.</p>\\n<p><strong>We’re interested in hearing from people who:</strong></p>\\n<ul>\\n<li>Have experience working with enterprise-level software applications providing Big Data solutions on Cloudera Hadoop platform.</li>\\n<li>Possess strong skills and background within software engineering, preferably with backend coding in Java, Scala and Python</li>\\n<li>Adept with designing and coding with Ab Initio applications.</li>\\n<li>Demonstrated experience in writing Spark APIs, Hive and Impala queries, along with strong expertise working with Apache Kafka and Apache Cassandra.</li>\\n</ul>\\n<p>If this sounds like you apply now!</p>\\n\",\n",
       "  'how_to_apply': '<p>Apply here:\\n<a href=\"https://cba.wd3.myworkdayjobs.com/CommBank_Careers/job/Sydney-CBD-Area/Senior-Data-Engineer_REQ124404\">https://cba.wd3.myworkdayjobs.com/CommBank_Careers/job/Sydney-CBD-Area/Senior-Data-Engineer_REQ124404</a></p>\\n',\n",
       "  'company_logo': 'https://jobs.github.com/rails/active_storage/blobs/eyJfcmFpbHMiOnsibWVzc2FnZSI6IkJBaHBBbTJYIiwiZXhwIjpudWxsLCJwdXIiOiJibG9iX2lkIn19--df4d27dbdeaee1a22a7cfd914dbfdf38d67d6cc1/CBA%20Stacked%20Wordmark%20@4x%20sRGB.jpg'},\n",
       " {'id': 'f008bcac-872d-42b0-aec2-066949cac1c3',\n",
       "  'type': 'Full Time',\n",
       "  'url': 'https://jobs.github.com/positions/f008bcac-872d-42b0-aec2-066949cac1c3',\n",
       "  'created_at': 'Sun Jan 31 14:53:15 UTC 2021',\n",
       "  'company': 'Promaton',\n",
       "  'company_url': 'https://www.promaton.com/',\n",
       "  'location': 'Amsterdam/Remote (UTC-1 to UTC+3)',\n",
       "  'title': 'Senior Backend/Infra Engineer (Rust/Python/AWS/K8S)',\n",
       "  'description': \"<p>Your technical expertise helps us bring our advanced deep learning algorithms to every dental practice in the world so we can increase the quality of healthcare globally. Using micro services on Kubernetes and AWS you make sure our algorithms perform well, and our data is securely transported across our platform</p>\\n<p>Promaton is changing dental healthcare by automating diagnostics and treatment workflows using AI, making healthcare more affordable and accessible for everyone. Did you know dentists miss up to 30% of pathologies on an X-Ray? We are on a mission to eliminate errors in dentistry by improving diagnostic accuracy, and automating mundane work like creating 3D models by hand from an X-Ray. See our company page to learn more about what we do.</p>\\n<p>You'll be:</p>\\n<ul>\\n<li>Helping us scale our applications and infrastructure 125x what it can handle now, while making it faster and more robust.</li>\\n<li>Working on our Medical AI Tool suite like our Data lake and our globally deployed annotation application, such that we can increase our development velocity, and product quality.</li>\\n<li>Constantly improving our CI/CD, so we can ensure the quality of our product</li>\\n</ul>\\n<p>There are two factors that make the above especially challenging:</p>\\n<ol>\\n<li>We work with large files, and resource heavy workloads, meaning that we have to invest a lot in optimisation and cost control.</li>\\n<li>We are a medical software manufacturer, meaning we comply with the highest standards of software development. This means we have an extensive CI/CD process that has to assure that our AI performs as it should on a wide variety of cases.</li>\\n</ol>\\n<p>The perks:\\n💰  Excellent employment terms\\n🏡  Freedom to work from anywhere you like (and any time you like). We only have a few touch points. Not just because of Covid, we are a remote company by design, and have people working from all over Europe.\\n👩\\u200d🔬 Dedicated time for hackathons and research, to explore new ideas of your own\\n🎓 Real training budget for books and conferences or anything else you need to grow.\\n🚀 Work with the latest technology, on the front-end of a rapidly changing field in medical\\n💪 Loads of responsibility and autonomy, zero bureaucracy and a chance to make a real impact\\n🏖 Awesome yearly company retreat, and quarterly team events.\\n⛺️ 25 days of annual leave\\n💻 Top-notch gear, and even bigger servers to play with\\n🏄\\u200d♂️ Promaton is funded for many years to come, meaning you can have the impact you only get at a startup, but with the job security of an established company.\\n🛬 For all international hackers: Promaton is recognized as a visa sponsor by the Dutch government</p>\\n<p>Our tech stack:</p>\\n<ul>\\n<li>Kubernetes on AWS (with EKS)</li>\\n<li>Applications mostly written in Typescript. For resource intensive workloads, we are now also developing some tools and applications in Rust.</li>\\n<li>AI Pipelines written in Python using Pytorch and Tensorflow</li>\\n</ul>\\n<p>Job requirements</p>\\n<ul>\\n<li>Computer science level degree or equivalent</li>\\n<li>Programmer by heart, preferably in any of these languages: Rust, Python, Go, JavaScript, Java, C#</li>\\n<li>5 years experience building back-end services</li>\\n<li>2+ years with Kubernetes and cloud computing (AWS, GCP or Azure)</li>\\n<li>Your mindset: open-minded, innovative, detail-oriented</li>\\n<li>Based in a time zone between UTC-1 and UTC+3 (-2 to +2 hours Amsterdam time)</li>\\n<li>Ability to fly in for company events 4 times a year (1 week per quarter)</li>\\n</ul>\\n<p>Bonus points:</p>\\n<p>Passion for machine learning\\nPrevious experience in a regulated environment</p>\\n\",\n",
       "  'how_to_apply': '<p>Apply via <a href=\"https://careers.promaton.com/o/senior-backendinfra-engineer\">https://careers.promaton.com/o/senior-backendinfra-engineer</a></p>\\n',\n",
       "  'company_logo': 'https://jobs.github.com/rails/active_storage/blobs/eyJfcmFpbHMiOnsibWVzc2FnZSI6IkJBaHBBbU9YIiwiZXhwIjpudWxsLCJwdXIiOiJibG9iX2lkIn19--7992d89b5293b65437e94fb244b1db3fd092da7c/2018-12-14%20asset-03%20logo-text-fc-bg%20square.png'},\n",
       " {'id': '9abd59e0-52c8-4256-a2fa-4e16992916cb',\n",
       "  'type': 'Full Time',\n",
       "  'url': 'https://jobs.github.com/positions/9abd59e0-52c8-4256-a2fa-4e16992916cb',\n",
       "  'created_at': 'Sat Jan 30 02:25:31 UTC 2021',\n",
       "  'company': 'iFit ',\n",
       "  'company_url': 'http://ifit.com/aboutus',\n",
       "  'location': 'Remote',\n",
       "  'title': 'Data Engineer (Remote)',\n",
       "  'description': '<p>SUMMARY</p>\\n<p>As a Data Engineer, you will take on big data challenges in order to deliver insightful analytics. You will build data pipelines and data models that will empower engineers and analysts to make data-driven decisions and deliver a deep understanding of the business.  Your attention to detail will provide the stakeholders with the highest standard in data integrity.</p>\\n<p>JOB RESPONSIBILITIES</p>\\n<ul>\\n<li>\\n<p>Use an analytical, data-driven approach to drive a deep understanding of our business.</p>\\n</li>\\n<li>\\n<p>Build data pipelines and data models that will empower engineers and analysts to make data-driven decisions</p>\\n</li>\\n<li>\\n<p>Build data models to deliver insightful analytics</p>\\n</li>\\n<li>\\n<p>Deliver the highest standard in data integrity</p>\\n</li>\\n<li>\\n<p>Strong analytical skills with ability to analyze and project sales, subscriber, and engagement data. Performs competitive analysis, reviews industry information for current trends and opportunities. Works closely with analytics teams to develop comprehensive analytical reports to enable data-driven decisions to increase engagement and conversions of target customer segments.</p>\\n</li>\\n</ul>\\n<p>DESIRED QUALIFICATIONS, EDUCATION and/or EXPERIENCE</p>\\n<ul>\\n<li>\\n<p>Experience in business intelligence, analytics, or an equivalent analyst position with experience in SQL and an additional object-oriented programming language (e.g., Python, Java).</p>\\n</li>\\n<li>\\n<p>High level of expertise in data modeling.</p>\\n</li>\\n<li>\\n<p>Effective problem solving and analytical skills. Ability to manage multiple projects and report simultaneously across different stakeholders.</p>\\n</li>\\n<li>\\n<p>Structured thinking with ability to easily break down ambiguous problems and propose impactful data modeling designs.</p>\\n</li>\\n<li>\\n<p>Attention to detail and effective verbal/written communication skills.</p>\\n</li>\\n<li>\\n<p>Bachelor’s degree in Engineering, Computer Science, Statistics, Economics, Mathematics, Finance, a related quantitative field, or equivalent practical experience.</p>\\n</li>\\n<li>\\n<p>2-6 years of experience in consulting, business intelligence, analytics, or an equivalent analyst position with experience in SQL and Python.</p>\\n</li>\\n</ul>\\n<p>COMPENSATION AND BENEFITS</p>\\n<ul>\\n<li>\\n<p>Highly competitive compensation, including a performance-based bonus.</p>\\n</li>\\n<li>\\n<p>Full benefits package (Medical, HSA, FSA, Dental, Vision and Life insurance)</p>\\n</li>\\n<li>\\n<p>401(k) with company match.</p>\\n</li>\\n<li>\\n<p>A PTO policy that ensures you are able to find a happy work-to-life balance.</p>\\n</li>\\n<li>\\n<p>Access to cutting-edge technology and hardware for work and fitness.</p>\\n</li>\\n<li>\\n<p>Collaborative work space and environment.</p>\\n</li>\\n</ul>\\n<p>ABOUT IFIT</p>\\n<p>iFit is group of talented designers, developers, marketers, and sales associates that are part of the larger, 2,500+ ICON Health &amp; Fitness corporation, which also includes NordicTrack, Proform, Freemotion, and multiple other brands.\\xa0 We have the flexibility and feel of a startup company with the security and benefits you would find in a broader corporate environment. \\xa0iFit is comprised of both on site and remote employees. We are headquartered in Logan, UT and you are welcome to work from the office or mostly anywhere else in the US (there are a few exceptions).\\xa0 We are very experienced and comfortable working in a remote-friendly environment. We currently use Slack, Zoom, and Google to keep our communication alive and engaged!</p>\\n<p>Check us out!\\n<a href=\"https://stackoverflow.com/jobs/companies/ifit\">https://stackoverflow.com/jobs/companies/ifit</a></p>\\n<p><a href=\"https://www.ifit.com/aboutus\">https://www.ifit.com/aboutus</a></p>\\n',\n",
       "  'how_to_apply': '<p><a href=\"https://corehr.hrcloud.com/icon/#/job-detail/8829219960195302a50b3050af7ce1a8\">https://corehr.hrcloud.com/icon/#/job-detail/8829219960195302a50b3050af7ce1a8</a></p>\\n',\n",
       "  'company_logo': 'https://jobs.github.com/rails/active_storage/blobs/eyJfcmFpbHMiOnsibWVzc2FnZSI6IkJBaHBBbUNYIiwiZXhwIjpudWxsLCJwdXIiOiJibG9iX2lkIn19--1262d334a40ef7641b1b0cd6d8fbd07c2665eb15/square-01.jpg'},\n",
       " {'id': '24f63ba1-4511-45cf-b6b1-5d089639598d',\n",
       "  'type': 'Full Time',\n",
       "  'url': 'https://jobs.github.com/positions/24f63ba1-4511-45cf-b6b1-5d089639598d',\n",
       "  'created_at': 'Fri Jan 29 18:36:11 UTC 2021',\n",
       "  'company': 'Govini',\n",
       "  'company_url': 'http://www.govini.com',\n",
       "  'location': 'Pittsburgh, PA',\n",
       "  'title': 'Machine Learning Engineer',\n",
       "  'description': \"<p>Company Description\\nGovini is a decision science firm dedicated to transforming the business of national security through data science and machine learning. Through its data and analytic platform, Govini delivers objective, decision-grade information at scale to the national security enterprise, so that leaders can better direct investments to innovation and modernization. Govini has offices in Arlington, Virginia, San Francisco, California, and Pittsburgh, Pennsylvania.</p>\\n<p>Job Description\\nWe are seeking an exceptional Machine Learning Engineer to join our team to build cutting-edge machine learning technologies that will replace complex, time-consuming, manual processes with automation and intelligence that will help Govini end-users make scientific and analytical decisions.</p>\\n<p>We're looking for world-class talent to join our team where you will have the opportunity to help develop solutions from data collection to large scale data manipulation to long term data storage and low-latency retrieval, reporting and analytical systems to solve big data problems that drive business performance.</p>\\n<p>This is a team member position, working onsite in our Pittsburgh, PA office.</p>\\n<p>In order to do this job well, you must be a curious and eager problem solver with a hunger for building well-designed, high quality solutions. You have a passion for great work and nothing less than your best will do. You share our intolerance of mediocrity. You’re uber-smart, challenged by figuring things out and producing simple solutions to complex problems. Knowing there are always multiple answers to a problem, you know how to engage in a constructive dialogue to find the best path forward. You’re scrappy. We like scrappy.</p>\\n<p>Scope of Responsibilities:</p>\\n<ul>\\n<li>Actively create, architect and deliver state of the art machine learning solutions designed to add intelligence to our data analysis and software-as-a-service platform</li>\\n<li>Establish meaningful criteria for evaluating algorithm performance and suitability</li>\\n<li>Develop clear software specifications for implementing trained models</li>\\n<li>Implement working, scalable, production-ready Machine Learning and AI Process Automation models and code</li>\\n<li>Optimize processes for maximum speed, performance and accuracy</li>\\n<li>Participate in the end-to-end software development of new feature functionality and design capabilities</li>\\n<li>Craft clean, testable and maintainable code</li>\\n<li>Keep up to date with Machine Learning best practices and evolving open source frameworks</li>\\n<li>Regularly seek out innovation and continuous improvement, finding efficiency in all assigned tasks</li>\\n<li>Collaborate closely with fellow software engineers, data scientists, data engineers and QA engineers</li>\\n</ul>\\n<p>Qualifications</p>\\n<p>US Citizenship is required</p>\\n<p>Required Skills</p>\\n<ul>\\n<li>Bachelor's, Master’s or Doctorate degree in Computer Science, Computer Engineering or a related field</li>\\n<li>Minimum 2 years experience in hands-on development of machine learning models</li>\\n<li>Practical experience of building, developing and productionizing machine learning systems</li>\\n<li>Advanced software skills in Python</li>\\n<li>Experience in NLP</li>\\n<li>Hands-on experiences with AWS and cloud infrastructure</li>\\n<li>A strong desire to learn and investigate new technologies</li>\\n<li>Familiarity with Git source control management</li>\\n<li>Prior hands-on experience working with data-driven analytics</li>\\n<li>Ability to work collaboratively with little supervision</li>\\n<li>A burning desire to work in a challenging fast paced tech environment</li>\\n</ul>\\n<p>Desired Skills</p>\\n<ul>\\n<li>Track record of implementing data-driven products\\nExperience in or exposure to the nuances of a startup or other entrepreneurial environment</li>\\n</ul>\\n\",\n",
       "  'how_to_apply': '<p>Submit your application: <a href=\"https://jobs.lever.co/govini/26e4a24c-1f7d-4dad-8c68-7c4685be2b9d?lever-origin=applied&amp;lever-source%5B%5D=GitHub\">https://jobs.lever.co/govini/26e4a24c-1f7d-4dad-8c68-7c4685be2b9d?lever-origin=applied&amp;lever-source%5B%5D=GitHub</a></p>\\n',\n",
       "  'company_logo': None},\n",
       " {'id': '6b4abcfe-874f-408d-86b0-09e3696438db',\n",
       "  'type': 'Full Time',\n",
       "  'url': 'https://jobs.github.com/positions/6b4abcfe-874f-408d-86b0-09e3696438db',\n",
       "  'created_at': 'Fri Jan 29 18:13:09 UTC 2021',\n",
       "  'company': 'Onna',\n",
       "  'company_url': 'https://onna.com/careers/',\n",
       "  'location': 'United States',\n",
       "  'title': 'Implementation Developer (RTP or remote)',\n",
       "  'description': \"<p>We are looking for an experienced and highly driven Professional Services Implementation Developer to join our Raleigh-Durham team. This role is also open to remote team members within the US! This role does involve occasional travel, and during certain times it may be up to 75%—though this wouldn't be until closer to 2022.</p>\\n<p>As a member of Onna’s Professional Services team you will partner with engineers and front-end users to implement Onna cloud and on-premise instances of Onna. You will work closely with Customer Success to ensure overall success and will coordinate with many internal resources including:  Sales, Success, Support, and Product.</p>\\n<p><strong>What you’ll do:</strong></p>\\n<ul>\\n<li>\\n<p>Serve as a subject matter expert on Onna’s platform, partnering with engineers supporting Onna’s deployment and assisting customers with training, architecture, and platform implementations</p>\\n</li>\\n<li>\\n<p>Scope and potentially help clients develop custom-built application connectors (using Onna’s APIs) and integration patterns to these endpoints</p>\\n</li>\\n<li>\\n<p>Project execution including planning, risk identification, and stakeholder management from launch through successful platform deployment</p>\\n</li>\\n<li>\\n<p>Mentor colleagues and serve as an internal subject matter expert on Onna implementation and various deployment models (GCP, AWS, Azure, on-premise, etc.)</p>\\n</li>\\n<li>\\n<p>Occasionally support business development activities through demonstrations, training, and client presentations</p>\\n</li>\\n</ul>\\n<p><strong>Who you are:</strong></p>\\n<ul>\\n<li>\\n<p>Experience with: Amazon Web Services, Google Cloud Platform, REST APIs, Kubernetes, Docker</p>\\n</li>\\n<li>\\n<p>You have some experience with coding, such as Python or Javascript (or even PHP, Perl, or Shell)</p>\\n</li>\\n<li>\\n<p>Experience working in a Linux/Unix environment</p>\\n</li>\\n<li>\\n<p>Comfortable with configuration tools (Helm, YAML, etc)</p>\\n</li>\\n<li>\\n<p>Knowledge of cloud architecture as well as on-premise IT landscape and ability to discuss general network configuration, including reverse proxies.</p>\\n</li>\\n<li>\\n<p>Experience with SaaS or on-premise software implementation in a customer-facing environment\\nStrong familiarity with application and data integration, compliance, knowledge management, information governance, and/or eDiscovery solution landscape</p>\\n</li>\\n<li>\\n<p>Outstanding verbal and written client-facing communication skills, and the ability to synthesize complex solutions to simplified explanations</p>\\n</li>\\n<li>\\n<p>Customer focus: you’ve got excellent issue identification skills and are a natural problem-solver with a desire to exceed customer expectations</p>\\n</li>\\n</ul>\\n<p><strong>Benefits we offer:</strong></p>\\n<ul>\\n<li>\\n<p>Comprehensive medical, vision, and dental coverage</p>\\n</li>\\n<li>\\n<p>401(k) with matching contribution</p>\\n</li>\\n<li>\\n<p>Flexible vacation and PTO policies</p>\\n</li>\\n<li>\\n<p>Monthly gym membership stipend</p>\\n</li>\\n<li>\\n<p>Professional development stipend</p>\\n</li>\\n<li>\\n<p>Monthly group activities</p>\\n</li>\\n<li>\\n<p>Commuter perks (location-specific)</p>\\n</li>\\n<li>\\n<p>Dog-friendly office (location-specific)</p>\\n</li>\\n</ul>\\n<p><strong>About the product &amp; Onna’s funding:</strong></p>\\n<p>Our growing list of integrations includes the likes of G-Suite, Slack, Microsoft 365, Box, Dropbox and more. Our open API allows us to integrate with any cloud-based or on-premise platform, for optimal control and visibility into your most critical knowledge. Once connected to Onna, the potential use cases are limitless: Information Governance, eDiscovery, Compliance, Knowledge Management, are just a few ways Onna can empower organizations and their employees.</p>\\n<p>In 2019, we closed an $11M Series A led by Dawn Capital with the participation of our integration partners Slack Fund and Dropbox, and in 2020 we closed a $27M Series B led by Atomico with participation from Glynn Capital, as well as follow-up investments from Dawn Capital, Nauta Capital, and Slack Fund.</p>\\n\",\n",
       "  'how_to_apply': '<p>Please apply directly via our careers page job listing: <a href=\"https://boards.greenhouse.io/onna/jobs/5050550002\">https://boards.greenhouse.io/onna/jobs/5050550002</a></p>\\n',\n",
       "  'company_logo': 'https://jobs.github.com/rails/active_storage/blobs/eyJfcmFpbHMiOnsibWVzc2FnZSI6IkJBaHBBbE9YIiwiZXhwIjpudWxsLCJwdXIiOiJibG9iX2lkIn19--dcc78d5ccad48b3c1d424a39b34e2b4e29ed179d/Onna-Logo-Tapenade.png'},\n",
       " {'id': '13865c6b-4ee1-4b47-a7af-58a404098499',\n",
       "  'type': 'Full Time',\n",
       "  'url': 'https://jobs.github.com/positions/13865c6b-4ee1-4b47-a7af-58a404098499',\n",
       "  'created_at': 'Fri Jan 29 15:27:33 UTC 2021',\n",
       "  'company': 'Bark',\n",
       "  'company_url': 'https://www.bark.com/en/gb/',\n",
       "  'location': 'London',\n",
       "  'title': 'Senior Backend Engineer',\n",
       "  'description': \"<p><strong>Senior Backend Engineer</strong></p>\\n<p><strong>About the role</strong></p>\\n<p>We are looking for a Senior Engineer to join our new backend services team. You’ll become a core part of a small, dynamic team that is breaking new ground: researching, designing and implementing the future technology at Bark. You’ll be someone who loves innovating and problem solving, and gets a kick out of making systems work efficiently at a continuously-increasing large scale.</p>\\n<p>Our current back-end technology stack is written in Python and you will need to be able to work within this codebase - but we are at the start of a journey, and your experience will help to shape our technology strategy, adapting our architecture as we grow.</p>\\n<p>You’ll get the opportunity to utilise a variety of technologies to pave the future of Bark whilst enhancing how we solve complex online problems in cutting-edge areas such as search, classification and core marketplace services. You’ll be involved in every aspect of the process: idea generation, business analysis, technical and architectural design through to implementation.</p>\\n<p>Some of our benefits:</p>\\n<ul>\\n<li>Competitive salary.</li>\\n<li>Share options in a rapidly growing company, whose founders have a proven track record of successful exits.</li>\\n<li>Private gym, just for Bark employees.</li>\\n<li>Private health insurance.</li>\\n<li>Monthly socials and massive parties.</li>\\n<li>Fully stocked kitchen and weekly team lunches.</li>\\n</ul>\\n<p><strong>Responsibilities:</strong></p>\\n<ul>\\n<li>Work with development teams and product managers to conceptualise and implement software solutions.</li>\\n<li>Build elegant and performant APIs</li>\\n<li>Develop and manage well-functioning databases and applications.</li>\\n<li>Proactively propose and implement improvements to the codebase.</li>\\n<li>Design and code solutions for systems with 1000s of transactions a second.</li>\\n<li>Work with our data insights team to transform the TBs of data we have, into insights we can use to revolutionise the product.</li>\\n</ul>\\n<p><strong>Required skills and experience:</strong></p>\\n<ul>\\n<li>Using Python in a production environment.</li>\\n<li>Defining, implementing and testing APIs.</li>\\n<li>Understand SOLID principles.</li>\\n<li>Integrating with 3rd party APIs, including OAuth flows and similar.</li>\\n<li>Production MySQL experience; strong SQL skills.</li>\\n<li>Using Docker in production, ideally with Kubernetes or Fargate/ECS/EKS.</li>\\n<li>Experience building, maintaining, testing and documenting APIs to be used by other developers both internally and externally.</li>\\n<li>Strong organisational skills.</li>\\n<li>Analytical mindset with numerical aptitude.</li>\\n<li>Ability to achieve goals in a highly innovative and fast paced environment.</li>\\n</ul>\\n<p><strong>Desired skills and experience:</strong></p>\\n<ul>\\n<li>Familiarity with the AWS ecosystem. Knowledge of SQS (or similar such as RabbitMQ), SNS (or Kafka), and how they are used.</li>\\n<li>Knowledge of Apache Airflow, Spark, Hadoop and other data toolkits.</li>\\n<li>Experience with other data stores like Elastic, MongoDB or similar.</li>\\n<li>Interest in machine learning topics such as logistic regression, nlp and others.</li>\\n<li>PHP experience with a framework (Laravel, Symfony, Zend, CakePHP etc) would be a bonus, but not essential.</li>\\n</ul>\\n<p><strong>What our devs say...</strong>\\n<strong>Henry, Tech Team Lead</strong> - <em>“It’s an exciting time to join Bark in many ways but especially from a tech point of view, because we’re at the beginning of the biggest architectural transition in the company's history. As we transition from a startup to a much larger company, we need to upgrade our stack from a few monolith systems, to much more scalable, maintainable, decoupled services.”</em></p>\\n<p><strong>George, Developer</strong> - <em>“Working so closely with the product and design teams gives me an opportunity to get involved in the product from the earliest stage. Each week we build a new experiment which is a true collaboration of the ideas from everyone in the group. Due to the scale of Bark as a business, it’s also hugely rewarding to see that the work we produce can make a massive impact, by generating millions of pounds in annualised revenue.”</em></p>\\n<p><strong>Tom, Senior Product Designer</strong> - <em>“There's a real sense of camaraderie across the company. The tech side of the business is really exciting at the moment – we broke into different teams and the effect is phenomenal. Never a dull moment, and feels like we're making real measurable change to the product for our users!”</em></p>\\n<p><em>Agency calls are not appreciated.</em>!</p>\\n\",\n",
       "  'how_to_apply': '<p><a href=\"https://ltpx.nl/Y5TuCfF\">Click here to apply</a></p>\\n',\n",
       "  'company_logo': 'https://jobs.github.com/rails/active_storage/blobs/eyJfcmFpbHMiOnsibWVzc2FnZSI6IkJBaHBBazJYIiwiZXhwIjpudWxsLCJwdXIiOiJibG9iX2lkIn19--b3a8ac07fa740beac12f8583814bcace4529db42/Bark-Primary-Logo-Black-1.png'},\n",
       " {'id': 'cae9d1fc-4b4f-44b6-b4c0-c90091d5f5e0',\n",
       "  'type': 'Full Time',\n",
       "  'url': 'https://jobs.github.com/positions/cae9d1fc-4b4f-44b6-b4c0-c90091d5f5e0',\n",
       "  'created_at': 'Fri Jan 29 13:57:35 UTC 2021',\n",
       "  'company': 'CompuGroup Medical SE & Co. KGaA',\n",
       "  'company_url': 'https://vonq.io/39oD34q',\n",
       "  'location': 'Berlin, Bundesweit, Homeoffice',\n",
       "  'title': 'AI Specialist / Machine Learning Engineer (m/w/d)',\n",
       "  'description': '<h2>CompuGroup Medical helps in the healing process</h2>\\n<p>CompuGroup Medical delivers important software to improve health and the quality of life. We build bridges between physicians, pharmacies, health insurances, laboratories, rehab &amp; care facilities and hospitals and help them to optimally treat people.</p>\\n<h2>As an AI Specialist / Machine Learning Engineer (m/w/d) you are already shaping what the future holds!</h2>\\n<p>As a pioneer in digital health our heart beats for the development and implementation of new technologies. For the next level of eHealth evolution we are looking for creative minds who enjoy working with a variety of technologies, their own design freedom and professional development.</p>\\n<h2>Contribute to our success:</h2>\\n<ul>\\n<li>You are responsible for the implementation of IT solutions towards intelligent processing of text and speech</li>\\n<li>You analyze data from our clinical areas, prepare and bring them into a compatible structure for an AI solution</li>\\n<li>You adapt algorithms to the task at hand or combine existing ones to derive new results from them</li>\\n<li>You influence our AI platform stack and help ensure that the modules and models work together smoothly and deliver increasingly accurate results in the end</li>\\n<li>Via coaching and guidelines, you make all Business Unit\\'s fit in the use of AI stacks</li>\\n<li>You oversee the long-term maintenance of our AI products and ensure sustainable professional use through continuous updates</li>\\n</ul>\\n<h2>What we expect:</h2>\\n<ul>\\n<li>Degree in computational linguistics, business informatics, mathematics, economics, or a comparable qualification</li>\\n<li>Several years of experience in designing and developing NLP projects in at least three of the following topics: text Mining, chatbots, ontologies, sentiment analysis, semantic analysis, entity extraction, topic modeling, NLU or NLG</li>\\n<li>Knowledge in text data preparation (normalization, tokenizing, POS tagging, parsing), a profound understanding of standard NLP tools (e.g., OpenNLP, CoreNLP, NLTK), as well as raw data management skills</li>\\n<li>Hands-on experience with Deep Learning and the programming languages Python, R, and Java as well as various toolsets (e.g., Pytorch, Keras, Tensorflow, NLTK)</li>\\n<li>A goal-oriented communication of complex technical issues, high intrinsic motivation, and a structured way of working round off your profile</li>\\n<li>Bilingual fluency in English &amp; German</li>\\n</ul>\\n<h2>We offer you:</h2>\\n<ul>\\n<li>The chance to start and grow with a newly formed agile team at Germany\\'s largest healthcare software company</li>\\n<li>The possibility to work on multiple AI topics and use cases - realize and develop yourself</li>\\n<li>Development of AI technology in a wide range of fields (e.g., consumer, ambulatory or hospitality systems, pharmacy)</li>\\n<li>An open atmosphere with a tremendous multidisciplinary, international team</li>\\n<li>All of the standard perks you know - flexible hours, home-office, fitness, coffee, soft drinks, fruit, great furniture and equipment, and a fantastic modern office in the AQUA-Höfe Berlin</li>\\n</ul>\\n<h2>Interested?</h2>\\n<p>Build the AI Competence Center together with us!\\nWe are looking forward to receiving your convincing application with your salary expectations via the application form.</p>\\n<p><a href=\"https://vonq.io/39oD34q\">Click here for the application form!</a></p>\\n<h2>Synchronizing Healthcare</h2>\\n<h2>Be part of it now!</h2>\\n<p>Reference number:</p>\\n<p><strong>req5575</strong></p>\\n<p>Location:</p>\\n<p><strong>nationwide (home office)</strong></p>\\n<p>Job segment:</p>\\n<p><strong>Software Development</strong></p>\\n<p>Contact:</p>\\n<p><strong><a href=\"mailto:career@cgm.com\">career@cgm.com</a></strong></p>\\n',\n",
       "  'how_to_apply': '<p><a href=\"https://vonq.io/39oD34q\">Click here for the application form!</a></p>\\n',\n",
       "  'company_logo': 'https://jobs.github.com/rails/active_storage/blobs/eyJfcmFpbHMiOnsibWVzc2FnZSI6IkJBaHBBa1dYIiwiZXhwIjpudWxsLCJwdXIiOiJibG9iX2lkIn19--b5ea49ef7aaf7226431e1269788134606f18f9d1/Compugroup.jpg'},\n",
       " {'id': '7cbcbf10-f5ed-4f80-b2dd-7e565c9dd9af',\n",
       "  'type': 'Full Time',\n",
       "  'url': 'https://jobs.github.com/positions/7cbcbf10-f5ed-4f80-b2dd-7e565c9dd9af',\n",
       "  'created_at': 'Fri Jan 29 01:06:58 UTC 2021',\n",
       "  'company': 'Secureframe',\n",
       "  'company_url': 'https://secureframe.com',\n",
       "  'location': 'San Francisco or Remote',\n",
       "  'title': 'Software Engineer',\n",
       "  'description': '<p><a href=\"https://secureframe.com/\">Secureframe</a>\\xa0is on a mission to make the most powerful security simple and accessible for every organization. Getting secure can take months, slowing a company\\'s speed-to-market and sales. We believe security -- when done right -- should accelerate innovation and growth. That\\'s why we started Secureframe.</p>\\n<p>Secureframe is backed by top VCs including\\xa0<a href=\"https://gradient.com/\">Gradient Ventures</a>\\xa0(Google\\'s AI Fund), Base10, BoxGroup, Village Global, and many more.</p>\\n<p>This role can be in San Francisco or Remote.\\xa0Secureframe is fully remote till at least June 2021.</p>\\n<h3>What you\\'ll do</h3>\\n<ul>\\n<li>Scope, design, and implement new end-to-end functionality</li>\\n<li>Contribute to codebases in Ruby, Typescript, and Go</li>\\n<li>Help architect core parts of our infrastructure from the ground up</li>\\n<li>Work closely with designers and product managers to solve ambiguous user challenges</li>\\n</ul>\\n<h3>Who we\\'re looking for</h3>\\n<ul>\\n<li>2+ years of experience working with modern programming languages like Ruby, Javascript, Python, etc.</li>\\n<li>Strong understanding of computer science fundamentals</li>\\n<li>Ability to communicate and collaborate effectively</li>\\n<li>Passion and ability to work well in a fast-paced, rapidly changing environment</li>\\n</ul>\\n<h3>Benefits</h3>\\n<ul>\\n<li>Medical, dental, and vision benefits for you and your dependent(s)</li>\\n<li>Unlimited PTO</li>\\n<li>401(k)</li>\\n<li>Paid family leave</li>\\n<li>Ground floor opportunity as an early member of the team</li>\\n</ul>\\n<p><em>Secureframe is an equal opportunity employer. We aim to create an environment where every team member at Secureframe feels like they belong so they can have a greater impact on our business and customers. We do not discriminate on the basis of race, religion, color, national origin, gender, sexual orientation, age, marital status, veteran status, or disability status.</em></p>\\n<p>Secureframe is fully remote until at least June 2021. We are committed to the health and safety of our employees and will not require employees to be in our office(s) until a vaccine is widely available.</p>\\n',\n",
       "  'how_to_apply': '<p><a href=\"https://jobs.lever.co/secureframe/020d7563-b902-4002-9a82-ee2c77d0f8c0?lever-origin=applied&amp;lever-source%5B%5D=GitHub\">Apply Here</a></p>\\n',\n",
       "  'company_logo': 'https://jobs.github.com/rails/active_storage/blobs/eyJfcmFpbHMiOnsibWVzc2FnZSI6IkJBaHBBaXlYIiwiZXhwIjpudWxsLCJwdXIiOiJibG9iX2lkIn19--b34d3fdfa508617db088f05bd635cf8164a6dccf/logo.gif'},\n",
       " {'id': 'ab550929-cf41-456a-9bd4-009ff81ed39b',\n",
       "  'type': 'Full Time',\n",
       "  'url': 'https://jobs.github.com/positions/ab550929-cf41-456a-9bd4-009ff81ed39b',\n",
       "  'created_at': 'Thu Jan 28 14:20:12 UTC 2021',\n",
       "  'company': 'CompuGroup Medical SE & Co. KGaA',\n",
       "  'company_url': 'https://vonq.io/3aa2NRs',\n",
       "  'location': 'Berlin',\n",
       "  'title': 'Full-Stack-Entwickler (m/w/d) docmetric',\n",
       "  'description': '<h2>CompuGroup Medical hilft heilen</h2>\\n<p>CompuGroup Medical liefert wichtige Software, um Gesundheit und Lebensqualität zu verbessern. Wir bauen Brücken zwischen Ärzten, Apothekern, Kostenträgern, Laboren, Reha- und Pflegeeinrichtungen und Krankenhäusern und helfen ihnen, Menschen optimal zu versorgen. Die Arbeit aller medizinischen Leistungserbringer zu verstehen und immer mehr zu erleichtern ist unser Ziel. Seit über 30 Jahren unterstützen wir unsere Kunden, Informationen sicher zu speichern, auszutauschen und Wissen abzufragen.</p>\\n<ul>\\n<li>Führendes internationales e-Health Unternehmen</li>\\n<li>746 Mio. € Jahresumsatz in 2019</li>\\n<li>Ca. 6100 Mitarbeiter weltweit</li>\\n<li>Einzigartige Kundenbasis mit über 1 Mio. professionellen Nutzern weltweit</li>\\n<li>Standorte in 18 und Produkte in 56 Ländern</li>\\n<li>Über 30 Jahre erfolgreich im Markt</li>\\n</ul>\\n<p><strong>Als Full-Stack-Entwickler (m/w/d) docmetric gestalten Sie heute schon mit, was die Zukunft bringt!</strong></p>\\n<p>docmetric bietet Ihnen die Möglichkeit, sich in einem innovativen und internationalen Umfeld zu entfalten. Wir vereinen die Kompetenz der CompuGroup Medical als eines der weltweit führenden E-Health-Unternehmen mit der Leidenschaft für digitale und datengetriebene Geschäftsmodelle eines Start-ups. Bei docmetric entwickeln wir unsere Produkte selbst, von der Entgegennahme anonymisierter Daten aus verschiedenen Quellen bis zur Anzeige der Analysen einer mobilen App oder Desktop-Anwendung.</p>\\n<h2>Ihr Beitrag:</h2>\\n<ul>\\n<li>Als Full-Stack-Entwickler (m/w/d) sorgen Sie gemeinsam mit Ihrem Team für die Erweiterung und Verbesserung unseres Produktportfolios</li>\\n<li>Dabei tragen Sie die Verantwortung für das Aufsetzen sowie Überwachen von Schnittstellen und Servern zur Übermittlung anonymisierter Daten</li>\\n<li>Sie sind zuständig für die Entwicklung von Algorithmen zur Qualitätsprüfung der eingehenden Daten</li>\\n<li>Die Umsetzung von Analysetools zur Auswertung, Interpretation und Weiterverarbeitung der eingehenden Daten (unter Einsatz von Machine Learning) stellen Sie sicher</li>\\n<li>Sie realisieren die Entwicklung und den Betrieb von Frontends für die Nutzeradministration und die Datenvisualisierung</li>\\n</ul>\\n<h2>Was uns wichtig ist:</h2>\\n<ul>\\n<li>Abgeschlossenes Studium im Bereich der Informatik, Programmierung, IT-Entwicklung oder eine vergleichbare Qualifikation</li>\\n<li>Mindestens 2 Jahre Berufserfahrung als Programmierer (m/w/d)</li>\\n<li>Kenntnisse in Python, MySQL, Elasticsearch, REST-APIs, Web-Development, Datenvisualisierung und Mobile-App-Development (Flutter)</li>\\n</ul>\\n<h2>Was Sie von uns erwarten können:</h2>\\n<ul>\\n<li>Die Möglichkeit, beim Marktführer der Branche zu arbeiten</li>\\n<li>Flexible Arbeitszeiten, die eine ausgewogene Work-Life-Balance ermöglichen</li>\\n<li>Zuschuss zur betrieblichen Altersvorsorge als Baustein einer sicheren Zukunft</li>\\n<li>Nationale und internationalen Entwicklungsmöglichkeiten sowie zahlreiche Weiterbildungsmaßnahmen und Schulungen (u.a. in-house-training in Englisch)</li>\\n<li>Ein umfangreiches Gesundheitsmanagement (Impfangebote, Augenuntersuchung, Vorsorgeuntersuchungen)</li>\\n</ul>\\n<p>Sie erleichtern es uns schnell richtige Entscheidungen zu treffen, wenn Sie uns über das <strong>Bewerbungsformular</strong> Ihre aussagekräftigen Unterlagen mit Ihren Gehaltsvorstellungen übermitteln.</p>\\n<p>Synchronizing Healthcare</p>\\n<p>Werden Sie jetzt ein Teil davon!</p>\\n<p>Kennziffer:</p>\\n<p><strong>req5701</strong></p>\\n<p>Standort:</p>\\n<p><strong>Berlin</strong></p>\\n<p>Job Segment:</p>\\n<p><strong>Software Development</strong></p>\\n<p>Kontakt:</p>\\n<p><strong><a href=\"mailto:career@cgm.com\">career@cgm.com</a></strong></p>\\n<p><a href=\"https://vonq.io/3aa2NRs\">Klicken Sie hier um zum Bewerbungsformular zu gelangen!</a></p>\\n',\n",
       "  'how_to_apply': '<p><a href=\"https://vonq.io/3aa2NRs\">Klick hier um zum Bewerbungsformular zu gelangen!</a></p>\\n',\n",
       "  'company_logo': 'https://jobs.github.com/rails/active_storage/blobs/eyJfcmFpbHMiOnsibWVzc2FnZSI6IkJBaHBBaGVYIiwiZXhwIjpudWxsLCJwdXIiOiJibG9iX2lkIn19--1e417c976fd3d9b176e41d8640bf5a9355fc8f24/companyLogo-CGM_LOGO.jpg'},\n",
       " {'id': '2f3bce46-908b-4018-9135-fe0e514d9929',\n",
       "  'type': 'Full Time',\n",
       "  'url': 'https://jobs.github.com/positions/2f3bce46-908b-4018-9135-fe0e514d9929',\n",
       "  'created_at': 'Wed Jan 27 17:11:53 UTC 2021',\n",
       "  'company': 'CircleBlack, Inc',\n",
       "  'company_url': 'http://www.circleblack.com',\n",
       "  'location': 'New Jersey ',\n",
       "  'title': ' Senior Software Developer (Full Stack)',\n",
       "  'description': '<p>Who are we?</p>\\n<p>CircleBlack, Inc. provides financial advisors with technology that aggregates data, integrates other financial applications seamlessly, manages data from multiple custodians and delivers actionable intelligence about client portfolios, helping advisors better manage clients\\' wealth while growing and deepening advisor-client relationships. CircleBlack provides a leading platform built for the digital age, with a web-based and mobile application that can be taken anywhere and accessed anytime. CircleBlack\\'s solution leverages proprietary technology that helps sustain the Company\\'s unique competitive advantages. CircleBlack believes in making wealth management better, for both the investor and the advisor. For more information about CircleBlack, visit <a href=\"https://www.circleblack.com\">https://www.circleblack.com</a></p>\\n<p>Position Summary:</p>\\n<p>We are looking for a passionate, forward thinker full stack senior software developer to design, develop and maintain our software solutions. You will be working on building quality performing software that enables financial advisors to deliver real time data to their clients while adapting to industry trends. Ideal candidates should be passionate about solving complex problems while being able to design, develop and support industry-leading solutions using NodeJS in a fast paced environment with seven years of application development.</p>\\n<p>Responsibilities:</p>\\n<p>Design and develop NodeJS APIs, integrations, analytics engines, and infrastructure tools.\\nImplement modern React user interfaces.\\nLead migration from one core application to another, while proposing and implementing modern performance optimizations and scaling strategies, such as React user interface.\\nDrive software change while ensuring  software deliverables comply with quality standards.\\nCollaborate effectively with stakeholders, designers and testers advising on impact, and performance to deliver the highest quality of software.\\nPerform code reviews, suggesting improvements and ensuring adherence to best practices.\\nParticipate in an Agile development process.\\nDeveloping for a full stack of technologies including NodeJS, Nginx, React, Angular 1, MySQL, ElasticSearch, Kibana, PHP, Perl, Python and/or Ruby, Redis on AWS Linux servers.\\nDetermine the root cause for complex software issues and develop practical solutions.\\nServe as technical team lead and act as a mentor to allow for skill development through coaching, and training opportunities.</p>\\n<p>Competencies:</p>\\n<p>Ability to approach problems in a holistic manner, both tactical and strategic\\nContinuously aware of leveraging coaching and mentoring opportunities with junior software engineers\\nCreative, resourceful and outside- the- box thinking approach\\nInitiator; natural “fixer” mentality\\nProblem-solver and analytical</p>\\n<p>Education/Qualification:</p>\\n<p>7+ years of application development experience; 4+ years experience using NodeJS. This is a must!\\n2+ years of experience with MySQL database development\\nExperience building maintainable and testable code bases, including API and Database design in an agile environment and driving software change\\nHands on experience integrating third-party SaaS providers using a variety of technologies including at least some the following: REST, SOAP, SAML, OAuth, OpenID, JWT, Salesforce\\nExperience working in a cloud environment, specifically AWS\\nExperience with non-relational databases such as Mongo, Redis, ElasticSearch\\nAbility to work independently, and remotely for the time being\\nBSc degree in Computer Science, Engineering or relevant field</p>\\n<p>What we offer:</p>\\n<p>Competitive base salary + equity\\nFull benefits (medical, dental, vision, 401(k) match, commuter benefits, life insurance)\\nOpen vacation policy\\nAdoption assistance, Employee assistance program, and shopping discounts\\nCredit Union benefits\\nProfessional development, growth, and support\\nOpportunities for advancement as you learn and grow within the role\\nHybrid work schedule</p>\\n<p>CircleBlack, Inc is an Equal Opportunity Employer. All qualified applicants will receive considerations for employment, without regard to race, color, religion sex, national origin, disability, sexual orientation, gender identity, protected Veteran status, age , or any other characteristic protected by law.</p>\\n',\n",
       "  'how_to_apply': '<p><a href=\"https://circleblack.bamboohr.com/jobs/view.php?id=27\">https://circleblack.bamboohr.com/jobs/view.php?id=27</a></p>\\n',\n",
       "  'company_logo': 'https://jobs.github.com/rails/active_storage/blobs/eyJfcmFpbHMiOnsibWVzc2FnZSI6IkJBaHBBdjJXIiwiZXhwIjpudWxsLCJwdXIiOiJibG9iX2lkIn19--698d7d2d4397e9b50fa302dd39ebbe54abcf4554/R3mS4AvU3fwdkV9As8Ibs55L1MLNPOXzBj5E-338gbXPCf8rwaStOzkRNJQAFA2PAAWLwCy9JEkwMo-LHLG7oE1q_g56Z3DSvM6eYMCdjSvfpCoA6L4LWR2HGoHUODZvLskYKv_g.png'},\n",
       " {'id': '105e9bfe-23b5-446b-94b2-c38db98c1299',\n",
       "  'type': 'Full Time',\n",
       "  'url': 'https://jobs.github.com/positions/105e9bfe-23b5-446b-94b2-c38db98c1299',\n",
       "  'created_at': 'Wed Jan 27 16:26:58 UTC 2021',\n",
       "  'company': 'https://www.kranus-health.de',\n",
       "  'company_url': 'https://www.kranus-health.de',\n",
       "  'location': 'Munich',\n",
       "  'title': '(Senior) Software Engineer',\n",
       "  'description': '<p>Driven by Covid-19 and changing regulation (i.e. DVG), digital healthcare is expected to grow to a multi-billion-euro industry within the next few years. Our men’s health platform makes the latest medical care for male patients digitally accessible and affordable, so that men can live a healthier and longer life.</p>\\n<p>We are a highly ambitious startup located in Berlin &amp; Munich. We are a team of three co-founders with a background in high growth tech start-ups like Celonis, Tourlane and Palantir, plus a leading urologist from the Charité Berlin with 30+ years of experience. Now we are starting to grow our team on the basis of our seed funding round and are looking for you to join our A-team.</p>\\n<p><strong>Tasks</strong></p>\\n<p>Develop our platform’s backend with our CTO &amp; power our first mobile app/digital therapy based on the learnings from our MVP.</p>\\n<p><strong>Requirements</strong></p>\\n<ul>\\n<li>Min. B.Sc. (or equivalent practical experience) in engineering, computer science/informatics or other technical related field</li>\\n<li>2+ years of software development experience</li>\\n<li>Prod experience with Python web development frameworks. Preferably FastAPI but also any other major Python framework (Django, Tornado, Flask, ...) &amp; willingness to learn FastAPI on the job</li>\\n<li>Prod experience with PostgresDB</li>\\n<li>You know how to containerize applications and have at least basic working knowledge with k8s</li>\\n<li>Robust knowledge of software engineering patterns, how to build APIs, web sockets etc. AND you can write your own tests</li>\\n<li>You have experience with setting up CI/CD pipelines</li>\\n<li>Optional: You can imagine yourself leading the backend team as it starts growing</li>\\n</ul>\\n<p><strong>Benefits</strong></p>\\n<ul>\\n<li>Really help people and make a difference by working on medical products that help our users every day</li>\\n<li>We are a company of owners - all full-time employees get equity shares.</li>\\n<li>Fast-paced startup environment with very flat hierarchies</li>\\n<li>Opportunity to work on a new project from the ground up and shape the technology decisions together with our CTO by becoming one of our first Engineers!</li>\\n<li>Modern cloud-native stack - AWS, Terraform, Datadog, k8s, GitHub etc.</li>\\n<li>We believe in Open Source - if you have cool ideas bring them along</li>\\n<li>International environment (even though our website still needs an EN translation ;-)</li>\\n<li>Fun and smart people to work with</li>\\n</ul>\\n',\n",
       "  'how_to_apply': '<p><a href=\"https://kranus-health.join.com/jobs/1823923-senior-software-engineer-digital-health-platform?pid=71fbd6149a82b0b128ee&amp;utm_source=stackoverflow&amp;utm_medium=paid&amp;utm_campaign=stackoverflow&amp;utm_content=senior%2Bsoftware%2Bengineer%2Bdigital%2Bhealth%2Bplatform\">https://kranus-health.join.com/jobs/1823923-senior-software-engineer-digital-health-platform?pid=71fbd6149a82b0b128ee&amp;utm_source=stackoverflow&amp;utm_medium=paid&amp;utm_campaign=stackoverflow&amp;utm_content=senior%2Bsoftware%2Bengineer%2Bdigital%2Bhealth%2Bplatform</a></p>\\n',\n",
       "  'company_logo': 'https://jobs.github.com/rails/active_storage/blobs/eyJfcmFpbHMiOnsibWVzc2FnZSI6IkJBaHBBdm1XIiwiZXhwIjpudWxsLCJwdXIiOiJibG9iX2lkIn19--1245572e257c40608e2e6f43d1c6243275afe6e9/kranus-health-gmb-h-logo-l.png'},\n",
       " {'id': 'b11ec718-64fa-4d56-96e7-0f067959192d',\n",
       "  'type': 'Full Time',\n",
       "  'url': 'https://jobs.github.com/positions/b11ec718-64fa-4d56-96e7-0f067959192d',\n",
       "  'created_at': 'Tue Jan 26 18:36:10 UTC 2021',\n",
       "  'company': 'Stony Brook University',\n",
       "  'company_url': 'http://www.stonybrook.edu/',\n",
       "  'location': 'Stony Brook, NY',\n",
       "  'title': 'Software Engineer',\n",
       "  'description': '<p>Software Engineer</p>\\n<p>Required Qualifications (as evidenced by an attached resume):\\nBachelor\\'s degree (foreign equivalent or higher) in Engineering, Computer Science, or related field. Experience as a software developer in at least 5 of the last 8 years to also include at least 2 years of experience working as a database developer, or database application developer, or in a similar role. Database development experience with at least one of the following database systems: Oracle, MySQL, Microsoft SQL Server, PostgreSQL, Vertica, MariaDB, or Microsoft Azure SQL Database. Working knowledge of at least one of the following languages: Python, R, Java, or JavaScript.</p>\\n<p>Preferred Qualifications:\\nMaster\\'s degree (foreign equivalent or higher) in Engineering, Computer Science, or related field. Previous experience working in a healthcare environment. Experience with Linear and Logistic probabilities models and R packages: Golem, Plumber, Highcharter, Tidyverse. Experience with data analysis methods for data quality control and data harmonization. Proficiency with Extract, transform, load (ETL) and Online Analytical Processing (OLAP) methodologies. Experience in SQL and working knowledge of at least one of the following languages: Python, R.</p>\\n<p>Brief Description of Duties:\\nThe Software Engineer will specifically target issues related to the impact of COVID-19 on clinical practices. The successful candidate will develop and deploy dashboards that can be used to carry out efforts to develop clinical protocols, support health care quality efforts, and to improve coding and documentation. The incumbent will also participate in the continued development of core database and analytics infrastructure for curation and management of COVID-19 clinical, laboratory, and imaging data with a specific focus on creating high quality validated data elements relating to COVID-19 patients and patients undergoing COVID-19 testing. The successful incumbent will have excellent communication and writing skills.</p>\\n<ul>\\n<li>\\n<p>Develop, maintain, and deploy dashboards</p>\\n</li>\\n<li>\\n<p>Present data at different levels of granularity for user consumption. Implement proper security and access control in dashboards to protect patient privacy and sensitive information.</p>\\n</li>\\n<li>\\n<p>Develop a workflow analysis system to track various metrics related to Covid-19:</p>\\n</li>\\n<li>\\n<p>Track proper metrics on Covid-19 data in the database and ensure that data integrity and quality is maintained to present an accurate representation of the status of covid-19 cases at Stony Brook.</p>\\n</li>\\n<li>\\n<p>Perform quality assurance testing and code reviews</p>\\n</li>\\n<li>\\n<p>Conduct analyses on Covid-19 data which consists of a rich set of data elements and requires efficient and advanced analyses to understand issues related to the impact of Covid-19 on clinical practices. Data quality and integrity are critical to the successful execution of analyses and maximizing the use of the Covid-19 related data elements.</p>\\n</li>\\n<li>\\n<p>Release updates for a customer base with minimal problems or regression failure.</p>\\n</li>\\n<li>\\n<p>Work closely with the project team and prepare project reports on programming specification, activities.</p>\\n</li>\\n<li>\\n<p>Other duties as assigned.</p>\\n</li>\\n</ul>\\n<p>Special Notes:\\nThe Research Foundation of SUNY is a private educational corporation. Employment is subject to the Research Foundation policies and procedures, sponsor guidelines and the availability of funding. FLSA Exempt position, not eligible for the overtime provisions of the FLSA. Minimum salary threshold must be met to maintain FLSA exemption.</p>\\n<p>Resume/CV and cover letter should be included with the online application.</p>\\n<p>Stony Brook University is committed to excellence in diversity and the creation of an inclusive learning, and working environment. All qualified applicants will receive consideration for employment without regard to race, color, national origin, religion, sex, pregnancy, familial status, sexual orientation, gender identity or expression, age, disability, genetic information, veteran status and all other protected classes under federal or state laws.</p>\\n<p>If you need a disability-related accommodation, please call the university Office of Equity and Access (OEA) at (631) 632-6280 or visithttps://www.stonybrook.edu/commcms/oide/<a href=\"https://www.stonybrook.edu/commcms/oea/\">https://www.stonybrook.edu/commcms/oea/</a>.</p>\\n<p>In accordance with the Title II Crime Awareness and Security Act a copy of our crime statistics can be viewedhttps://www.stonybrook.edu/police/.</p>\\n<p>Visit ourhttps://www.stonybrook.edu/commcms/jobs/working-here/index.php page to learn about the total rewards we offer.</p>\\n<p>To apply, visit <a href=\"https://apptrkr.com/2133097\">https://apptrkr.com/2133097</a></p>\\n<p>Copyright ©2017 Jobelephant.com Inc. All rights reserved.</p>\\n<p><a href=\"https://www.jobelephant.com/\">https://www.jobelephant.com/</a></p>\\n',\n",
       "  'how_to_apply': '<p>To apply, visit <a href=\"https://apptrkr.com/2133097\">https://apptrkr.com/2133097</a></p>\\n',\n",
       "  'company_logo': 'https://jobs.github.com/rails/active_storage/blobs/eyJfcmFpbHMiOnsibWVzc2FnZSI6IkJBaHBBdG1XIiwiZXhwIjpudWxsLCJwdXIiOiJibG9iX2lkIn19--0bbc2349aea435595fb41c822ca3e19ce9a184cd/Stony%20Brook%20University.jpg'},\n",
       " {'id': 'c14ae244-519f-43b4-9969-e1580deaff05',\n",
       "  'type': 'Full Time',\n",
       "  'url': 'https://jobs.github.com/positions/c14ae244-519f-43b4-9969-e1580deaff05',\n",
       "  'created_at': 'Tue Jan 26 17:55:26 UTC 2021',\n",
       "  'company': \"Children's Miracle Network Hospitals\",\n",
       "  'company_url': None,\n",
       "  'location': 'Salt Lake City. UT ',\n",
       "  'title': 'Senior Software Developer (7+ years of experience)',\n",
       "  'description': '<p>At Children’s Miracle Network Hospitals, we raise funds and awareness for local children’s hospitals across North America. We believe that by changing kids’ health we can change the future. To meet these ambitious goals, we develop international partnerships and fundraising programs to raise the critical funds hospitals need to provide state-of-the-art medical care for kids. As a member of our team, you’ll play a significant role in helping 10 million sick and injured kids every year.</p>\\n<p>The Software Developer is responsible for developing complex software applications based on written specifications and requirements. The Software Developer is responsible for participating in programming, documenting, writing tests, and implementing custom software. This position will take ownership of developmental activities. This position will contribute as needed on front end development and support tasks. This position must provide an accurate estimation of projects. This position will implement 3rd party software to increase efficiency. Software Developer is responsible for following modern coding standards for secure code (e.g. OWASP).</p>\\n<p>What You Will Do\\nDisplay exceptional coding and design proficiency in Object Orientated Programming (OOP)\\nDisplay exceptionally familiar with Desktop and Web programming including Client-side technologies and Frameworks (Typescript/JavaScript/JSON/Angular), Server side Technologies (.NET/Python/PHP), Web APIs, Front-end build tools such as Gulp, Package managers (NuGet, NPM), SQL, Distributed Source Control (GIT), Development Tools (Visual Studio, SSMS)\\nUnderstanding and experience in mobile development for Android and iOS\\nWorking with user requirements and Quality Assurance to test solutions\\nWell versed in Test Driven Development (TDD)\\nWell versed on Agile Development Methodologies\\nKnowledgeable about promotion techniques (CI/CD).\\nAbility to contribute to and conduct Code Reviews\\nYou are advanced on all the above with an understanding of Software Architecture and Design</p>\\n<p>About You</p>\\n<p>You have knowledge of general business and management principles. involved in planning, leadership, fundraising, customer service, and coordination of people and resources to meet customer needs.\\nYou have 7 + years of relevant experience and/or in combination with a bachelor’s degree in Computer Science or Information Systems is preferred\\nYou show exceptional customer service and interpersonal skills.\\nYou enjoy working hard and looks for challenges.\\nYou are an authentic, honest and ethical person of integrity as evidenced by how they live day to day treat people and operate in the world of business. A person who demonstrates a high degree of Emotional Intelligence.\\nYou are an excellent team player</p>\\n',\n",
       "  'how_to_apply': '<p>Apply through Link\\n<a href=\"https://cmnhospitals.clearcompany.com/careers/jobs/f9c9f99e-4254-017b-f544-e48f6fefbe77/apply?source=1486703-CS-41514\">https://cmnhospitals.clearcompany.com/careers/jobs/f9c9f99e-4254-017b-f544-e48f6fefbe77/apply?source=1486703-CS-41514</a></p>\\n',\n",
       "  'company_logo': 'https://jobs.github.com/rails/active_storage/blobs/eyJfcmFpbHMiOnsibWVzc2FnZSI6IkJBaHBBdGVXIiwiZXhwIjpudWxsLCJwdXIiOiJibG9iX2lkIn19--d88c7b8f8ebcba1f8037b0545b872ce450cc1241/CMNHospitalslogo_color%20LOW%20RES.jpg'},\n",
       " {'id': '732a81ac-14cb-4fe5-8678-ced5f5fd6a01',\n",
       "  'type': 'Full Time',\n",
       "  'url': 'https://jobs.github.com/positions/732a81ac-14cb-4fe5-8678-ced5f5fd6a01',\n",
       "  'created_at': 'Tue Jan 26 14:20:53 UTC 2021',\n",
       "  'company': 'Alta Planning + Design, Inc.',\n",
       "  'company_url': 'https://altago.com/',\n",
       "  'location': 'Portland, OR',\n",
       "  'title': 'Junior Web Developer',\n",
       "  'description': \"<p>If you’re passionate about developing sites, applications, and tools for the web to help more people bike and walk more often, this position is for you. As a Junior Web Developer, you will be responsible for supporting our Web Team in building and maintaining websites and web applications for a variety of public projects and audiences.</p>\\n<p>You will be part of our Portland office's in-house Graphic Design department, which works closely with a multi-disciplinary team of planners, landscape architects, and GIS specialists in a collaborative and dynamic, fast-paced work environment. You’ll expand your skills as part of a highly committed, experienced, and supportive team.</p>\\n<p><strong>Summary + Overview</strong>\\nThis full-time position is responsible for supporting web development projects by collaborating with the lead web developer to build, maintain, and support websites and other interactive web applications.</p>\\n<p><strong>Position Priorities</strong></p>\\n<p>The essential priorities of this position are:</p>\\n<ul>\\n<li>Collaborating with and supporting the web team to build responsive, accessible, highly optimized websites and applications from project specifications, design guidelines, sitemaps, wireframes, and mockups</li>\\n<li>Administration, organization, support, and documentation of web development properties and processes</li>\\n</ul>\\n<p><strong>Responsibilities</strong></p>\\n<ul>\\n<li>Supporting the web team in building websites and applications that support the efforts of in-house GIS and planning teams and integrate GIS data and analysis</li>\\n<li>Supporting the web team in developing and maintaining websites for clients as part of planning, branding, and public engagement projects</li>\\n<li>Developing and maintaining web properties that support the marketing team</li>\\n</ul>\\n<p><strong>Requirements</strong></p>\\n<p>This position requires a combination of skills and experience including, but not limited to:</p>\\n<ul>\\n<li>1-3 years of professional web development experience</li>\\n<li>Proficient in essential front-end languages: HTML, CSS (and familiar with SASS), JS</li>\\n<li>Understanding of modern web development principles (e.g., layout grids, responsive design, PWAs) and experience with front-end and/or full-stack frameworks</li>\\n<li>Comfortable with local web development workflow &amp; tooling (e.g., VMs, Docker)</li>\\n<li>Experience with basic version control and team development using Git</li>\\n<li>Proficiency in one or more server-side languages (PHP or Python preferred) with the desire to learn others as needed</li>\\n<li>Experience with basic deployment workflow for common hosting environments</li>\\n<li>Ability to learn from and handle critiques; flexible and responsive to feedback</li>\\n<li>Ability to work independently and efficiently to meet tight deadlines</li>\\n<li>Excellent time management skills, strong organizational skills, and superior attention to detail</li>\\n</ul>\\n<p><strong>Preferred Skills + Certifications</strong></p>\\n<p>Additional skills and experience that would be beneficial to this position (but not required) including, but not limited to:</p>\\n<ul>\\n<li>Experience with front-end build tools and workflow (Webpack, Parcel, Gulp, Grunt, etc.)</li>\\n<li>Experience in an agency environment</li>\\n<li>Enthusiasm about Alta’s mission to create active communities</li>\\n</ul>\\n<p>To apply, please upload your resume and a cover letter via the link provided, and tell us why you’re interested in Alta and why you’d be a good fit. <em>Due to the high volume of applicants, we will not be able to respond to email or phone inquiries.</em></p>\\n<p><strong>Alta is an Equal Opportunity Employer</strong>\\nAlta Planning + Design, Inc. is committed to providing equal employment opportunity for all employees and applicants. It is our policy that decisions involving people are made on the basis of job-related criteria, independent of an individual’s gender, race, color, national origin, age, religion, marital status, sexual orientation, military or veteran status, physical or mental disability for which reasonable accommodation is available, and any other status protected by law. This includes decisions involving hiring, job placement, transfer, promotion, compensation, benefits, training, and company-sponsored programs. Alta Planning + Design maintains formal employment policies, available online and by request.</p>\\n<p><strong>Affirmative Action Plan</strong>\\nAlta Planning + Design, Inc. is a federal contractor subject to affirmative action regulations requiring written Affirmative Action Plans (AAP’s) for minorities and women, and for covered veterans and individuals with disabilities. We worked intensively with a local firm that specializes in Affirmative Action Plans to develop a program for our company that will not only satisfy our federal obligations but will be a living document. This means the plan is integrated into our recruiting and evaluation procedures and is revisited often in order to ensure we’re doing everything we can to embrace and promote diversity within our company.</p>\\n\",\n",
       "  'how_to_apply': '<p>Please apply via this link: <a href=\"https://altago.com/careers/junior-web-developer-1401/\">https://altago.com/careers/junior-web-developer-1401/</a></p>\\n',\n",
       "  'company_logo': 'https://jobs.github.com/rails/active_storage/blobs/eyJfcmFpbHMiOnsibWVzc2FnZSI6IkJBaHBBdFdXIiwiZXhwIjpudWxsLCJwdXIiOiJibG9iX2lkIn19--6653ee6dd66711cd71290613e12d10034b3e0439/Alta_Logo_Two_Color_Teal.jpg'},\n",
       " {'id': 'cd91e908-4316-4315-91b9-3f3879932e0b',\n",
       "  'type': 'Full Time',\n",
       "  'url': 'https://jobs.github.com/positions/cd91e908-4316-4315-91b9-3f3879932e0b',\n",
       "  'created_at': 'Tue Jan 26 13:44:38 UTC 2021',\n",
       "  'company': 'EventMobi',\n",
       "  'company_url': 'http://eventmobi.com',\n",
       "  'location': 'Remote',\n",
       "  'title': 'Senior Frontend Engineer - Remote',\n",
       "  'description': '<p><strong>EventMobi is a remote-first company and this is a remote job.</strong></p>\\n<p>EventMobi is committed to creating a diverse environment and is proud to be an equal opportunity employer. All qualified applicants will receive consideration for employment.  Accommodations are available upon request for candidates taking part in all aspects of the selection process.</p>\\n<p><strong>Why EventMobi?</strong></p>\\n<p>Events and conferences are being reimagined online, and EventMobi is building on ten years of event technology experience to innovate one of the most flexible and engaging virtual event platforms. We are an award-winning tech startup with teams in Toronto, Berlin and Manila, with thousands of customers around the globe.</p>\\n<p>We believe that live events bring people together to enable change – both in business and our society at large. In the era of COVID-19, we have become a remote-first company and are hard at work helping thousands of events pivot to virtual. EventMobi has a huge impact on the success of our customers’ events and on their attendee experience. We are on a mission to revolutionize how event planners create, market and manage their virtual and in-person events, and how remote and on-site attendees experience conferences. We would love for you to join us and leave your mark.</p>\\n<p><strong>About You</strong></p>\\n<p>If you\\'re looking for a software development role that allows you to drive the web and the future of virtual events forward by utilizing the latest technologies, you\\'ve come to the right place! Developers at EventMobi focus on building powerful front-ends that work across devices, are offline capable and are just as, if not more powerful, than their native counterparts. We use the best tools for the job, including React+Redux, NodeJS, Cordova, and Webpack to develop a platform that generates &amp; deploys thousands of apps annually and we\\'re constantly looking to push the bar with your help!</p>\\n<p><strong>What Your Work Will Focus On</strong></p>\\n<ul>\\n<li>\\n<strong>Modern Web Application</strong> - You will be involved in enhancing our responsive web app that powers our mobile and virtual event space products. Solving interesting problems along the way - real time content updates, offline content, UI and architecture scaling for performance.</li>\\n<li>\\n<strong>Ownership</strong> - From initial design to deployment, test automation to performance monitoring, you own what you build end-to-end.</li>\\n<li>\\n<strong>Architecture &amp; Scale</strong> - Gathering insights and employing strong design principles, you will determine the best tech to address our customers needs while optimizing for scale.</li>\\n<li>\\n<strong>Development</strong> - Best practices, craftsmanship, well thought out code and mentorship to your team is your ideal and you preach this in your own work as well as with your teammates.</li>\\n<li>\\n<strong>Quality</strong> - You will help grow the team around you in not only pushing new capabilities for our customers, but also maintaining the utmost quality in everything we build.</li>\\n</ul>\\n<p><strong>What You Will Bring to the Team</strong></p>\\n<ul>\\n<li>5+ years experience as a software developer working on large or fast scaling products</li>\\n<li>2+ years experience working with Javascript and a deep understanding in React/Redux including - concepts such as Hooks and functional components</li>\\n<li>Ability to architect elegant solutions to complex problems using appropriate abstractions and techniques</li>\\n<li>Comfortable working with large code bases</li>\\n<li>Experience working with Restful APIs</li>\\n<li>Proficient using JSX/ES6/HTML/CSS</li>\\n<li>Experience with Material UI or Ant Design</li>\\n<li>Champion best practices and performance improvements</li>\\n<li>Experience with automated testing suites like Jest, Enzyme and Cypress</li>\\n<li>Ability to debug a codebase in a self-sufficient manner</li>\\n<li>Excellent written and verbal communication</li>\\n<li>Knowledge of SOLID Principles, Domain Modelling, and Design Patterns is a major benefit</li>\\n<li>Ability to mentor and grow team members, provide technical guidance and oversight on implementation direction</li>\\n</ul>\\n<p><em>Nice to have:</em></p>\\n<ul>\\n<li>Experience with Python or other server-side languages</li>\\n<li>Experience with Docker and AWS and CI/CD like GitHub Actions</li>\\n<li>Experience with WebRTC, RTMP and video codecs</li>\\n</ul>\\n<p><em>Some of the interesting things you will get to work on:</em></p>\\n<ul>\\n<li>Changing the way our app loads (cache-first to network-first strategy)</li>\\n<li>Utilizing Redux and dynamic reducers</li>\\n<li>React based page builder that generates React components with API integration</li>\\n<li>Adding more engagement features (chat/group discussions/1:1 video meetings/breakout rooms)</li>\\n</ul>\\n<p><strong>Remote Workspace Requirements</strong></p>\\n<ul>\\n<li>You have a safe, comfortable, and ergonomic workspace and working environment - a private and quiet workspace is vital for doing your best work!</li>\\n<li>You have a reliable ethernet connection of at least 30Mbps upload speed with wired connection or reliable WiFi at home.</li>\\n</ul>\\n<p><strong>What will you get from EventMobi?</strong></p>\\n<ul>\\n<li>We offer the experience of a life-time working with a dynamic, open-minded and diverse team, who are excited to come to work every day and passionate about what they do and the clients they help</li>\\n<li>Competitive compensation</li>\\n<li>Company Stock-Options</li>\\n<li>A great culture with much more along the way</li>\\n</ul>\\n<p><strong>About EventMobi</strong></p>\\n<p>We\\'re focused on building the most comprehensive &amp; extensible event management platform to help planners create incredible event experiences online or in-person. We believe that events bring people together to enable change. This has never been more clear in the time of COVID-19. We\\'ve already changed how 20,000+ events in 70+ countries use technology at their events. Since the launch of our Virtual Platform, hundreds of organizations have taken their events online with EventMobi. We are seeing astonishing growth opportunities for virtual events and online conferences, and are looking forward to influencing hundreds of thousands of future events.</p>\\n<p>EventMobi is a remote-first company with a distributed global workforce. We do have local offices in Toronto, Manila and Berlin but everyone is equal and communicates the same way regardless if you work from home or from the office. We are improving our working culture to be more asynchronous, with better documentation, goal setting and collaborative technologies for remote work. Being accountable for our work, along with effective planning and communication to deliver results is a critical aspect of our success as a remote-first company. We offer flexible work hours in local time zones and encourage healthy work life balance.</p>\\n<p>If you are interested in seeing EventMobi in action, check out some of the videos below:</p>\\n<ul>\\n<li><a href=\"https://www.youtube.com/watch?v=tWW9jB85S3w&amp;t=2s\">The Experience Manager Platform</a></li>\\n<li><a href=\"https://www.youtube.com/watch?v=hmJpVOe5dRE\">The EventMobi Mobile Event App</a></li>\\n<li>\\n<a href=\"https://thenatureofevents.com/\">“The Nature of Events”</a> - a fun video showcasing the EventMobi Team</li>\\n<li>Top brands and organizations from around the world have used EventMobi’s event app technology to create incredible event experiences - <a href=\"https://www.eventmobi.com/customers/\">hear directly from our customers.</a>\\n</li>\\n</ul>\\n',\n",
       "  'how_to_apply': '<p>Please visit <a href=\"https://eventmobi.bamboohr.com/jobs/view.php?id=75&amp;source=github\">https://eventmobi.bamboohr.com/jobs/view.php?id=75&amp;source=github</a> and click \"Apply for This Job\"</p>\\n',\n",
       "  'company_logo': 'https://jobs.github.com/rails/active_storage/blobs/eyJfcmFpbHMiOnsibWVzc2FnZSI6IkJBaHBBdENXIiwiZXhwIjpudWxsLCJwdXIiOiJibG9iX2lkIn19--78d9681a7475e92db796ae3c406ce4f8d2640864/em-logo.jpg'},\n",
       " {'id': '5a59ed8b-69bc-4919-8ad9-9cec588fb0fd',\n",
       "  'type': 'Full Time',\n",
       "  'url': 'https://jobs.github.com/positions/5a59ed8b-69bc-4919-8ad9-9cec588fb0fd',\n",
       "  'created_at': 'Tue Jan 26 13:10:42 UTC 2021',\n",
       "  'company': 'Startupz',\n",
       "  'company_url': 'http://www.startupz.com',\n",
       "  'location': 'remotely',\n",
       "  'title': 'Full Stack Developer (Ruby + React stack)',\n",
       "  'description': '<p><strong>Intro</strong></p>\\n<p>Startupz is hiring a Full Stack Developer to help us build and maintain the apps at our different startups. If you like a dynamic work situation and working on the cutting edge in your code, this is the job for you!</p>\\n<p>We are accepting applications for the next two months and we fill the open position as soon as we’ve found the right candidate.</p>\\n<p><strong>About the Position</strong></p>\\n<p><em>Full Stack Developer</em></p>\\n<p>You’ll be joining our team in building our apps and pushing the bar by building new features.</p>\\n<p>We typically use a Ruby(-on-Rails), React stack that we host on AWS. We like well-structured light-weight code that’s easy to understand and to work with.</p>\\n<p>We have a clearly defined product development process and work from detailed interaction designs.</p>\\n<p>During the daily standups we share our progress and discuss next tasks. It’s also a great moment for sharing knowledge and challenges.</p>\\n<p>You have a lot of autonomy with regards to deciding what the best solution is for the tasks you work on.</p>\\n<p><strong>About Startupz</strong></p>\\n<p>Startupz is a startup studio that develops and launches new companies. We develop innovative products, systems and services, \\u2028 and then build teams to scale them into companies.</p>\\n<p>Some of the things we do: we work to eliminate language barriers at Tolq.com, protect your privacy at LegalSite.co and make the internet safer at Codekeeper.co.</p>\\n<p>Check out our projects to get an idea of what we like to work on (please note: pre-launch projects are not on our website yet).</p>\\n<p>We are remote-first and have a central office in The Hague.</p>\\n<p>We have a ‘startup-like’ mentality and work inside a larger group of hi-tech web companies.</p>\\n<p><em>What else can you expect from us?</em></p>\\n<ul>\\n<li>Enthusiastic and fun colleagues</li>\\n<li>Startup mentality and possibilities</li>\\n<li>Friday afternoon drinks and/or (theme)parties (when COVID allows)</li>\\n</ul>\\n<p>You can expect a mindful onboarding process with ramp-up and time to learn. You can expect a team that listens, and to be heard. You can expect to give and provide direct feedback. You can expect to be counted on. You can expect to do your best work and build a career here.</p>\\n<p>We build our apps, our teams, and our company for the long haul, with a strong eye to other teams’ effectiveness &amp; happiness, from design to support and operations. A healthy, resilient app starts with a healthy, resilient organization.</p>\\n<p><strong>About You</strong></p>\\n<p>We are looking for someone who is ready for this challenge with a getting things done work spirit.</p>\\n<p><em>Skills</em></p>\\n<ul>\\n<li>You have experience working with Ruby-on-Rails</li>\\n<li>You have a good sense of React</li>\\n<li>You are crazy about building beautiful and intuitive interfaces and solid scalable backend</li>\\n<li>You are driven and enthusiastic</li>\\n<li>Your communication skills in English are proficient</li>\\n<li>You are comfortable to adapt and multitask in a fast-paced environment</li>\\n</ul>\\n<p><em>Experience</em></p>\\n<ul>\\n<li>Experience with Ruby, Python or Node.js</li>\\n</ul>\\n<p><strong>How to Apply</strong></p>\\n<p>You can apply via <a href=\"https://startupzcom.recruitee.com/o/full-stack-developer-ruby-react-stack-den-haag\">https://startupzcom.recruitee.com/o/full-stack-developer-ruby-react-stack-den-haag</a></p>\\n<p>Please send an application that speaks directly to how you would like to fill this position. There are no right answers or expectations. Show us your role in Startupz’s future and our role in yours. Address some of the work we do. Introduce yourself as a colleague. Feel free to respond in either Dutch or English.</p>\\n',\n",
       "  'how_to_apply': '<p><a href=\"https://startupzcom.recruitee.com/o/full-stack-developer-ruby-react-stack-den-haag\">https://startupzcom.recruitee.com/o/full-stack-developer-ruby-react-stack-den-haag</a></p>\\n',\n",
       "  'company_logo': 'https://jobs.github.com/rails/active_storage/blobs/eyJfcmFpbHMiOnsibWVzc2FnZSI6IkJBaHBBc3FXIiwiZXhwIjpudWxsLCJwdXIiOiJibG9iX2lkIn19--bada9463a08007570c432e2f83208165926664fb/thumb_photo_1559576151.png'}]"
      ]
     },
     "execution_count": 35,
     "metadata": {},
     "output_type": "execute_result"
    }
   ],
   "source": [
    "# fornece uma lista de elementos no formato json\n",
    "response.json()"
   ]
  },
  {
   "cell_type": "code",
   "execution_count": 36,
   "metadata": {
    "ExecuteTime": {
     "end_time": "2021-02-13T15:00:59.516660Z",
     "start_time": "2021-02-13T15:00:59.465243Z"
    }
   },
   "outputs": [
    {
     "data": {
      "text/html": [
       "<div>\n",
       "<style scoped>\n",
       "    .dataframe tbody tr th:only-of-type {\n",
       "        vertical-align: middle;\n",
       "    }\n",
       "\n",
       "    .dataframe tbody tr th {\n",
       "        vertical-align: top;\n",
       "    }\n",
       "\n",
       "    .dataframe thead th {\n",
       "        text-align: right;\n",
       "    }\n",
       "</style>\n",
       "<table border=\"1\" class=\"dataframe\">\n",
       "  <thead>\n",
       "    <tr style=\"text-align: right;\">\n",
       "      <th></th>\n",
       "      <th>id</th>\n",
       "      <th>type</th>\n",
       "      <th>url</th>\n",
       "      <th>created_at</th>\n",
       "      <th>company</th>\n",
       "      <th>company_url</th>\n",
       "      <th>location</th>\n",
       "      <th>title</th>\n",
       "      <th>description</th>\n",
       "      <th>how_to_apply</th>\n",
       "      <th>company_logo</th>\n",
       "    </tr>\n",
       "  </thead>\n",
       "  <tbody>\n",
       "    <tr>\n",
       "      <th>0</th>\n",
       "      <td>ba68c375-adf4-4317-8328-8bd82079fc61</td>\n",
       "      <td>Full Time</td>\n",
       "      <td>https://jobs.github.com/positions/ba68c375-adf...</td>\n",
       "      <td>Sat Feb 13 01:29:29 UTC 2021</td>\n",
       "      <td>Nav Inc.</td>\n",
       "      <td>None</td>\n",
       "      <td>Remote</td>\n",
       "      <td>Backend Software Engineer</td>\n",
       "      <td>&lt;p&gt;Backend Software Engineer - Remote or In Of...</td>\n",
       "      <td>&lt;p&gt;&lt;a href=\"https://nav.bamboohr.com/jobs/view...</td>\n",
       "      <td>https://jobs.github.com/rails/active_storage/b...</td>\n",
       "    </tr>\n",
       "  </tbody>\n",
       "</table>\n",
       "</div>"
      ],
      "text/plain": [
       "                                     id       type  \\\n",
       "0  ba68c375-adf4-4317-8328-8bd82079fc61  Full Time   \n",
       "\n",
       "                                                 url  \\\n",
       "0  https://jobs.github.com/positions/ba68c375-adf...   \n",
       "\n",
       "                     created_at   company company_url location  \\\n",
       "0  Sat Feb 13 01:29:29 UTC 2021  Nav Inc.        None   Remote   \n",
       "\n",
       "                       title  \\\n",
       "0  Backend Software Engineer   \n",
       "\n",
       "                                         description  \\\n",
       "0  <p>Backend Software Engineer - Remote or In Of...   \n",
       "\n",
       "                                        how_to_apply  \\\n",
       "0  <p><a href=\"https://nav.bamboohr.com/jobs/view...   \n",
       "\n",
       "                                        company_logo  \n",
       "0  https://jobs.github.com/rails/active_storage/b...  "
      ]
     },
     "execution_count": 36,
     "metadata": {},
     "output_type": "execute_result"
    }
   ],
   "source": [
    "# Transforma a lista em um data frame para ser acessado\n",
    "df = pd.DataFrame(response.json()[0], index = [0]) # index=[0] signifca contar os dados a partir do 0\n",
    "df.head()"
   ]
  },
  {
   "cell_type": "code",
   "execution_count": 37,
   "metadata": {
    "ExecuteTime": {
     "end_time": "2021-02-13T15:00:59.612132Z",
     "start_time": "2021-02-13T15:00:59.520006Z"
    }
   },
   "outputs": [
    {
     "data": {
      "text/html": [
       "<div>\n",
       "<style scoped>\n",
       "    .dataframe tbody tr th:only-of-type {\n",
       "        vertical-align: middle;\n",
       "    }\n",
       "\n",
       "    .dataframe tbody tr th {\n",
       "        vertical-align: top;\n",
       "    }\n",
       "\n",
       "    .dataframe thead th {\n",
       "        text-align: right;\n",
       "    }\n",
       "</style>\n",
       "<table border=\"1\" class=\"dataframe\">\n",
       "  <thead>\n",
       "    <tr style=\"text-align: right;\">\n",
       "      <th></th>\n",
       "      <th>id</th>\n",
       "      <th>type</th>\n",
       "    </tr>\n",
       "  </thead>\n",
       "  <tbody>\n",
       "    <tr>\n",
       "      <th>0</th>\n",
       "      <td>ba68c375-adf4-4317-8328-8bd82079fc61</td>\n",
       "      <td>Full Time</td>\n",
       "    </tr>\n",
       "  </tbody>\n",
       "</table>\n",
       "</div>"
      ],
      "text/plain": [
       "                                     id       type\n",
       "0  ba68c375-adf4-4317-8328-8bd82079fc61  Full Time"
      ]
     },
     "execution_count": 37,
     "metadata": {},
     "output_type": "execute_result"
    }
   ],
   "source": [
    "# Acessando colunas especificias do json\n",
    "df[['id','type']].head()"
   ]
  },
  {
   "cell_type": "code",
   "execution_count": 38,
   "metadata": {
    "ExecuteTime": {
     "end_time": "2021-02-13T15:01:03.816501Z",
     "start_time": "2021-02-13T15:00:59.615571Z"
    }
   },
   "outputs": [
    {
     "name": "stdout",
     "output_type": "stream",
     "text": [
      "page:1\n",
      "page:2\n",
      "page:3\n"
     ]
    }
   ],
   "source": [
    "# Colocando a requisição em um laço \"While\" para pegar todas as páginas possíveis, mesmo não sabendo quantas páginas são.\n",
    "import requests as r  # importa a biblioteca que fará a requisição\n",
    "\n",
    "dataset = pd.DataFrame ()\n",
    "i = 1\n",
    "while True:\n",
    "    print('page:{}'.format(i))\n",
    "    url = 'https://jobs.github.com/positions.json?description=python&page={}'.format(i)\n",
    "    response = r.request('GET', url) # método 'GET', captura as informações atráves da url fornecida\n",
    "    \n",
    "    if response.json() != []:\n",
    "        data = response.json()[0]\n",
    "        df = pd.DataFrame (data, index=[0])\n",
    "        \n",
    "        dataset = pd.concat ([dataset, df], axis= 0)\n",
    "        i = i+1\n",
    "    else:\n",
    "        break"
   ]
  },
  {
   "cell_type": "code",
   "execution_count": 39,
   "metadata": {
    "ExecuteTime": {
     "end_time": "2021-02-13T15:01:04.991114Z",
     "start_time": "2021-02-13T15:01:03.823030Z"
    }
   },
   "outputs": [],
   "source": [
    "# https://geopy.readthedocs.io/en/stable/\n",
    "# bivlioteca de geolocaçizção em python\n",
    "from geopy.geocoders import Nominatim"
   ]
  },
  {
   "cell_type": "code",
   "execution_count": 40,
   "metadata": {
    "ExecuteTime": {
     "end_time": "2021-02-13T15:01:05.020968Z",
     "start_time": "2021-02-13T15:01:04.998189Z"
    }
   },
   "outputs": [],
   "source": [
    "geolocator = Nominatim (user_agent = 'geoExer')"
   ]
  },
  {
   "cell_type": "code",
   "execution_count": 41,
   "metadata": {
    "ExecuteTime": {
     "end_time": "2021-02-13T15:01:06.083786Z",
     "start_time": "2021-02-13T15:01:05.028657Z"
    }
   },
   "outputs": [],
   "source": [
    "# resultado da API\n",
    "response = geolocator.reverse ('47.5112, -122.257') # a função pega o lat e o long, retoornando "
   ]
  },
  {
   "cell_type": "code",
   "execution_count": 42,
   "metadata": {
    "ExecuteTime": {
     "end_time": "2021-02-13T15:01:06.107878Z",
     "start_time": "2021-02-13T15:01:06.091589Z"
    }
   },
   "outputs": [
    {
     "data": {
      "text/plain": [
       "{'place_id': 147183522,\n",
       " 'licence': 'Data © OpenStreetMap contributors, ODbL 1.0. https://osm.org/copyright',\n",
       " 'osm_type': 'way',\n",
       " 'osm_id': 236673600,\n",
       " 'lat': '47.5112302',\n",
       " 'lon': '-122.25676111324441',\n",
       " 'display_name': '10012, 61st Avenue South, Rainier Beach, Seattle, King County, Washington, 98178, United States',\n",
       " 'address': {'house_number': '10012',\n",
       "  'road': '61st Avenue South',\n",
       "  'neighbourhood': 'Rainier Beach',\n",
       "  'city': 'Seattle',\n",
       "  'county': 'King County',\n",
       "  'state': 'Washington',\n",
       "  'postcode': '98178',\n",
       "  'country': 'United States',\n",
       "  'country_code': 'us'},\n",
       " 'boundingbox': ['47.511189', '47.5112943', '-122.2568571', '-122.2566651']}"
      ]
     },
     "execution_count": 42,
     "metadata": {},
     "output_type": "execute_result"
    }
   ],
   "source": [
    "# Mostra todos os atributos que estão na variável\n",
    "response.raw"
   ]
  },
  {
   "cell_type": "code",
   "execution_count": null,
   "metadata": {
    "ExecuteTime": {
     "end_time": "2021-02-13T15:01:49.777943Z",
     "start_time": "2021-02-13T15:00:55.600Z"
    }
   },
   "outputs": [],
   "source": [
    "# 3) Adicione as seguintes informações ao conjunto de dados original\n",
    "# Place ID: Identificação da localização\n",
    "# OSM Type: Open Street Map Type\n",
    "# Country: Nome do país\n",
    "# Country code: código do país"
   ]
  },
  {
   "cell_type": "code",
   "execution_count": null,
   "metadata": {
    "ExecuteTime": {
     "end_time": "2021-02-13T15:01:49.784872Z",
     "start_time": "2021-02-13T15:00:55.616Z"
    }
   },
   "outputs": [],
   "source": [
    "data.to_csv('dataset/kc_house_data_V2.csv', index = False)"
   ]
  },
  {
   "cell_type": "code",
   "execution_count": null,
   "metadata": {
    "ExecuteTime": {
     "end_time": "2021-02-13T15:01:49.781435Z",
     "start_time": "2021-02-13T15:00:55.613Z"
    }
   },
   "outputs": [],
   "source": [
    "data = pd.read_csv('dataset/kc_house_data.csv')\n",
    "\n",
    "# Criando novas variveis \n",
    "data['place_id']='NA'\n",
    "data['osm_type'] = 'NA'\n",
    "data['country'] = 'NA'\n",
    "data['country_code']='NA'\n",
    "\n",
    "geolocator = Nominatim (user_agent = 'geoExer')\n",
    "\n",
    "# populando o dataset\n",
    "for i in range(len(data)):\n",
    "    print('Loop: {} / {}'.format (i, len(data)))\n",
    "    query = str(data.loc[i,'lat'])+ ',' + str(data.loc[i,'long']) # fazendo a query no 'lat' e no 'long'\n",
    "    \n",
    "    response = geolocator.reverse (query) # Requisição na API\n",
    "    \n",
    "    # Populando o dataset\n",
    "    if 'place_id' in response.raw:\n",
    "        data.loc[i,'place_id'] = response.raw['place_id']\n",
    "        \n",
    "    if 'osm_type' in response.raw:\n",
    "        data.loc[i,'osm_type'] = response.raw['osm_type']\n",
    "    \n",
    "    if 'country' in response.raw['address']:\n",
    "        data.loc[i,'country'] = response.raw ['address']['country']\n",
    "        \n",
    "    if 'country_code' in response.raw['address']:\n",
    "        data.loc[i,'country_code'] = response.raw ['address']['country_code']\n",
    "          "
   ]
  },
  {
   "cell_type": "markdown",
   "metadata": {},
   "source": [
    "## Adicionando os filtros"
   ]
  },
  {
   "cell_type": "code",
   "execution_count": null,
   "metadata": {
    "ExecuteTime": {
     "end_time": "2021-02-13T15:01:49.789938Z",
     "start_time": "2021-02-13T15:00:55.623Z"
    }
   },
   "outputs": [],
   "source": [
    "# 4)Adicione os seguintes filtros no Mapa:\n",
    "# Tamanho minímo da área da sala de estar\n",
    "# Número minímo de banheiros\n",
    "# Valor máximo do preço\n",
    "# Tamanho máximo da área do porão\n",
    "# Filtro das condições do imóvel\n",
    "# Filtro por ano de construção"
   ]
  },
  {
   "cell_type": "code",
   "execution_count": 57,
   "metadata": {
    "ExecuteTime": {
     "end_time": "2021-02-13T15:03:53.984555Z",
     "start_time": "2021-02-13T15:03:52.266858Z"
    }
   },
   "outputs": [],
   "source": [
    "import plotly.express as px"
   ]
  },
  {
   "cell_type": "code",
   "execution_count": 52,
   "metadata": {
    "ExecuteTime": {
     "end_time": "2021-02-13T15:03:36.596280Z",
     "start_time": "2021-02-13T15:03:36.579326Z"
    }
   },
   "outputs": [],
   "source": [
    "import ipywidgets as widgets \n",
    "from ipywidgets import fixed"
   ]
  },
  {
   "cell_type": "code",
   "execution_count": 53,
   "metadata": {
    "ExecuteTime": {
     "end_time": "2021-02-13T15:03:38.390968Z",
     "start_time": "2021-02-13T15:03:38.297349Z"
    },
    "scrolled": true
   },
   "outputs": [],
   "source": [
    "data['is_waterfront'] = data['waterfront'].apply(lambda x: 'yes' if x == 1 else 'no')\n",
    "\n",
    "data['level'] = data ['price'].apply (lambda x: 0 if x < 321950 else\n",
    "                                      1 if (x > 321950) & (x < 450000) else\n",
    "                                      2 if (x > 450000) & (x < 645000) else 3)\n",
    "            \n",
    "data ['level'] = data ['level'].astype (int)\n",
    "style = {'decription_width': 'initial'}\n",
    "            \n",
    "# Botões interativos\n",
    "price_limit = widgets.IntSlider (value = 540000, min = 75000,max = 770000,step = 1,description = 'Maximun Price',disable = False,style = style)\n",
    "                               \n",
    "waterfront_bar = widgets.Dropdown(\n",
    "    options = data['is_waterfront'].unique().tolist(),\n",
    "    value = 'yes',\n",
    "    description = 'Water View',\n",
    "    disable = False)\n",
    "\n",
    "def update_map (data, waterfront, limit):  # função que trabalha com os dois botões\n",
    "        houses = data [(data['price'] <= limit) &  # filtro dos dados para os botões\n",
    "                      (data ['is_waterfront'] == waterfront)][['id','lat','long','price','level']]\n",
    "                        \n",
    "    \n",
    "        fig = px.scatter_mapbox(houses,\n",
    "                                lat = 'lat',       # utiliza a latitude e longitude para gerar um mapa\n",
    "                                lon = 'long',\n",
    "                                color = 'level',   # as cores das bolinhas vão variar de acordo com os níveis\n",
    "                                size = 'price',    # os tamanhos das bolinhas vão variar de acordo com os preços\n",
    "                                color_continuous_scale = px.colors.cyclical.IceFire,\n",
    "                                size_max = 15, \n",
    "                                zoom = 10 )  \n",
    "\n",
    "        fig.update_layout(mapbox_style = 'open-street-map') # estilo do mapa igual ao do Google\n",
    "        fig.update_layout (height = 600, margin = {'r':0, 't':0, 'l':0, 'b':0}) # define as margens a serem utilizadas\n",
    "        fig.show() # plota o mapa                    \n"
   ]
  },
  {
   "cell_type": "code",
   "execution_count": 54,
   "metadata": {
    "ExecuteTime": {
     "end_time": "2021-02-13T15:03:38.875772Z",
     "start_time": "2021-02-13T15:03:38.866036Z"
    }
   },
   "outputs": [
    {
     "data": {
      "application/vnd.jupyter.widget-view+json": {
       "model_id": "f592fb2a08a940cbaeb80da49085492f",
       "version_major": 2,
       "version_minor": 0
      },
      "text/plain": [
       "IntSlider(value=540000, description='Maximun Price', max=770000, min=75000)"
      ]
     },
     "metadata": {},
     "output_type": "display_data"
    }
   ],
   "source": [
    "price_limit # mostra a botão com o preço máximo"
   ]
  },
  {
   "cell_type": "code",
   "execution_count": 55,
   "metadata": {
    "ExecuteTime": {
     "end_time": "2021-02-13T15:03:39.376081Z",
     "start_time": "2021-02-13T15:03:39.357699Z"
    }
   },
   "outputs": [
    {
     "data": {
      "application/vnd.jupyter.widget-view+json": {
       "model_id": "a2a6e3199bd541fa88c5b77a4a85970c",
       "version_major": 2,
       "version_minor": 0
      },
      "text/plain": [
       "Dropdown(description='Water View', index=1, options=('no', 'yes'), value='yes')"
      ]
     },
     "metadata": {},
     "output_type": "display_data"
    }
   ],
   "source": [
    "# procurar por outros tipos de botões na página do Widget List\n",
    "waterfront_bar # mostra a botão com o \"sim\" e o \"não\""
   ]
  },
  {
   "cell_type": "code",
   "execution_count": 58,
   "metadata": {
    "ExecuteTime": {
     "end_time": "2021-02-13T15:04:19.362222Z",
     "start_time": "2021-02-13T15:03:58.882139Z"
    }
   },
   "outputs": [
    {
     "data": {
      "application/vnd.jupyter.widget-view+json": {
       "model_id": "d5803a326d0e45b0b239e1705a7de3c3",
       "version_major": 2,
       "version_minor": 0
      },
      "text/plain": [
       "interactive(children=(Dropdown(description='Water View', index=1, options=('no', 'yes'), value='yes'), IntSlid…"
      ]
     },
     "metadata": {},
     "output_type": "display_data"
    }
   ],
   "source": [
    "widgets.interactive(update_map, data=fixed(data), waterfront = waterfront_bar,limit = price_limit)# importando o mapa com os dados fixos, variando apenas as informações dos botões"
   ]
  },
  {
   "cell_type": "code",
   "execution_count": null,
   "metadata": {
    "ExecuteTime": {
     "end_time": "2021-02-13T15:01:49.813449Z",
     "start_time": "2021-02-13T15:00:55.695Z"
    }
   },
   "outputs": [],
   "source": [
    "# botão que mostra a quantidade de banheiros \n",
    "bathrooms_number = widgets.IntSlider (value = 8, min = 1,max = 8 ,step = 1,description = 'Number Bathrooms',disable = False,style = style)\n",
    "                 "
   ]
  },
  {
   "cell_type": "code",
   "execution_count": null,
   "metadata": {
    "ExecuteTime": {
     "end_time": "2021-02-13T15:01:49.815443Z",
     "start_time": "2021-02-13T15:00:55.712Z"
    }
   },
   "outputs": [],
   "source": [
    "# botão que mostra o ano de construçõa das casas\n",
    "year_house = widgets.IntSlider (value = 1900, min = 1900, max = 2015 ,step = 1,description = 'Year House',disable = False,style = style)\n",
    "                 "
   ]
  },
  {
   "cell_type": "code",
   "execution_count": 71,
   "metadata": {
    "ExecuteTime": {
     "end_time": "2021-02-13T15:37:39.117383Z",
     "start_time": "2021-02-13T15:37:39.025481Z"
    }
   },
   "outputs": [],
   "source": [
    "data['is_waterfront'] = data['waterfront'].apply(lambda x: 'yes' if x == 1 else 'no')\n",
    "\n",
    "data['level'] = data ['price'].apply (lambda x: 0 if x < 321950 else\n",
    "                                      1 if (x > 321950) & (x < 450000) else\n",
    "                                      2 if (x > 450000) & (x < 645000) else 3)\n",
    "            \n",
    "data ['level'] = data ['level'].astype (int)\n",
    "style = {'decription_width': 'initial'}\n",
    "            \n",
    "# Botões interativos\n",
    "price_limit = widgets.IntSlider (value = 540000, min = 75000,max = 770000,step = 1,description = 'Maximun Price',disable = False,style = style)\n",
    "bathrooms_number = widgets.IntSlider (value = 8, min = 1,max = 8 ,step = 1,description = 'Number Bathrooms',disable = False,style = style)\n",
    "year_house = widgets.IntSlider (value = 1900, min = 1900, max = 2015 ,step = 1,description = 'Year House',disable = False,style = style)\n",
    "                 \n",
    "\n",
    "\n",
    "def update_map (data, limit, limit_1, limit_2):  # função que trabalha com os dois botões\n",
    "        houses = data [(data['price'] <= limit) &  # filtro dos dados para os botões\n",
    "                      (data ['bathrooms'] <= limit_1) & \n",
    "                      (data ['yr_built'] <= limit_2)]\n",
    "                        \n",
    "    \n",
    "        fig = px.scatter_mapbox(houses,\n",
    "                                lat = 'lat',       # utiliza a latitude e longitude para gerar um mapa\n",
    "                                lon = 'long',\n",
    "                                color = 'level',   # as cores das bolinhas vão variar de acordo com os níveis\n",
    "                                size = 'price',    # os tamanhos das bolinhas vão variar de acordo com os preços\n",
    "                                color_continuous_scale = px.colors.cyclical.IceFire,\n",
    "                                size_max = 15, \n",
    "                                zoom = 10 )  \n",
    "\n",
    "        fig.update_layout(mapbox_style = 'open-street-map') # estilo do mapa igual ao do Google\n",
    "        fig.update_layout (height = 600, margin = {'r':0, 't':0, 'l':0, 'b':0}) # define as margens a serem utilizadas\n",
    "        fig.show() # plota o mapa                    \n"
   ]
  },
  {
   "cell_type": "code",
   "execution_count": null,
   "metadata": {
    "ExecuteTime": {
     "end_time": "2021-02-13T15:01:49.820431Z",
     "start_time": "2021-02-13T15:00:55.721Z"
    }
   },
   "outputs": [],
   "source": [
    "widgets.interactive(update_map, data=fixed(data), limit = price_limit, limit_1 = bathrooms_number, limit_2 = year_house)# importando o mapa com os dados fixos, variando apenas as informações dos botões"
   ]
  },
  {
   "cell_type": "code",
   "execution_count": null,
   "metadata": {
    "ExecuteTime": {
     "end_time": "2021-02-13T15:01:49.822426Z",
     "start_time": "2021-02-13T15:00:55.730Z"
    }
   },
   "outputs": [],
   "source": [
    "# 5) Adicione os seguintes filtros no Dashboard:\n",
    "# Filtro por data disponível para compra\n",
    "# Filtro por ano de renovação\n",
    "# Filtro se possui vista para o mar ou não\n"
   ]
  },
  {
   "cell_type": "code",
   "execution_count": null,
   "metadata": {
    "ExecuteTime": {
     "end_time": "2021-02-13T15:01:49.824420Z",
     "start_time": "2021-02-13T15:00:55.734Z"
    }
   },
   "outputs": [],
   "source": [
    "import ipywidgets as widgets\n",
    "from matplotlib import gridspec\n",
    "from matplotlib import pyplot as plt\n",
    "\n"
   ]
  },
  {
   "cell_type": "code",
   "execution_count": null,
   "metadata": {
    "ExecuteTime": {
     "end_time": "2021-02-13T15:01:49.828433Z",
     "start_time": "2021-02-13T15:00:55.750Z"
    }
   },
   "outputs": [],
   "source": [
    "widgets.interactive(update_map, data=fixed(data), limit = date_limit)"
   ]
  },
  {
   "cell_type": "code",
   "execution_count": 76,
   "metadata": {
    "ExecuteTime": {
     "end_time": "2021-02-16T01:29:22.048823Z",
     "start_time": "2021-02-16T01:29:17.747286Z"
    }
   },
   "outputs": [],
   "source": [
    "data = pd.read_csv('dataset/kc_house_data_V2.csv')\n",
    "style = {'decription_width': 'initial'}\n",
    "            \n",
    "# Botões interativos\n",
    "#price_limit = widgets.IntSlider (value = 540000, min = 75000,max = 770000,step = 1,description = 'Maximun Price',disable = False,style = style)\n",
    "#year_house = widgets.IntSlider (value = 1900, min = 1900, max = 2015 ,step = 1,description = 'Year House',disable = False,style = style)\n",
    "    \n",
    "# Conversões de unidades    \n",
    "data['is_waterfront'] = data['waterfront'].apply(lambda x: 'yes' if x == 1 else 'no')# define se tem ou não vista para o mar\n",
    "data['year'] = pd.to_datetime(data['date']).dt.strftime('%Y') #converte os dados de tempo pegando apenas o ano\n",
    "data['date'] = pd.to_datetime(data['date']).dt.strftime('%Y-%m-%d')\n",
    "\n",
    "\n",
    "# widgets to control data\n",
    "date_limit = widgets.SelectionSlider(\n",
    "    options = data['date'].sort_values().unique().tolist(),\n",
    "    value = '2014-12-01',\n",
    "    description = 'Disponível para compra',\n",
    "    continuous_update = False,\n",
    "    oritntation = 'horizontal',\n",
    "    readout = True )\n",
    "\n",
    "# widgets to control year renovated\n",
    "year_renovated = widgets.SelectionSlider(\n",
    "    options = data['year'].sort_values().unique().tolist(),\n",
    "    value = '2014',\n",
    "    description = 'Ano de renovação',\n",
    "    continuous_update = False,\n",
    "    oritntation = 'horizontal',\n",
    "    readout = True )\n",
    "\n",
    "# widgets to water front\n",
    "data['is_waterfront'] = data['waterfront'].apply(lambda x: 'yes' if x == 1 else 'no')\n",
    "\n",
    "waterfront_bar = widgets.Dropdown(\n",
    "    options = data['is_waterfront'].unique().tolist(),\n",
    "    value = 'yes',\n",
    "    description = 'Vista para o mar',\n",
    "    disable = False)\n",
    "\n",
    "def update_map (data, limit, waterfront, limit_1):# função que trabalha com os dois botões\n",
    "    df = data [(data['price'] <= limit) & (data ['yr_built'] <= limit_1) & ((data ['is_waterfront'] == waterfront) [['id','lat','long','price','level']])] \n",
    "                      \n",
    "    fig = plt.figure(figsize = (21,12))\n",
    "    specs = gridspec.GridSpec(ncols = 2, nrows = 2, figure=fig)\n",
    "    \n",
    "    ax1 = fig.add_subplot(specs[0, :])\n",
    "    ax2 = fig.add_subplot(specs[1, 0])\n",
    "    ax3 = fig.add_subplot(specs[1, 1])\n",
    "\n",
    "    by_year = df[['id','year']].groupby('year').sum().reset_index()\n",
    "    ax1.bar(by_year['year'],by_year['id'])\n",
    "\n",
    "    by_day = df[['id','date']].groupby('date').mean().reset_index()\n",
    "    ax2.plot(by_day['date'],by_day['id'])\n",
    "    ax2.set_title('title: Avg Price by Day')\n",
    "\n",
    "\n",
    "    by_week_of_year = df[['id','year_week']].groupby('year_week').mean().reset_index()\n",
    "    ax3.bar(by_week_of_year['year_week'],by_week_of_year['id'])\n",
    "    ax3.set_title('title: Avg Price by week of year')\n",
    "    plt.xticks (rotation = 60) \n",
    "\n",
    "        "
   ]
  },
  {
   "cell_type": "code",
   "execution_count": 77,
   "metadata": {
    "ExecuteTime": {
     "end_time": "2021-02-16T01:29:23.361696Z",
     "start_time": "2021-02-16T01:29:22.052532Z"
    }
   },
   "outputs": [
    {
     "data": {
      "application/vnd.jupyter.widget-view+json": {
       "model_id": "6dad48cfec644b57a43cd2ca6c10348d",
       "version_major": 2,
       "version_minor": 0
      },
      "text/plain": [
       "interactive(children=(IntSlider(value=540000, description='Maximun Price', max=770000, min=75000), Dropdown(de…"
      ]
     },
     "metadata": {},
     "output_type": "display_data"
    }
   ],
   "source": [
    "widgets.interactive(update_map, data=fixed(data), limit = price_limit, waterfront = waterfront_bar, limit_1 = year_renovated )"
   ]
  },
  {
   "cell_type": "code",
   "execution_count": null,
   "metadata": {},
   "outputs": [],
   "source": []
  }
 ],
 "metadata": {
  "kernelspec": {
   "display_name": "Python 3",
   "language": "python",
   "name": "python3"
  },
  "language_info": {
   "codemirror_mode": {
    "name": "ipython",
    "version": 3
   },
   "file_extension": ".py",
   "mimetype": "text/x-python",
   "name": "python",
   "nbconvert_exporter": "python",
   "pygments_lexer": "ipython3",
   "version": "3.8.5"
  }
 },
 "nbformat": 4,
 "nbformat_minor": 4
}
